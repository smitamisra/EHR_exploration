{
 "cells": [
  {
   "cell_type": "code",
   "execution_count": 1,
   "id": "f49f9e91",
   "metadata": {},
   "outputs": [
    {
     "name": "stderr",
     "output_type": "stream",
     "text": [
      "[nltk_data] Downloading package stopwords to\n",
      "[nltk_data]     C:\\Users\\upadh\\AppData\\Roaming\\nltk_data...\n",
      "[nltk_data]   Package stopwords is already up-to-date!\n",
      "[nltk_data] Downloading package punkt to\n",
      "[nltk_data]     C:\\Users\\upadh\\AppData\\Roaming\\nltk_data...\n",
      "[nltk_data]   Package punkt is already up-to-date!\n"
     ]
    }
   ],
   "source": [
    "import pandas as pd\n",
    "from collections import Counter\n",
    "import re\n",
    "import numpy as np\n",
    "\n",
    "%matplotlib inline\n",
    "import matplotlib\n",
    "import matplotlib.pyplot as plt\n",
    "\n",
    "\n",
    "import glob\n",
    "from tqdm.notebook import tqdm\n",
    "\n",
    "from sklearn.feature_extraction.text import CountVectorizer\n",
    "from sklearn.model_selection import train_test_split\n",
    "from sklearn.metrics import accuracy_score, confusion_matrix\n",
    "from sklearn.metrics.pairwise import cosine_similarity\n",
    "\n",
    "from scipy import sparse\n",
    "from scipy.sparse.linalg import svds\n",
    "\n",
    "\n",
    "from nltk.tokenize import sent_tokenize, word_tokenize, regexp_tokenize\n",
    "from nltk.corpus import stopwords\n",
    "\n",
    "import nltk\n",
    "nltk.download('stopwords')\n",
    "\n",
    "import nltk\n",
    "nltk.download('punkt')\n",
    "\n",
    "from sklearn.model_selection import train_test_split\n",
    "from sklearn.feature_extraction.text import TfidfVectorizer\n",
    "from sklearn.naive_bayes import MultinomialNB\n",
    "from sklearn.metrics import accuracy_score\n",
    "from sklearn.multiclass import OneVsRestClassifier\n",
    "from nltk.corpus import stopwords\n",
    "stop_words = set(stopwords.words('english'))\n",
    "from sklearn.svm import LinearSVC\n",
    "from sklearn.linear_model import LogisticRegression\n",
    "from sklearn.pipeline import Pipeline\n",
    "import seaborn as sns\n"
   ]
  },
  {
   "cell_type": "code",
   "execution_count": 2,
   "id": "219fbcda",
   "metadata": {},
   "outputs": [],
   "source": [
    "df4model = pd.read_csv('../data/df4model.csv')"
   ]
  },
  {
   "cell_type": "code",
   "execution_count": 3,
   "id": "586a8f75",
   "metadata": {},
   "outputs": [
    {
     "name": "stdout",
     "output_type": "stream",
     "text": [
      "(176840,)\n",
      "(87101,)\n"
     ]
    }
   ],
   "source": [
    "categories = ['icd_E11', 'icd_E78','icd_E87', 'icd_F32', 'icd_I16', 'icd_I50', 'icd_N17', 'icd_Y92','icd_Z85']\n",
    "\n",
    "variables = [ 'history_present_illness', 'past_medcal_history', 'social_history', 'family_history',\n",
    "       'physical_exam', 'pertinent_results', 'hospital_course',\n",
    "       'medication_on_admission', 'medication_on_discharge',\n",
    "       'discharge_disposition', 'discharge_diagnosis', 'discharge_condition',\n",
    "       'discharge_instruction'] \n",
    "\n",
    "df4model['dis_mer'] = (df4model['discharge_disposition']+ df4model['discharge_diagnosis']\n",
    "                        + df4model['discharge_condition']+ df4model['discharge_instruction']) #these are object do we need to use astype(str)\n",
    "\n",
    "train, test = train_test_split(df4model, random_state=42, test_size=0.33, shuffle=True)\n",
    "X_train = train.discharge_instruction.fillna(' ')\n",
    "X_test = test.discharge_instruction.fillna(' ')\n",
    "y_train = train[categories]\n",
    "y_test = test[categories]\n",
    "\n",
    "print(X_train.shape)\n",
    "print(X_test.shape)"
   ]
  },
  {
   "cell_type": "code",
   "execution_count": 4,
   "id": "1a790360",
   "metadata": {},
   "outputs": [
    {
     "name": "stdout",
     "output_type": "stream",
     "text": [
      "... Processing icd_E11\n",
      "Test accuracy is 0.7027359042950139\n",
      "... Processing icd_E78\n",
      "Test accuracy is 0.609970034787201\n",
      "... Processing icd_E87\n",
      "Test accuracy is 0.7906568236874433\n",
      "... Processing icd_F32\n",
      "Test accuracy is 0.7970861413761036\n",
      "... Processing icd_I16\n",
      "Test accuracy is 0.6978794732551865\n",
      "... Processing icd_I50\n",
      "Test accuracy is 0.8417584183878486\n",
      "... Processing icd_N17\n",
      "Test accuracy is 0.8223786179263154\n",
      "... Processing icd_Y92\n",
      "Test accuracy is 0.8178780955442532\n",
      "... Processing icd_Z85\n",
      "Test accuracy is 0.8020459007359273\n",
      "       icd_E11  icd_E78  icd_E87  icd_F32  icd_I16  icd_I50  icd_N17  icd_Y92  \\\n",
      "0            0        1        0        0        0        0        0        0   \n",
      "1            0        0        0        0        1        0        0        0   \n",
      "2            0        0        0        0        0        0        0        0   \n",
      "3            0        0        0        0        0        0        1        0   \n",
      "4            0        0        0        0        0        0        0        0   \n",
      "...        ...      ...      ...      ...      ...      ...      ...      ...   \n",
      "87096        0        0        1        0        0        0        0        0   \n",
      "87097        0        0        0        0        0        0        0        0   \n",
      "87098        0        0        0        0        0        0        0        0   \n",
      "87099        0        0        1        0        0        0        0        0   \n",
      "87100        0        1        0        0        0        1        0        0   \n",
      "\n",
      "       icd_Z85  \n",
      "0            0  \n",
      "1            0  \n",
      "2            0  \n",
      "3            0  \n",
      "4            0  \n",
      "...        ...  \n",
      "87096        0  \n",
      "87097        0  \n",
      "87098        0  \n",
      "87099        0  \n",
      "87100        0  \n",
      "\n",
      "[87101 rows x 9 columns]\n"
     ]
    }
   ],
   "source": [
    "# traing classifier\n",
    "\n",
    "# Define a pipeline combining a text feature extractor with multi lable classifier\n",
    "NB_pipeline = Pipeline([\n",
    "                ('tfidf', TfidfVectorizer(stop_words=list(stop_words))),\n",
    "                ('clf', OneVsRestClassifier(MultinomialNB(\n",
    "                    fit_prior=True, class_prior=None))),\n",
    "            ])\n",
    "\n",
    "var_pre = {}\n",
    "\n",
    "\n",
    "for category in categories:\n",
    "    print('... Processing {}'.format(category))\n",
    "    \n",
    "    NB_pipeline.fit(X_train, train[category])\n",
    "    # compute the testing accuracy\n",
    "    prediction = NB_pipeline.predict(X_test)\n",
    "    var_pre[category] = prediction\n",
    "    \n",
    "    \n",
    "    print('Test accuracy is {}'.format(accuracy_score(test[category], prediction)))\n",
    "\n",
    "nb_pred = pd.DataFrame(var_pre)\n",
    "\n",
    "print(nb_pred)"
   ]
  },
  {
   "cell_type": "code",
   "execution_count": 5,
   "id": "4b4939a1",
   "metadata": {},
   "outputs": [
    {
     "data": {
      "text/html": [
       "<div>\n",
       "<style scoped>\n",
       "    .dataframe tbody tr th:only-of-type {\n",
       "        vertical-align: middle;\n",
       "    }\n",
       "\n",
       "    .dataframe tbody tr th {\n",
       "        vertical-align: top;\n",
       "    }\n",
       "\n",
       "    .dataframe thead th {\n",
       "        text-align: right;\n",
       "    }\n",
       "</style>\n",
       "<table border=\"1\" class=\"dataframe\">\n",
       "  <thead>\n",
       "    <tr style=\"text-align: right;\">\n",
       "      <th></th>\n",
       "      <th>icd_E11</th>\n",
       "      <th>icd_E78</th>\n",
       "      <th>icd_E87</th>\n",
       "      <th>icd_F32</th>\n",
       "      <th>icd_I16</th>\n",
       "      <th>icd_I50</th>\n",
       "      <th>icd_N17</th>\n",
       "      <th>icd_Y92</th>\n",
       "      <th>icd_Z85</th>\n",
       "    </tr>\n",
       "  </thead>\n",
       "  <tbody>\n",
       "    <tr>\n",
       "      <th>4039</th>\n",
       "      <td>0</td>\n",
       "      <td>1</td>\n",
       "      <td>0</td>\n",
       "      <td>0</td>\n",
       "      <td>1</td>\n",
       "      <td>1</td>\n",
       "      <td>0</td>\n",
       "      <td>0</td>\n",
       "      <td>0</td>\n",
       "    </tr>\n",
       "    <tr>\n",
       "      <th>196957</th>\n",
       "      <td>0</td>\n",
       "      <td>0</td>\n",
       "      <td>0</td>\n",
       "      <td>1</td>\n",
       "      <td>1</td>\n",
       "      <td>0</td>\n",
       "      <td>0</td>\n",
       "      <td>1</td>\n",
       "      <td>0</td>\n",
       "    </tr>\n",
       "    <tr>\n",
       "      <th>68719</th>\n",
       "      <td>1</td>\n",
       "      <td>1</td>\n",
       "      <td>0</td>\n",
       "      <td>0</td>\n",
       "      <td>1</td>\n",
       "      <td>0</td>\n",
       "      <td>0</td>\n",
       "      <td>0</td>\n",
       "      <td>0</td>\n",
       "    </tr>\n",
       "    <tr>\n",
       "      <th>18633</th>\n",
       "      <td>0</td>\n",
       "      <td>1</td>\n",
       "      <td>0</td>\n",
       "      <td>0</td>\n",
       "      <td>0</td>\n",
       "      <td>1</td>\n",
       "      <td>1</td>\n",
       "      <td>0</td>\n",
       "      <td>0</td>\n",
       "    </tr>\n",
       "    <tr>\n",
       "      <th>92713</th>\n",
       "      <td>1</td>\n",
       "      <td>0</td>\n",
       "      <td>0</td>\n",
       "      <td>0</td>\n",
       "      <td>0</td>\n",
       "      <td>0</td>\n",
       "      <td>0</td>\n",
       "      <td>0</td>\n",
       "      <td>0</td>\n",
       "    </tr>\n",
       "  </tbody>\n",
       "</table>\n",
       "</div>"
      ],
      "text/plain": [
       "        icd_E11  icd_E78  icd_E87  icd_F32  icd_I16  icd_I50  icd_N17  \\\n",
       "4039          0        1        0        0        1        1        0   \n",
       "196957        0        0        0        1        1        0        0   \n",
       "68719         1        1        0        0        1        0        0   \n",
       "18633         0        1        0        0        0        1        1   \n",
       "92713         1        0        0        0        0        0        0   \n",
       "\n",
       "        icd_Y92  icd_Z85  \n",
       "4039          0        0  \n",
       "196957        1        0  \n",
       "68719         0        0  \n",
       "18633         0        0  \n",
       "92713         0        0  "
      ]
     },
     "execution_count": 5,
     "metadata": {},
     "output_type": "execute_result"
    }
   ],
   "source": [
    "y_test.head(5)"
   ]
  },
  {
   "cell_type": "code",
   "execution_count": 6,
   "id": "94befa83",
   "metadata": {},
   "outputs": [
    {
     "data": {
      "text/html": [
       "<div>\n",
       "<style scoped>\n",
       "    .dataframe tbody tr th:only-of-type {\n",
       "        vertical-align: middle;\n",
       "    }\n",
       "\n",
       "    .dataframe tbody tr th {\n",
       "        vertical-align: top;\n",
       "    }\n",
       "\n",
       "    .dataframe thead th {\n",
       "        text-align: right;\n",
       "    }\n",
       "</style>\n",
       "<table border=\"1\" class=\"dataframe\">\n",
       "  <thead>\n",
       "    <tr style=\"text-align: right;\">\n",
       "      <th></th>\n",
       "      <th>icd_E11</th>\n",
       "      <th>icd_E78</th>\n",
       "      <th>icd_E87</th>\n",
       "      <th>icd_F32</th>\n",
       "      <th>icd_I16</th>\n",
       "      <th>icd_I50</th>\n",
       "      <th>icd_N17</th>\n",
       "      <th>icd_Y92</th>\n",
       "      <th>icd_Z85</th>\n",
       "    </tr>\n",
       "  </thead>\n",
       "  <tbody>\n",
       "    <tr>\n",
       "      <th>0</th>\n",
       "      <td>0</td>\n",
       "      <td>1</td>\n",
       "      <td>0</td>\n",
       "      <td>0</td>\n",
       "      <td>0</td>\n",
       "      <td>0</td>\n",
       "      <td>0</td>\n",
       "      <td>0</td>\n",
       "      <td>0</td>\n",
       "    </tr>\n",
       "    <tr>\n",
       "      <th>1</th>\n",
       "      <td>0</td>\n",
       "      <td>0</td>\n",
       "      <td>0</td>\n",
       "      <td>0</td>\n",
       "      <td>1</td>\n",
       "      <td>0</td>\n",
       "      <td>0</td>\n",
       "      <td>0</td>\n",
       "      <td>0</td>\n",
       "    </tr>\n",
       "    <tr>\n",
       "      <th>2</th>\n",
       "      <td>0</td>\n",
       "      <td>0</td>\n",
       "      <td>0</td>\n",
       "      <td>0</td>\n",
       "      <td>0</td>\n",
       "      <td>0</td>\n",
       "      <td>0</td>\n",
       "      <td>0</td>\n",
       "      <td>0</td>\n",
       "    </tr>\n",
       "    <tr>\n",
       "      <th>3</th>\n",
       "      <td>0</td>\n",
       "      <td>0</td>\n",
       "      <td>0</td>\n",
       "      <td>0</td>\n",
       "      <td>0</td>\n",
       "      <td>0</td>\n",
       "      <td>1</td>\n",
       "      <td>0</td>\n",
       "      <td>0</td>\n",
       "    </tr>\n",
       "    <tr>\n",
       "      <th>4</th>\n",
       "      <td>0</td>\n",
       "      <td>0</td>\n",
       "      <td>0</td>\n",
       "      <td>0</td>\n",
       "      <td>0</td>\n",
       "      <td>0</td>\n",
       "      <td>0</td>\n",
       "      <td>0</td>\n",
       "      <td>0</td>\n",
       "    </tr>\n",
       "  </tbody>\n",
       "</table>\n",
       "</div>"
      ],
      "text/plain": [
       "   icd_E11  icd_E78  icd_E87  icd_F32  icd_I16  icd_I50  icd_N17  icd_Y92  \\\n",
       "0        0        1        0        0        0        0        0        0   \n",
       "1        0        0        0        0        1        0        0        0   \n",
       "2        0        0        0        0        0        0        0        0   \n",
       "3        0        0        0        0        0        0        1        0   \n",
       "4        0        0        0        0        0        0        0        0   \n",
       "\n",
       "   icd_Z85  \n",
       "0        0  \n",
       "1        0  \n",
       "2        0  \n",
       "3        0  \n",
       "4        0  "
      ]
     },
     "execution_count": 6,
     "metadata": {},
     "output_type": "execute_result"
    }
   ],
   "source": [
    "nb_pred.head(5)"
   ]
  },
  {
   "cell_type": "code",
   "execution_count": 7,
   "id": "54ff7416",
   "metadata": {},
   "outputs": [],
   "source": [
    "y_true = y_test.to_numpy()\n",
    "y_pred = nb_pred.to_numpy()"
   ]
  },
  {
   "cell_type": "code",
   "execution_count": 8,
   "id": "c0e1e44a",
   "metadata": {},
   "outputs": [
    {
     "name": "stdout",
     "output_type": "stream",
     "text": [
      "Accuracy Score with the discharge_instruction as variable is 0.17546106390265603\n"
     ]
    }
   ],
   "source": [
    "def Accuracy(y_true, y_pred):\n",
    "\n",
    "    temp = 0\n",
    "\n",
    "    for i in range(y_true.shape[0]):\n",
    "        temp += sum(np.logical_and(y_true[i], y_pred[i])) / sum(np.logical_or(y_true[i], y_pred[i]))\n",
    "    return temp / y_true.shape[0]\n",
    "    \n",
    "print('Accuracy Score with the discharge_instruction as variable is',  Accuracy(y_true, y_pred))"
   ]
  },
  {
   "cell_type": "code",
   "execution_count": 9,
   "id": "097515b1",
   "metadata": {},
   "outputs": [
    {
     "name": "stdout",
     "output_type": "stream",
     "text": [
      "Hamming_loss with the discharge_instruction as variable is 0.23529006555607856\n"
     ]
    }
   ],
   "source": [
    "def Hamming_Loss(y_true, y_pred):\n",
    "    temp=0\n",
    "    for i in range(y_true.shape[0]):\n",
    "        temp += np.size(y_true[i] == y_pred[i]) - np.count_nonzero(y_true[i] == y_pred[i])\n",
    "    return temp/(y_true.shape[0] * y_true.shape[1])\n",
    "    \n",
    "print('Hamming_loss with the discharge_instruction as variable is', Hamming_Loss(y_true, y_pred))"
   ]
  },
  {
   "cell_type": "markdown",
   "id": "a5ebaa40",
   "metadata": {},
   "source": [
    "**The scores changed upon cleaning the strings for the discharge_instruction \n",
    "from a accuracy score of 0.1901903837963846 to Accuracy Score with the discharge_instruction as variable is 0.17546106390265603\n",
    "\n",
    "Hamming_loss with the discharge_instruction as variable is 0.23433714882722356 to Hamming_loss with the discharge_instruction as variable is 0.23529006555607856**"
   ]
  },
  {
   "cell_type": "code",
   "execution_count": 10,
   "id": "aae37cc9",
   "metadata": {},
   "outputs": [
    {
     "data": {
      "text/plain": [
       "array([[29.72640957, 39.00299652, 20.93431763, 20.29138586, 30.21205267,\n",
       "        15.82415816, 17.76213821, 18.21219045, 19.79540993]])"
      ]
     },
     "execution_count": 10,
     "metadata": {},
     "output_type": "execute_result"
    }
   ],
   "source": [
    "(abs(np.diff([y_test.to_numpy(), nb_pred.to_numpy()], axis=0)).sum(axis=1)/len(y_test))*100"
   ]
  },
  {
   "cell_type": "code",
   "execution_count": 11,
   "id": "ea1472f0",
   "metadata": {},
   "outputs": [
    {
     "name": "stdout",
     "output_type": "stream",
     "text": [
      "Index(['icd_E11', 'icd_E78', 'icd_E87', 'icd_F32', 'icd_I16', 'icd_I50',\n",
      "       'icd_N17', 'icd_Y92', 'icd_Z85'],\n",
      "      dtype='object') [[29.72640957 39.00299652 20.93431763 20.29138586 30.21205267 15.82415816\n",
      "  17.76213821 18.21219045 19.79540993]]\n"
     ]
    }
   ],
   "source": [
    "print(y_test.columns, ((abs(np.diff([y_test.to_numpy(), nb_pred.to_numpy()], axis=0))).sum(axis=1)/len(y_test))*100)"
   ]
  },
  {
   "cell_type": "code",
   "execution_count": 23,
   "id": "4fa73e0e",
   "metadata": {},
   "outputs": [
    {
     "data": {
      "text/plain": [
       "(1, 87101, 9)"
      ]
     },
     "execution_count": 23,
     "metadata": {},
     "output_type": "execute_result"
    }
   ],
   "source": [
    "np.diff([y_test.to_numpy(), nb_pred.to_numpy()], axis=0).shape\n"
   ]
  },
  {
   "cell_type": "code",
   "execution_count": 37,
   "id": "808e6b83",
   "metadata": {},
   "outputs": [
    {
     "data": {
      "text/plain": [
       "array([[22.22222222, 22.22222222, 33.33333333, ..., 11.11111111,\n",
       "        55.55555556, 11.11111111]])"
      ]
     },
     "execution_count": 37,
     "metadata": {},
     "output_type": "execute_result"
    }
   ],
   "source": [
    "((abs(np.diff([y_test.to_numpy(), nb_pred.to_numpy()], axis=0)).sum(axis=2))/9).mean()\n",
    "\n",
    "((abs(np.diff([y_test.to_numpy(), nb_pred.to_numpy()], axis=0)).sum(axis=2))/9)\n",
    "\n",
    "#Overall 23.5% times the ICD is wrongly predicted getting from the mean"
   ]
  },
  {
   "cell_type": "code",
   "execution_count": 38,
   "id": "c2a5a9e1",
   "metadata": {},
   "outputs": [
    {
     "name": "stdout",
     "output_type": "stream",
     "text": [
      "(176840,)\n",
      "(87101,)\n"
     ]
    }
   ],
   "source": [
    "# going to use the dis_mer as the variable now\n",
    "train, test = train_test_split(df4model, random_state=42, test_size=0.33, shuffle=True)\n",
    "X_train = train.dis_mer.fillna(' ')\n",
    "X_test = test.dis_mer.fillna(' ')\n",
    "y_train = train[categories]\n",
    "y_test = test[categories]\n",
    "\n",
    "print(X_train.shape)\n",
    "print(X_test.shape)"
   ]
  },
  {
   "cell_type": "code",
   "execution_count": 39,
   "id": "eba49508",
   "metadata": {},
   "outputs": [
    {
     "name": "stdout",
     "output_type": "stream",
     "text": [
      "... Processing icd_E11\n",
      "Test accuracy is 0.7010137656284084\n",
      "... Processing icd_E78\n",
      "Test accuracy is 0.6127254566537698\n",
      "... Processing icd_E87\n",
      "Test accuracy is 0.7843537961676674\n",
      "... Processing icd_F32\n",
      "Test accuracy is 0.7977520349938577\n",
      "... Processing icd_I16\n",
      "Test accuracy is 0.6913009035487537\n",
      "... Processing icd_I50\n",
      "Test accuracy is 0.8334117863170343\n",
      "... Processing icd_N17\n",
      "Test accuracy is 0.8112421212156002\n",
      "... Processing icd_Y92\n",
      "Test accuracy is 0.8167300030998496\n",
      "... Processing icd_Z85\n",
      "Test accuracy is 0.8031480694825547\n",
      "       icd_E11  icd_E78  icd_E87  icd_F32  icd_I16  icd_I50  icd_N17  icd_Y92  \\\n",
      "0            0        1        0        0        0        0        0        0   \n",
      "1            0        0        0        0        1        0        0        0   \n",
      "2            0        0        0        0        0        0        0        0   \n",
      "3            0        0        0        0        0        0        0        0   \n",
      "4            0        0        0        0        0        0        0        0   \n",
      "...        ...      ...      ...      ...      ...      ...      ...      ...   \n",
      "87096        0        0        1        0        0        0        0        0   \n",
      "87097        0        0        0        0        0        0        0        0   \n",
      "87098        0        0        0        0        0        0        0        0   \n",
      "87099        0        0        1        0        0        0        0        0   \n",
      "87100        0        1        0        0        0        1        0        0   \n",
      "\n",
      "       icd_Z85  \n",
      "0            0  \n",
      "1            0  \n",
      "2            0  \n",
      "3            0  \n",
      "4            0  \n",
      "...        ...  \n",
      "87096        0  \n",
      "87097        0  \n",
      "87098        0  \n",
      "87099        0  \n",
      "87100        0  \n",
      "\n",
      "[87101 rows x 9 columns]\n"
     ]
    }
   ],
   "source": [
    "# traing classifier\n",
    "\n",
    "# Define a pipeline combining a text feature extractor with multi lable classifier\n",
    "NB_pipeline = Pipeline([\n",
    "                ('tfidf', TfidfVectorizer(stop_words=list(stop_words))),\n",
    "                ('clf', OneVsRestClassifier(MultinomialNB(\n",
    "                    fit_prior=True, class_prior=None))),\n",
    "            ])\n",
    "\n",
    "var_pre = {}\n",
    "\n",
    "\n",
    "for category in categories:\n",
    "    print('... Processing {}'.format(category))\n",
    "    \n",
    "    NB_pipeline.fit(X_train, train[category])\n",
    "    # compute the testing accuracy\n",
    "    prediction = NB_pipeline.predict(X_test)\n",
    "    var_pre[category] = prediction\n",
    "    \n",
    "    \n",
    "    print('Test accuracy is {}'.format(accuracy_score(test[category], prediction)))\n",
    "\n",
    "nb_pred = pd.DataFrame(var_pre)\n",
    "\n",
    "print(nb_pred)"
   ]
  },
  {
   "cell_type": "code",
   "execution_count": 41,
   "id": "122aa775",
   "metadata": {},
   "outputs": [],
   "source": [
    "y_pred1 = nb_pred.to_numpy()"
   ]
  },
  {
   "cell_type": "code",
   "execution_count": 47,
   "id": "81d1babe",
   "metadata": {},
   "outputs": [
    {
     "name": "stdout",
     "output_type": "stream",
     "text": [
      "Accuracy Score with the discharge_merged as variable is 0.12950424001474284\n",
      "Hamming_loss with the discharge_merged as variable is 0.23870245143250046\n"
     ]
    }
   ],
   "source": [
    "    \n",
    "print('Accuracy Score with the discharge_merged as variable is',  Accuracy(y_true, y_pred1))\n",
    "print('Hamming_loss with the discharge_merged as variable is', Hamming_Loss(y_true, y_pred1))"
   ]
  },
  {
   "cell_type": "code",
   "execution_count": 44,
   "id": "f8f0a7a7",
   "metadata": {},
   "outputs": [
    {
     "name": "stdout",
     "output_type": "stream",
     "text": [
      "(176840,)\n",
      "(87101,)\n"
     ]
    }
   ],
   "source": [
    "# going to use the family_history as the variable now\n",
    "train, test = train_test_split(df4model, random_state=42, test_size=0.33, shuffle=True)\n",
    "X_train = train.family_history.fillna(' ')\n",
    "X_test = test.family_history.fillna(' ')\n",
    "y_train = train[categories]\n",
    "y_test = test[categories]\n",
    "\n",
    "print(X_train.shape)\n",
    "print(X_test.shape)"
   ]
  },
  {
   "cell_type": "code",
   "execution_count": 45,
   "id": "d428d83b",
   "metadata": {},
   "outputs": [
    {
     "name": "stdout",
     "output_type": "stream",
     "text": [
      "... Processing icd_E11\n",
      "Test accuracy is 0.6971791368641003\n",
      "... Processing icd_E78\n",
      "Test accuracy is 0.6054121077829187\n",
      "... Processing icd_E87\n",
      "Test accuracy is 0.7741587352613633\n",
      "... Processing icd_F32\n",
      "Test accuracy is 0.7991986314738063\n",
      "... Processing icd_I16\n",
      "Test accuracy is 0.6873744273888933\n",
      "... Processing icd_I50\n",
      "Test accuracy is 0.7932515126117955\n",
      "... Processing icd_N17\n",
      "Test accuracy is 0.8030906648603345\n",
      "... Processing icd_Y92\n",
      "Test accuracy is 0.8025625423359088\n",
      "... Processing icd_Z85\n",
      "Test accuracy is 0.8044454139447308\n",
      "       icd_E11  icd_E78  icd_E87  icd_F32  icd_I16  icd_I50  icd_N17  icd_Y92  \\\n",
      "0            0        1        0        0        0        0        0        0   \n",
      "1            0        0        0        0        0        0        0        0   \n",
      "2            0        0        0        0        0        0        0        0   \n",
      "3            0        1        0        0        0        0        0        0   \n",
      "4            0        0        0        0        0        0        0        0   \n",
      "...        ...      ...      ...      ...      ...      ...      ...      ...   \n",
      "87096        0        1        0        0        0        0        0        0   \n",
      "87097        0        0        0        1        0        0        0        0   \n",
      "87098        0        0        0        0        0        0        0        0   \n",
      "87099        0        1        0        0        0        0        0        0   \n",
      "87100        0        0        0        0        0        0        0        0   \n",
      "\n",
      "       icd_Z85  \n",
      "0            0  \n",
      "1            0  \n",
      "2            0  \n",
      "3            0  \n",
      "4            0  \n",
      "...        ...  \n",
      "87096        0  \n",
      "87097        0  \n",
      "87098        0  \n",
      "87099        0  \n",
      "87100        0  \n",
      "\n",
      "[87101 rows x 9 columns]\n"
     ]
    }
   ],
   "source": [
    "# traing classifier\n",
    "\n",
    "# Define a pipeline combining a text feature extractor with multi lable classifier\n",
    "NB_pipeline = Pipeline([\n",
    "                ('tfidf', TfidfVectorizer(stop_words=list(stop_words))),\n",
    "                ('clf', OneVsRestClassifier(MultinomialNB(\n",
    "                    fit_prior=True, class_prior=None))),\n",
    "            ])\n",
    "\n",
    "var_pre = {}\n",
    "\n",
    "\n",
    "for category in categories:\n",
    "    print('... Processing {}'.format(category))\n",
    "    \n",
    "    NB_pipeline.fit(X_train, train[category])\n",
    "    # compute the testing accuracy\n",
    "    prediction = NB_pipeline.predict(X_test)\n",
    "    var_pre[category] = prediction\n",
    "    \n",
    "    \n",
    "    print('Test accuracy is {}'.format(accuracy_score(test[category], prediction)))\n",
    "\n",
    "nb_pred = pd.DataFrame(var_pre)\n",
    "\n",
    "print(nb_pred)"
   ]
  },
  {
   "cell_type": "code",
   "execution_count": 46,
   "id": "bca2838d",
   "metadata": {},
   "outputs": [],
   "source": [
    "y_pred2 = nb_pred.to_numpy()"
   ]
  },
  {
   "cell_type": "code",
   "execution_count": 48,
   "id": "a0c7ee05",
   "metadata": {},
   "outputs": [
    {
     "name": "stdout",
     "output_type": "stream",
     "text": [
      "Accuracy Score with the family_history as variable is 0.10321772042417741\n",
      "Hamming_loss with the family_history as variable is 0.2481474252751276\n"
     ]
    }
   ],
   "source": [
    "print('Accuracy Score with the family_history as variable is',  Accuracy(y_true, y_pred2))\n",
    "print('Hamming_loss with the family_history as variable is', Hamming_Loss(y_true, y_pred2))"
   ]
  },
  {
   "cell_type": "code",
   "execution_count": 49,
   "id": "83445cc8",
   "metadata": {},
   "outputs": [
    {
     "data": {
      "text/plain": [
       "Index(['subject_id', 'hadm_id', 'icd', 'long_title', 'chief_complaint',\n",
       "       'surgical_invasive_procedure', 'history_present_illness',\n",
       "       'past_medcal_history', 'social_history', 'family_history',\n",
       "       'physical_exam', 'pertinent_results', 'hospital_course',\n",
       "       'medication_on_admission', 'medication_on_discharge',\n",
       "       'discharge_disposition', 'discharge_diagnosis', 'discharge_condition',\n",
       "       'discharge_instruction', 'followup_instruction', 'icd_E11', 'icd_E78',\n",
       "       'icd_E87', 'icd_F32', 'icd_I16', 'icd_I50', 'icd_N17', 'icd_Y92',\n",
       "       'icd_Z85', 'dis_mer'],\n",
       "      dtype='object')"
      ]
     },
     "execution_count": 49,
     "metadata": {},
     "output_type": "execute_result"
    }
   ],
   "source": [
    "df4model.columns"
   ]
  },
  {
   "cell_type": "code",
   "execution_count": 50,
   "id": "39e9ed59",
   "metadata": {},
   "outputs": [
    {
     "name": "stdout",
     "output_type": "stream",
     "text": [
      "(176840,)\n",
      "(87101,)\n"
     ]
    }
   ],
   "source": [
    "# going to use the hopital_course as the variable now\n",
    "train, test = train_test_split(df4model, random_state=42, test_size=0.33, shuffle=True)\n",
    "X_train = train.hospital_course.fillna(' ')\n",
    "X_test = test.hospital_course.fillna(' ')\n",
    "y_train = train[categories]\n",
    "y_test = test[categories]\n",
    "\n",
    "print(X_train.shape)\n",
    "print(X_test.shape)"
   ]
  },
  {
   "cell_type": "code",
   "execution_count": 51,
   "id": "4ed03048",
   "metadata": {},
   "outputs": [
    {
     "name": "stdout",
     "output_type": "stream",
     "text": [
      "... Processing icd_E11\n",
      "Test accuracy is 0.7113810404013731\n",
      "... Processing icd_E78\n",
      "Test accuracy is 0.626112214555516\n",
      "... Processing icd_E87\n",
      "Test accuracy is 0.7851344990298619\n",
      "... Processing icd_F32\n",
      "Test accuracy is 0.7987853181938209\n",
      "... Processing icd_I16\n",
      "Test accuracy is 0.686008197380053\n",
      "... Processing icd_I50\n",
      "Test accuracy is 0.8270743160239262\n",
      "... Processing icd_N17\n",
      "Test accuracy is 0.8089803791001251\n",
      "... Processing icd_Y92\n",
      "Test accuracy is 0.8141008714021652\n",
      "... Processing icd_Z85\n",
      "Test accuracy is 0.8033317642736593\n",
      "       icd_E11  icd_E78  icd_E87  icd_F32  icd_I16  icd_I50  icd_N17  icd_Y92  \\\n",
      "0            0        1        0        0        1        1        0        0   \n",
      "1            0        0        0        0        0        0        0        0   \n",
      "2            0        0        0        0        0        0        0        0   \n",
      "3            0        0        0        0        0        0        0        0   \n",
      "4            0        0        0        0        0        0        0        0   \n",
      "...        ...      ...      ...      ...      ...      ...      ...      ...   \n",
      "87096        0        1        0        0        0        0        0        0   \n",
      "87097        0        0        0        0        0        0        0        0   \n",
      "87098        0        0        0        0        0        0        0        0   \n",
      "87099        0        0        0        0        0        0        0        0   \n",
      "87100        0        1        0        0        0        0        0        0   \n",
      "\n",
      "       icd_Z85  \n",
      "0            0  \n",
      "1            0  \n",
      "2            0  \n",
      "3            0  \n",
      "4            0  \n",
      "...        ...  \n",
      "87096        0  \n",
      "87097        0  \n",
      "87098        0  \n",
      "87099        0  \n",
      "87100        0  \n",
      "\n",
      "[87101 rows x 9 columns]\n"
     ]
    }
   ],
   "source": [
    "# traing classifier\n",
    "\n",
    "# Define a pipeline combining a text feature extractor with multi lable classifier\n",
    "NB_pipeline = Pipeline([\n",
    "                ('tfidf', TfidfVectorizer(stop_words=list(stop_words))),\n",
    "                ('clf', OneVsRestClassifier(MultinomialNB(\n",
    "                    fit_prior=True, class_prior=None))),\n",
    "            ])\n",
    "\n",
    "var_pre = {}\n",
    "\n",
    "\n",
    "for category in categories:\n",
    "    print('... Processing {}'.format(category))\n",
    "    \n",
    "    NB_pipeline.fit(X_train, train[category])\n",
    "    # compute the testing accuracy\n",
    "    prediction = NB_pipeline.predict(X_test)\n",
    "    var_pre[category] = prediction\n",
    "    \n",
    "    \n",
    "    print('Test accuracy is {}'.format(accuracy_score(test[category], prediction)))\n",
    "\n",
    "nb_pred = pd.DataFrame(var_pre)\n",
    "\n",
    "print(nb_pred)"
   ]
  },
  {
   "cell_type": "code",
   "execution_count": 52,
   "id": "b55cba03",
   "metadata": {},
   "outputs": [],
   "source": [
    "y_pred3 = nb_pred.to_numpy()"
   ]
  },
  {
   "cell_type": "code",
   "execution_count": 54,
   "id": "e662393d",
   "metadata": {},
   "outputs": [
    {
     "name": "stdout",
     "output_type": "stream",
     "text": [
      "Accuracy Score with the hospital_course as variable is 0.11948653205556205\n",
      "Hamming_loss with the hospital_course as variable is 0.23767682218216654\n"
     ]
    }
   ],
   "source": [
    "print('Accuracy Score with the hospital_course as variable is',  Accuracy(y_true, y_pred3))\n",
    "print('Hamming_loss with the hospital_course as variable is', Hamming_Loss(y_true, y_pred3))"
   ]
  },
  {
   "cell_type": "code",
   "execution_count": 55,
   "id": "1ca6a085",
   "metadata": {},
   "outputs": [
    {
     "name": "stdout",
     "output_type": "stream",
     "text": [
      "(176840,)\n",
      "(87101,)\n"
     ]
    }
   ],
   "source": [
    "# going to use the pertinent_results as the variable now\n",
    "train, test = train_test_split(df4model, random_state=42, test_size=0.33, shuffle=True)\n",
    "X_train = train.pertinent_results.fillna(' ')\n",
    "X_test = test.pertinent_results.fillna(' ')\n",
    "y_train = train[categories]\n",
    "y_test = test[categories]\n",
    "\n",
    "print(X_train.shape)\n",
    "print(X_test.shape)"
   ]
  },
  {
   "cell_type": "code",
   "execution_count": 56,
   "id": "8d110285",
   "metadata": {},
   "outputs": [
    {
     "name": "stdout",
     "output_type": "stream",
     "text": [
      "... Processing icd_E11\n",
      "Test accuracy is 0.6863526251133741\n",
      "... Processing icd_E78\n",
      "Test accuracy is 0.5777545607972354\n",
      "... Processing icd_E87\n",
      "Test accuracy is 0.7778326310834548\n",
      "... Processing icd_F32\n",
      "Test accuracy is 0.7975913020516412\n",
      "... Processing icd_I16\n",
      "Test accuracy is 0.6873629464644493\n",
      "... Processing icd_I50\n",
      "Test accuracy is 0.7906912664607755\n",
      "... Processing icd_N17\n",
      "Test accuracy is 0.804192833606962\n",
      "... Processing icd_Y92\n",
      "Test accuracy is 0.8039287723447492\n",
      "... Processing icd_Z85\n",
      "Test accuracy is 0.8031365885581107\n",
      "       icd_E11  icd_E78  icd_E87  icd_F32  icd_I16  icd_I50  icd_N17  icd_Y92  \\\n",
      "0            0        1        0        0        0        0        0        0   \n",
      "1            0        0        0        0        0        0        0        0   \n",
      "2            0        1        0        0        0        0        0        0   \n",
      "3            0        1        0        0        0        0        0        0   \n",
      "4            0        0        0        0        0        0        0        0   \n",
      "...        ...      ...      ...      ...      ...      ...      ...      ...   \n",
      "87096        0        0        0        0        0        0        0        0   \n",
      "87097        0        0        0        0        0        0        0        0   \n",
      "87098        0        0        0        0        0        0        0        0   \n",
      "87099        0        0        0        0        0        0        0        0   \n",
      "87100        0        0        0        0        0        0        0        0   \n",
      "\n",
      "       icd_Z85  \n",
      "0            0  \n",
      "1            0  \n",
      "2            0  \n",
      "3            0  \n",
      "4            0  \n",
      "...        ...  \n",
      "87096        0  \n",
      "87097        0  \n",
      "87098        0  \n",
      "87099        0  \n",
      "87100        0  \n",
      "\n",
      "[87101 rows x 9 columns]\n"
     ]
    }
   ],
   "source": [
    "# traing classifier\n",
    "\n",
    "# Define a pipeline combining a text feature extractor with multi lable classifier\n",
    "NB_pipeline = Pipeline([\n",
    "                ('tfidf', TfidfVectorizer(stop_words=list(stop_words))),\n",
    "                ('clf', OneVsRestClassifier(MultinomialNB(\n",
    "                    fit_prior=True, class_prior=None))),\n",
    "            ])\n",
    "\n",
    "var_pre = {}\n",
    "\n",
    "\n",
    "for category in categories:\n",
    "    print('... Processing {}'.format(category))\n",
    "    \n",
    "    NB_pipeline.fit(X_train, train[category])\n",
    "    # compute the testing accuracy\n",
    "    prediction = NB_pipeline.predict(X_test)\n",
    "    var_pre[category] = prediction\n",
    "    \n",
    "    \n",
    "    print('Test accuracy is {}'.format(accuracy_score(test[category], prediction)))\n",
    "\n",
    "nb_pred = pd.DataFrame(var_pre)\n",
    "\n",
    "print(nb_pred)"
   ]
  },
  {
   "cell_type": "code",
   "execution_count": 58,
   "id": "bbdf4099",
   "metadata": {},
   "outputs": [
    {
     "name": "stdout",
     "output_type": "stream",
     "text": [
      "Accuracy Score with the pertinent_results as variable is 0.04783167707330557\n",
      "Hamming_loss with the pertinent_results as variable is 0.2523507192799164\n"
     ]
    }
   ],
   "source": [
    "y_pred4 = nb_pred.to_numpy()\n",
    "\n",
    "print('Accuracy Score with the pertinent_results as variable is',  Accuracy(y_true, y_pred4))\n",
    "print('Hamming_loss with the pertinent_results as variable is', Hamming_Loss(y_true, y_pred4))\n"
   ]
  },
  {
   "cell_type": "code",
   "execution_count": 59,
   "id": "cbac7650",
   "metadata": {},
   "outputs": [
    {
     "name": "stdout",
     "output_type": "stream",
     "text": [
      "(176840,)\n",
      "(87101,)\n"
     ]
    }
   ],
   "source": [
    "# going to use the history_present_illness as the variable now\n",
    "train, test = train_test_split(df4model, random_state=42, test_size=0.33, shuffle=True)\n",
    "X_train = train.history_present_illness.fillna(' ')\n",
    "X_test = test.history_present_illness.fillna(' ')\n",
    "y_train = train[categories]\n",
    "y_test = test[categories]\n",
    "\n",
    "print(X_train.shape)\n",
    "print(X_test.shape)"
   ]
  },
  {
   "cell_type": "code",
   "execution_count": 60,
   "id": "f20ae21a",
   "metadata": {},
   "outputs": [
    {
     "name": "stdout",
     "output_type": "stream",
     "text": [
      "... Processing icd_E11\n",
      "Test accuracy is 0.6927819428020344\n",
      "... Processing icd_E78\n",
      "Test accuracy is 0.6250559695066646\n",
      "... Processing icd_E87\n",
      "Test accuracy is 0.7756856982124201\n",
      "... Processing icd_F32\n",
      "Test accuracy is 0.7980620199538467\n",
      "... Processing icd_I16\n",
      "Test accuracy is 0.6856293268733998\n",
      "... Processing icd_I50\n",
      "Test accuracy is 0.8001630291271054\n",
      "... Processing icd_N17\n",
      "Test accuracy is 0.8039861769669694\n",
      "... Processing icd_Y92\n",
      "Test accuracy is 0.8075797063179527\n",
      "... Processing icd_Z85\n",
      "Test accuracy is 0.803882848646973\n",
      "       icd_E11  icd_E78  icd_E87  icd_F32  icd_I16  icd_I50  icd_N17  icd_Y92  \\\n",
      "0            0        1        0        0        0        0        0        0   \n",
      "1            0        0        0        0        0        0        0        0   \n",
      "2            0        0        0        0        0        0        0        0   \n",
      "3            0        0        0        0        0        0        0        0   \n",
      "4            0        0        0        0        0        0        0        0   \n",
      "...        ...      ...      ...      ...      ...      ...      ...      ...   \n",
      "87096        0        1        0        0        0        0        0        0   \n",
      "87097        0        0        0        0        0        0        0        0   \n",
      "87098        0        0        0        0        0        0        0        0   \n",
      "87099        0        0        0        0        0        0        0        0   \n",
      "87100        0        1        0        0        0        0        0        0   \n",
      "\n",
      "       icd_Z85  \n",
      "0            0  \n",
      "1            0  \n",
      "2            0  \n",
      "3            0  \n",
      "4            0  \n",
      "...        ...  \n",
      "87096        0  \n",
      "87097        0  \n",
      "87098        0  \n",
      "87099        0  \n",
      "87100        0  \n",
      "\n",
      "[87101 rows x 9 columns]\n"
     ]
    }
   ],
   "source": [
    "# traing classifier\n",
    "\n",
    "# Define a pipeline combining a text feature extractor with multi lable classifier\n",
    "NB_pipeline = Pipeline([\n",
    "                ('tfidf', TfidfVectorizer(stop_words=list(stop_words))),\n",
    "                ('clf', OneVsRestClassifier(MultinomialNB(\n",
    "                    fit_prior=True, class_prior=None))),\n",
    "            ])\n",
    "\n",
    "var_pre = {}\n",
    "\n",
    "\n",
    "for category in categories:\n",
    "    print('... Processing {}'.format(category))\n",
    "    \n",
    "    NB_pipeline.fit(X_train, train[category])\n",
    "    # compute the testing accuracy\n",
    "    prediction = NB_pipeline.predict(X_test)\n",
    "    var_pre[category] = prediction\n",
    "    \n",
    "    \n",
    "    print('Test accuracy is {}'.format(accuracy_score(test[category], prediction)))\n",
    "\n",
    "nb_pred = pd.DataFrame(var_pre)\n",
    "\n",
    "print(nb_pred)"
   ]
  },
  {
   "cell_type": "code",
   "execution_count": 61,
   "id": "86155979",
   "metadata": {},
   "outputs": [
    {
     "name": "stdout",
     "output_type": "stream",
     "text": [
      "Accuracy Score with the history_present_illness as variable is 0.09051839654128252\n",
      "Hamming_loss with the history_present_illness as variable is 0.24524147573251487\n"
     ]
    }
   ],
   "source": [
    "y_pred5 = nb_pred.to_numpy()\n",
    "\n",
    "print('Accuracy Score with the history_present_illness as variable is',  Accuracy(y_true, y_pred5))\n",
    "print('Hamming_loss with the history_present_illness as variable is', Hamming_Loss(y_true, y_pred5))\n"
   ]
  },
  {
   "cell_type": "code",
   "execution_count": null,
   "id": "4dfc766c",
   "metadata": {},
   "outputs": [],
   "source": [
    "**For the NB none of the columns are performing "
   ]
  },
  {
   "cell_type": "code",
   "execution_count": 68,
   "id": "4973b5c9",
   "metadata": {},
   "outputs": [
    {
     "name": "stdout",
     "output_type": "stream",
     "text": [
      "Index(['icd_E11', 'icd_E78', 'icd_E87', 'icd_F32', 'icd_I16', 'icd_I50',\n",
      "       'icd_N17', 'icd_Y92', 'icd_Z85'],\n",
      "      dtype='object') discharge_instruction [[29.72640957 39.00299652 20.93431763 20.29138586 30.21205267 15.82415816\n",
      "  17.76213821 18.21219045 19.79540993]]\n",
      "percent of wrongly predicted for discharge_instruction 0.23529006555607862\n",
      "-------------------------------------------------------------------------------------------------------------------\n",
      "Index(['icd_E11', 'icd_E78', 'icd_E87', 'icd_F32', 'icd_I16', 'icd_I50',\n",
      "       'icd_N17', 'icd_Y92', 'icd_Z85'],\n",
      "      dtype='object') dis_mer [[29.89862344 38.72745433 21.56462038 20.2247965  30.86990965 16.65882137\n",
      "  18.87578788 18.32699969 19.68519305]]\n",
      "percent of wrongly predicted for dis_mer 0.23870245143250046\n",
      "-------------------------------------------------------------------------------------------------------------------\n",
      "Index(['icd_E11', 'icd_E78', 'icd_E87', 'icd_F32', 'icd_I16', 'icd_I50',\n",
      "       'icd_N17', 'icd_Y92', 'icd_Z85'],\n",
      "      dtype='object') family_history [[30.28208631 39.45878922 22.58412647 20.08013685 31.26255726 20.67484874\n",
      "  19.69093351 19.74374577 19.55545861]]\n",
      "percent of wrongly predicted for family_history 0.24814742527512765\n",
      "-------------------------------------------------------------------------------------------------------------------\n",
      "Index(['icd_E11', 'icd_E78', 'icd_E87', 'icd_F32', 'icd_I16', 'icd_I50',\n",
      "       'icd_N17', 'icd_Y92', 'icd_Z85'],\n",
      "      dtype='object') hospital_course [[28.86189596 37.38877854 21.4865501  20.12146818 31.39918026 17.2925684\n",
      "  19.10196209 18.58991286 19.66682357]]\n",
      "percent of wrongly predicted for hospital_course 0.23767682218216657\n",
      "-------------------------------------------------------------------------------------------------------------------\n",
      "Index(['icd_E11', 'icd_E78', 'icd_E87', 'icd_F32', 'icd_I16', 'icd_I50',\n",
      "       'icd_N17', 'icd_Y92', 'icd_Z85'],\n",
      "      dtype='object') pertinent_results [[31.36473749 42.22454392 22.21673689 20.24086979 31.26370535 20.93087335\n",
      "  19.58071664 19.60712277 19.68634114]]\n",
      "percent of wrongly predicted for pertinent_results 0.2523507192799165\n",
      "-------------------------------------------------------------------------------------------------------------------\n",
      "Index(['icd_E11', 'icd_E78', 'icd_E87', 'icd_F32', 'icd_I16', 'icd_I50',\n",
      "       'icd_N17', 'icd_Y92', 'icd_Z85'],\n",
      "      dtype='object') history_present_illness [[30.72180572 37.49440305 22.43143018 20.193798   31.43706731 19.98369709\n",
      "  19.6013823  19.24202937 19.61171514]]\n",
      "percent of wrongly predicted for history_present_illness 0.2452414757325149\n",
      "-------------------------------------------------------------------------------------------------------------------\n"
     ]
    }
   ],
   "source": [
    "print(y_test.columns, 'discharge_instruction', ((abs(np.diff([y_true, y_pred], axis=0))).sum(axis=1)/len(y_test))*100)\n",
    "\n",
    "print ( 'percent of wrongly predicted for discharge_instruction',((abs(np.diff([y_true, y_pred], axis=0)).sum(axis=2))/9).mean())\n",
    "\n",
    "((abs(np.diff([y_true, y_pred], axis=0)).sum(axis=2))/9)\n",
    "print('-------------------------------------------------------------------------------------------------------------------')\n",
    "\n",
    "print(y_test.columns, 'dis_mer', ((abs(np.diff([y_true, y_pred1], axis=0))).sum(axis=1)/len(y_test))*100)\n",
    "\n",
    "print ( 'percent of wrongly predicted for dis_mer',((abs(np.diff([y_true, y_pred1], axis=0)).sum(axis=2))/9).mean())\n",
    "\n",
    "((abs(np.diff([y_true, y_pred2], axis=0)).sum(axis=2))/9)\n",
    "print('-------------------------------------------------------------------------------------------------------------------')\n",
    "\n",
    "print(y_test.columns, 'family_history', ((abs(np.diff([y_true, y_pred2], axis=0))).sum(axis=1)/len(y_test))*100)\n",
    "\n",
    "print ( 'percent of wrongly predicted for family_history',((abs(np.diff([y_true, y_pred2], axis=0)).sum(axis=2))/9).mean())\n",
    "\n",
    "((abs(np.diff([y_true, y_pred2], axis=0)).sum(axis=2))/9)\n",
    "print('-------------------------------------------------------------------------------------------------------------------')\n",
    "\n",
    "print(y_test.columns, 'hospital_course', ((abs(np.diff([y_true, y_pred3], axis=0))).sum(axis=1)/len(y_test))*100)\n",
    "\n",
    "print ( 'percent of wrongly predicted for hospital_course',((abs(np.diff([y_true, y_pred3], axis=0)).sum(axis=2))/9).mean())\n",
    "\n",
    "((abs(np.diff([y_true, y_pred2], axis=0)).sum(axis=2))/9)\n",
    "print('-------------------------------------------------------------------------------------------------------------------')\n",
    "\n",
    "print(y_test.columns, 'pertinent_results', ((abs(np.diff([y_true, y_pred4], axis=0))).sum(axis=1)/len(y_test))*100)\n",
    "\n",
    "print ( 'percent of wrongly predicted for pertinent_results',((abs(np.diff([y_true, y_pred4], axis=0)).sum(axis=2))/9).mean())\n",
    "\n",
    "((abs(np.diff([y_true, y_pred2], axis=0)).sum(axis=2))/9)\n",
    "print('-------------------------------------------------------------------------------------------------------------------')\n",
    "print(y_test.columns, 'history_present_illness', ((abs(np.diff([y_true, y_pred5], axis=0))).sum(axis=1)/len(y_test))*100)\n",
    "\n",
    "print ( 'percent of wrongly predicted for history_present_illness',((abs(np.diff([y_true, y_pred5], axis=0)).sum(axis=2))/9).mean())\n",
    "\n",
    "((abs(np.diff([y_true, y_pred2], axis=0)).sum(axis=2))/9)\n",
    "print('-------------------------------------------------------------------------------------------------------------------')"
   ]
  },
  {
   "cell_type": "code",
   "execution_count": 103,
   "id": "55bf356f",
   "metadata": {},
   "outputs": [
    {
     "data": {
      "text/plain": [
       "(9,)"
      ]
     },
     "execution_count": 103,
     "metadata": {},
     "output_type": "execute_result"
    }
   ],
   "source": [
    "dis_inst= (((abs(np.diff([y_true, y_pred], axis=0))).sum(axis=1)/len(y_test))*100).flatten()\n",
    "dis_merged= (((abs(np.diff([y_true, y_pred1], axis=0))).sum(axis=1)/len(y_test))*100).flatten()\n",
    "fam_his= (((abs(np.diff([y_true, y_pred2], axis=0))).sum(axis=1)/len(y_test))*100).flatten()\n",
    "hos_cour= (((abs(np.diff([y_true, y_pred3], axis=0))).sum(axis=1)/len(y_test))*100).flatten()\n",
    "per_res= (((abs(np.diff([y_true, y_pred4], axis=0))).sum(axis=1)/len(y_test))*100).flatten()\n",
    "his_ill= (((abs(np.diff([y_true, y_pred5], axis=0))).sum(axis=1)/len(y_test))*100).flatten()\n",
    "dis_inst.shape"
   ]
  },
  {
   "cell_type": "code",
   "execution_count": 76,
   "id": "be1d2618",
   "metadata": {},
   "outputs": [],
   "source": [
    "keys = y_test.columns.to_list()"
   ]
  },
  {
   "cell_type": "code",
   "execution_count": 105,
   "id": "778d33da",
   "metadata": {},
   "outputs": [
    {
     "data": {
      "text/html": [
       "<div>\n",
       "<style scoped>\n",
       "    .dataframe tbody tr th:only-of-type {\n",
       "        vertical-align: middle;\n",
       "    }\n",
       "\n",
       "    .dataframe tbody tr th {\n",
       "        vertical-align: top;\n",
       "    }\n",
       "\n",
       "    .dataframe thead th {\n",
       "        text-align: right;\n",
       "    }\n",
       "</style>\n",
       "<table border=\"1\" class=\"dataframe\">\n",
       "  <thead>\n",
       "    <tr style=\"text-align: right;\">\n",
       "      <th></th>\n",
       "      <th>icd</th>\n",
       "      <th>discharge_instruction(%wrong_pred)</th>\n",
       "      <th>discharged_merged(%wrong_pred)</th>\n",
       "      <th>family_history(%wrong_pred)</th>\n",
       "      <th>hospital_course(%wrong_pred)</th>\n",
       "      <th>pertinent_result(%wrong_pred)</th>\n",
       "      <th>history_of_present_illness(%wrong_pres)</th>\n",
       "    </tr>\n",
       "  </thead>\n",
       "  <tbody>\n",
       "    <tr>\n",
       "      <th>0</th>\n",
       "      <td>icd_E11</td>\n",
       "      <td>29.726410</td>\n",
       "      <td>29.898623</td>\n",
       "      <td>30.282086</td>\n",
       "      <td>28.861896</td>\n",
       "      <td>31.364737</td>\n",
       "      <td>30.721806</td>\n",
       "    </tr>\n",
       "    <tr>\n",
       "      <th>1</th>\n",
       "      <td>icd_E78</td>\n",
       "      <td>39.002997</td>\n",
       "      <td>38.727454</td>\n",
       "      <td>39.458789</td>\n",
       "      <td>37.388779</td>\n",
       "      <td>42.224544</td>\n",
       "      <td>37.494403</td>\n",
       "    </tr>\n",
       "    <tr>\n",
       "      <th>2</th>\n",
       "      <td>icd_E87</td>\n",
       "      <td>20.934318</td>\n",
       "      <td>21.564620</td>\n",
       "      <td>22.584126</td>\n",
       "      <td>21.486550</td>\n",
       "      <td>22.216737</td>\n",
       "      <td>22.431430</td>\n",
       "    </tr>\n",
       "    <tr>\n",
       "      <th>3</th>\n",
       "      <td>icd_F32</td>\n",
       "      <td>20.291386</td>\n",
       "      <td>20.224797</td>\n",
       "      <td>20.080137</td>\n",
       "      <td>20.121468</td>\n",
       "      <td>20.240870</td>\n",
       "      <td>20.193798</td>\n",
       "    </tr>\n",
       "    <tr>\n",
       "      <th>4</th>\n",
       "      <td>icd_I16</td>\n",
       "      <td>30.212053</td>\n",
       "      <td>30.869910</td>\n",
       "      <td>31.262557</td>\n",
       "      <td>31.399180</td>\n",
       "      <td>31.263705</td>\n",
       "      <td>31.437067</td>\n",
       "    </tr>\n",
       "    <tr>\n",
       "      <th>5</th>\n",
       "      <td>icd_I50</td>\n",
       "      <td>15.824158</td>\n",
       "      <td>16.658821</td>\n",
       "      <td>20.674849</td>\n",
       "      <td>17.292568</td>\n",
       "      <td>20.930873</td>\n",
       "      <td>19.983697</td>\n",
       "    </tr>\n",
       "    <tr>\n",
       "      <th>6</th>\n",
       "      <td>icd_N17</td>\n",
       "      <td>17.762138</td>\n",
       "      <td>18.875788</td>\n",
       "      <td>19.690934</td>\n",
       "      <td>19.101962</td>\n",
       "      <td>19.580717</td>\n",
       "      <td>19.601382</td>\n",
       "    </tr>\n",
       "    <tr>\n",
       "      <th>7</th>\n",
       "      <td>icd_Y92</td>\n",
       "      <td>18.212190</td>\n",
       "      <td>18.327000</td>\n",
       "      <td>19.743746</td>\n",
       "      <td>18.589913</td>\n",
       "      <td>19.607123</td>\n",
       "      <td>19.242029</td>\n",
       "    </tr>\n",
       "    <tr>\n",
       "      <th>8</th>\n",
       "      <td>icd_Z85</td>\n",
       "      <td>19.795410</td>\n",
       "      <td>19.685193</td>\n",
       "      <td>19.555459</td>\n",
       "      <td>19.666824</td>\n",
       "      <td>19.686341</td>\n",
       "      <td>19.611715</td>\n",
       "    </tr>\n",
       "  </tbody>\n",
       "</table>\n",
       "</div>"
      ],
      "text/plain": [
       "       icd  discharge_instruction(%wrong_pred)  \\\n",
       "0  icd_E11                           29.726410   \n",
       "1  icd_E78                           39.002997   \n",
       "2  icd_E87                           20.934318   \n",
       "3  icd_F32                           20.291386   \n",
       "4  icd_I16                           30.212053   \n",
       "5  icd_I50                           15.824158   \n",
       "6  icd_N17                           17.762138   \n",
       "7  icd_Y92                           18.212190   \n",
       "8  icd_Z85                           19.795410   \n",
       "\n",
       "   discharged_merged(%wrong_pred)  family_history(%wrong_pred)  \\\n",
       "0                       29.898623                    30.282086   \n",
       "1                       38.727454                    39.458789   \n",
       "2                       21.564620                    22.584126   \n",
       "3                       20.224797                    20.080137   \n",
       "4                       30.869910                    31.262557   \n",
       "5                       16.658821                    20.674849   \n",
       "6                       18.875788                    19.690934   \n",
       "7                       18.327000                    19.743746   \n",
       "8                       19.685193                    19.555459   \n",
       "\n",
       "   hospital_course(%wrong_pred)  pertinent_result(%wrong_pred)  \\\n",
       "0                     28.861896                      31.364737   \n",
       "1                     37.388779                      42.224544   \n",
       "2                     21.486550                      22.216737   \n",
       "3                     20.121468                      20.240870   \n",
       "4                     31.399180                      31.263705   \n",
       "5                     17.292568                      20.930873   \n",
       "6                     19.101962                      19.580717   \n",
       "7                     18.589913                      19.607123   \n",
       "8                     19.666824                      19.686341   \n",
       "\n",
       "   history_of_present_illness(%wrong_pres)  \n",
       "0                                30.721806  \n",
       "1                                37.494403  \n",
       "2                                22.431430  \n",
       "3                                20.193798  \n",
       "4                                31.437067  \n",
       "5                                19.983697  \n",
       "6                                19.601382  \n",
       "7                                19.242029  \n",
       "8                                19.611715  "
      ]
     },
     "execution_count": 105,
     "metadata": {},
     "output_type": "execute_result"
    }
   ],
   "source": [
    "dic_x= {'icd':keys, \n",
    "        'discharge_instruction(%wrong_pred)':dis_inst,\n",
    "       'discharged_merged(%wrong_pred)': dis_merged,\n",
    "       'family_history(%wrong_pred)':fam_his,\n",
    "       'hospital_course(%wrong_pred)':hos_cour,\n",
    "       'pertinent_result(%wrong_pred)':per_res,\n",
    "       'history_of_present_illness(%wrong_pres)':his_ill}\n",
    "        \n",
    "dic_x\n",
    "pd.DataFrame.from_dict(dic_x)"
   ]
  },
  {
   "cell_type": "code",
   "execution_count": 109,
   "id": "54d4aec4",
   "metadata": {},
   "outputs": [
    {
     "name": "stdout",
     "output_type": "stream",
     "text": [
      "(176840,)\n",
      "(87101,)\n"
     ]
    }
   ],
   "source": [
    "categories = ['icd_E11', 'icd_E78','icd_E87', 'icd_F32', 'icd_I16', 'icd_I50', 'icd_N17', 'icd_Y92','icd_Z85']\n",
    "\n",
    "# variables = [ 'history_present_illness', 'past_medcal_history', 'social_history', 'family_history',\n",
    "#        'physical_exam', 'pertinent_results', 'hospital_course',\n",
    "#        'medication_on_admission', 'medication_on_discharge',\n",
    "#        'discharge_disposition', 'discharge_diagnosis', 'discharge_condition',\n",
    "#        'discharge_instruction'] \n",
    "\n",
    "df4model['combined'] = (df4model['discharge_disposition']+ df4model['discharge_diagnosis']\n",
    "                        + df4model['discharge_condition']+ df4model['discharge_instruction']\n",
    "                     +df4model['history_present_illness'] +df4model['past_medcal_history']\n",
    "                        +df4model['family_history']+df4model['physical_exam']\n",
    "                   + df4model['pertinent_results']+  df4model['hospital_course']\n",
    "                   +df4model['medication_on_admission']+df4model['medication_on_discharge']) \n",
    "\n",
    "train, test = train_test_split(df4model, random_state=42, test_size=0.33, shuffle=True)\n",
    "X_train = train.combined.fillna(' ')\n",
    "X_test = test.combined.fillna(' ')\n",
    "y_train = train[categories]\n",
    "y_test = test[categories]\n",
    "\n",
    "print(X_train.shape)\n",
    "print(X_test.shape)"
   ]
  },
  {
   "cell_type": "code",
   "execution_count": 110,
   "id": "e2ce85c1",
   "metadata": {},
   "outputs": [
    {
     "name": "stdout",
     "output_type": "stream",
     "text": [
      "... Processing icd_E11\n",
      "Test accuracy is 0.6844812344289962\n",
      "... Processing icd_E78\n",
      "Test accuracy is 0.6022433726363646\n",
      "... Processing icd_E87\n",
      "Test accuracy is 0.7749049953502256\n",
      "... Processing icd_F32\n",
      "Test accuracy is 0.7975568592783091\n",
      "... Processing icd_I16\n",
      "Test accuracy is 0.6853078609889668\n",
      "... Processing icd_I50\n",
      "Test accuracy is 0.7865581336609224\n",
      "... Processing icd_N17\n",
      "Test accuracy is 0.8039746960425254\n",
      "... Processing icd_Y92\n",
      "Test accuracy is 0.8037795203269767\n",
      "... Processing icd_Z85\n",
      "Test accuracy is 0.803216955029219\n",
      "       icd_E11  icd_E78  icd_E87  icd_F32  icd_I16  icd_I50  icd_N17  icd_Y92  \\\n",
      "0            0        1        0        0        0        0        0        0   \n",
      "1            0        0        0        0        0        0        0        0   \n",
      "2            0        0        0        0        0        0        0        0   \n",
      "3            0        0        0        0        0        0        0        0   \n",
      "4            0        0        0        0        0        0        0        0   \n",
      "...        ...      ...      ...      ...      ...      ...      ...      ...   \n",
      "87096        0        0        0        0        0        0        0        0   \n",
      "87097        0        0        0        0        0        0        0        0   \n",
      "87098        0        0        0        0        0        0        0        0   \n",
      "87099        0        0        0        0        0        0        0        0   \n",
      "87100        0        1        0        0        0        0        0        0   \n",
      "\n",
      "       icd_Z85  \n",
      "0            0  \n",
      "1            0  \n",
      "2            0  \n",
      "3            0  \n",
      "4            0  \n",
      "...        ...  \n",
      "87096        0  \n",
      "87097        0  \n",
      "87098        0  \n",
      "87099        0  \n",
      "87100        0  \n",
      "\n",
      "[87101 rows x 9 columns]\n"
     ]
    }
   ],
   "source": [
    "# traing classifier\n",
    "\n",
    "# Define a pipeline combining a text feature extractor with multi lable classifier\n",
    "NB_pipeline = Pipeline([\n",
    "                ('tfidf', TfidfVectorizer(stop_words=list(stop_words))),\n",
    "                ('clf', OneVsRestClassifier(MultinomialNB(\n",
    "                    fit_prior=True, class_prior=None))),\n",
    "            ])\n",
    "\n",
    "var_pre = {}\n",
    "\n",
    "\n",
    "for category in categories:\n",
    "    print('... Processing {}'.format(category))\n",
    "    \n",
    "    NB_pipeline.fit(X_train, train[category])\n",
    "    # compute the testing accuracy\n",
    "    prediction = NB_pipeline.predict(X_test)\n",
    "    var_pre[category] = prediction\n",
    "    \n",
    "    \n",
    "    print('Test accuracy is {}'.format(accuracy_score(test[category], prediction)))\n",
    "\n",
    "nb_pred = pd.DataFrame(var_pre)\n",
    "\n",
    "print(nb_pred)"
   ]
  },
  {
   "cell_type": "code",
   "execution_count": 111,
   "id": "7152e022",
   "metadata": {},
   "outputs": [
    {
     "name": "stdout",
     "output_type": "stream",
     "text": [
      "Accuracy Score with the all variable combined is 0.04634471967682954\n",
      "Hamming_loss with the all variable combined is 0.250886263584166\n"
     ]
    }
   ],
   "source": [
    "y_pred6 = nb_pred.to_numpy()\n",
    "\n",
    "print('Accuracy Score with the all variable combined is',  Accuracy(y_true, y_pred6))\n",
    "print('Hamming_loss with the all variable combined is', Hamming_Loss(y_true, y_pred6))\n"
   ]
  },
  {
   "cell_type": "markdown",
   "id": "c491c59b",
   "metadata": {},
   "source": [
    "#as all the variables are low perfringfor the Hamming_loss the best is the discharge instruction we will use that for other models"
   ]
  },
  {
   "cell_type": "code",
   "execution_count": 112,
   "id": "1ac9be5d",
   "metadata": {},
   "outputs": [
    {
     "name": "stdout",
     "output_type": "stream",
     "text": [
      "(176840,)\n",
      "(87101,)\n"
     ]
    }
   ],
   "source": [
    "categories = ['icd_E11', 'icd_E78','icd_E87', 'icd_F32', 'icd_I16', 'icd_I50', 'icd_N17', 'icd_Y92','icd_Z85']\n",
    "\n",
    "# variables = [ 'history_present_illness', 'past_medcal_history', 'social_history', 'family_history',\n",
    "#        'physical_exam', 'pertinent_results', 'hospital_course',\n",
    "#        'medication_on_admission', 'medication_on_discharge',\n",
    "#        'discharge_disposition', 'discharge_diagnosis', 'discharge_condition',\n",
    "#        'discharge_instruction'] \n",
    "\n",
    "df4model['combined'] = (df4model['discharge_disposition']+ df4model['discharge_diagnosis']\n",
    "                        + df4model['discharge_condition']+ df4model['discharge_instruction']\n",
    "                     +df4model['history_present_illness'] +df4model['past_medcal_history']\n",
    "                        +df4model['family_history']+df4model['physical_exam']\n",
    "                   + df4model['pertinent_results']+  df4model['hospital_course']\n",
    "                   +df4model['medication_on_admission']+df4model['medication_on_discharge']) \n",
    "\n",
    "train, test = train_test_split(df4model, random_state=42, test_size=0.33, shuffle=True)\n",
    "X_train = train.discharge_instruction.fillna(' ')\n",
    "X_test = test.discharge_instruction.fillna(' ')\n",
    "y_train = train[categories]\n",
    "y_test = test[categories]\n",
    "\n",
    "print(X_train.shape)\n",
    "print(X_test.shape)"
   ]
  },
  {
   "cell_type": "code",
   "execution_count": 119,
   "id": "80e872d6",
   "metadata": {},
   "outputs": [
    {
     "name": "stdout",
     "output_type": "stream",
     "text": [
      "... Processing icd_E11\n",
      "Test accuracy is 0.706283509948221\n",
      "... Processing icd_E78\n",
      "Test accuracy is 0.6038966257563059\n",
      "... Processing icd_E87\n",
      "Test accuracy is 0.7989804939093695\n",
      "... Processing icd_F32\n",
      "Test accuracy is 0.7964546905316816\n",
      "... Processing icd_I16\n",
      "Test accuracy is 0.7096818635836557\n",
      "... Processing icd_I50\n",
      "Test accuracy is 0.8539626410718592\n",
      "... Processing icd_N17\n",
      "Test accuracy is 0.8379237896235405\n",
      "... Processing icd_Y92\n",
      "Test accuracy is 0.825409581979541\n",
      "... Processing icd_Z85\n",
      "Test accuracy is 0.8006107851804227\n",
      "       icd_E11  icd_E78  icd_E87  icd_F32  icd_I16  icd_I50  icd_N17  icd_Y92  \\\n",
      "0            0        0        0        0        0        0        0        0   \n",
      "1            0        0        0        0        1        0        0        0   \n",
      "2            0        0        0        0        1        0        0        0   \n",
      "3            0        1        1        0        0        0        1        0   \n",
      "4            0        0        0        0        0        0        0        0   \n",
      "...        ...      ...      ...      ...      ...      ...      ...      ...   \n",
      "87096        0        0        1        0        0        0        0        0   \n",
      "87097        0        0        0        0        0        0        0        0   \n",
      "87098        0        0        1        0        0        0        0        0   \n",
      "87099        0        0        1        0        0        0        0        0   \n",
      "87100        0        0        0        0        0        1        1        0   \n",
      "\n",
      "       icd_Z85  \n",
      "0            0  \n",
      "1            0  \n",
      "2            0  \n",
      "3            0  \n",
      "4            0  \n",
      "...        ...  \n",
      "87096        0  \n",
      "87097        0  \n",
      "87098        0  \n",
      "87099        0  \n",
      "87100        0  \n",
      "\n",
      "[87101 rows x 9 columns]\n"
     ]
    }
   ],
   "source": [
    "SVC_pipeline = Pipeline([\n",
    "                ('tfidf', TfidfVectorizer(stop_words=list(stop_words))),\n",
    "                ('clf', OneVsRestClassifier(LinearSVC(), n_jobs=1)),\n",
    "            ])\n",
    "var_pre = {}\n",
    "\n",
    "for category in categories:\n",
    "    print('... Processing {}'.format(category))\n",
    "   \n",
    "    SVC_pipeline.fit(X_train, train[category])\n",
    "    # compute the testing accuracy\n",
    "    prediction = SVC_pipeline.predict(X_test)\n",
    "    var_pre[category] = prediction\n",
    "    print('Test accuracy is {}'.format(accuracy_score(test[category], prediction)))\n",
    "svc_pred = pd.DataFrame(var_pre)\n",
    "\n",
    "print(svc_pred)"
   ]
  },
  {
   "cell_type": "code",
   "execution_count": 121,
   "id": "88445749",
   "metadata": {},
   "outputs": [
    {
     "name": "stdout",
     "output_type": "stream",
     "text": [
      "Accuracy Score with the all variable combined is 0.2713272522703546\n",
      "Hamming_loss with the all variable combined is 0.22964400204615587\n"
     ]
    }
   ],
   "source": [
    "y_pred7 = svc_pred.to_numpy()\n",
    "\n",
    "print('Accuracy Score with the discharge_instruction and liner-SVC is',  Accuracy(y_true, y_pred7))\n",
    "print('Hamming_loss with the discharge_instruction and liner-SVC is', Hamming_Loss(y_true,y_pred7))\n"
   ]
  },
  {
   "cell_type": "code",
   "execution_count": 124,
   "id": "0db185fc",
   "metadata": {},
   "outputs": [
    {
     "name": "stdout",
     "output_type": "stream",
     "text": [
      "... Processing icd_E11\n",
      "Test accuracy is 0.7147105084901436\n",
      "... Processing icd_E78\n",
      "Test accuracy is 0.6142524196048266\n",
      "... Processing icd_E87\n",
      "Test accuracy is 0.8028151226736777\n",
      "... Processing icd_F32\n",
      "Test accuracy is 0.8001515482026613\n",
      "... Processing icd_I16\n",
      "Test accuracy is 0.7136313015924042\n",
      "... Processing icd_I50\n",
      "Test accuracy is 0.8563621542806626\n",
      "... Processing icd_N17\n",
      "Test accuracy is 0.8410466010723183\n",
      "... Processing icd_Y92\n",
      "Test accuracy is 0.8276024385483519\n",
      "... Processing icd_Z85\n",
      "Test accuracy is 0.8033432451981034\n",
      "       icd_E11  icd_E78  icd_E87  icd_F32  icd_I16  icd_I50  icd_N17  icd_Y92  \\\n",
      "0            0        0        0        0        0        0        0        0   \n",
      "1            0        0        0        0        1        0        0        0   \n",
      "2            0        1        0        0        1        0        0        0   \n",
      "3            0        0        1        0        0        0        1        0   \n",
      "4            0        0        0        0        0        0        0        0   \n",
      "...        ...      ...      ...      ...      ...      ...      ...      ...   \n",
      "87096        0        0        1        0        0        0        0        0   \n",
      "87097        0        1        0        0        0        0        0        0   \n",
      "87098        0        0        1        0        0        0        0        0   \n",
      "87099        0        0        1        0        0        0        0        0   \n",
      "87100        0        1        0        0        0        1        1        0   \n",
      "\n",
      "       icd_Z85  \n",
      "0            0  \n",
      "1            0  \n",
      "2            0  \n",
      "3            0  \n",
      "4            0  \n",
      "...        ...  \n",
      "87096        0  \n",
      "87097        0  \n",
      "87098        0  \n",
      "87099        0  \n",
      "87100        0  \n",
      "\n",
      "[87101 rows x 9 columns]\n"
     ]
    }
   ],
   "source": [
    "LogReg_pipeline = Pipeline([\n",
    "                ('tfidf', TfidfVectorizer(stop_words=list(stop_words))),\n",
    "                ('clf', OneVsRestClassifier(LogisticRegression(solver='sag'), n_jobs=1)),\n",
    "            ])\n",
    "\n",
    "var_pre = {}\n",
    "\n",
    "for category in categories:\n",
    "    print('... Processing {}'.format(category))\n",
    "    # train the model using X_dtm & y\n",
    "    LogReg_pipeline.fit(X_train, train[category])\n",
    "    # compute the testing accuracy\n",
    "    prediction = LogReg_pipeline.predict(X_test)\n",
    "    var_pre[category] = prediction\n",
    "    print('Test accuracy is {}'.format(accuracy_score(test[category], prediction)))\n",
    "\n",
    "logreg_pred = pd.DataFrame(var_pre)\n",
    "\n",
    "print(logreg_pred)"
   ]
  },
  {
   "cell_type": "code",
   "execution_count": 125,
   "id": "0600a305",
   "metadata": {},
   "outputs": [
    {
     "name": "stdout",
     "output_type": "stream",
     "text": [
      "Accuracy Score with the discharge_instruction and liner-SVC is 0.26110035913425234\n",
      "Hamming_loss with the discharge_instruction and liner-SVC is 0.2251205178152056\n"
     ]
    }
   ],
   "source": [
    "y_pred8 = logreg_pred.to_numpy()\n",
    "\n",
    "print('Accuracy Score with the discharge_instruction and liner-SVC is',  Accuracy(y_true, y_pred8))\n",
    "print('Hamming_loss with the discharge_instruction and liner-SVC is', Hamming_Loss(y_true,y_pred8))"
   ]
  },
  {
   "cell_type": "code",
   "execution_count": 126,
   "id": "27d5fdb0",
   "metadata": {},
   "outputs": [
    {
     "name": "stdout",
     "output_type": "stream",
     "text": [
      "Index(['icd_E11', 'icd_E78', 'icd_E87', 'icd_F32', 'icd_I16', 'icd_I50',\n",
      "       'icd_N17', 'icd_Y92', 'icd_Z85'],\n",
      "      dtype='object') lorreg model discharge_instruction [[28.52894915 38.57475804 19.71848773 19.98484518 28.63686984 14.36378457\n",
      "  15.89533989 17.23975615 19.66567548]]\n",
      "percent of wrongly predicted by logreg model for discharge_instruction 0.2251205178152056\n"
     ]
    },
    {
     "data": {
      "text/plain": [
       "array([[0.22222222, 0.22222222, 0.33333333, ..., 0.11111111, 0.55555556,\n",
       "        0.11111111]])"
      ]
     },
     "execution_count": 126,
     "metadata": {},
     "output_type": "execute_result"
    }
   ],
   "source": [
    "print(y_test.columns, 'lorreg model discharge_instruction', ((abs(np.diff([y_true, y_pred8], axis=0))).sum(axis=1)/len(y_test))*100)\n",
    "\n",
    "print ( 'percent of wrongly predicted by logreg model for discharge_instruction',((abs(np.diff([y_true, y_pred8], axis=0)).sum(axis=2))/9).mean())\n",
    "\n",
    "((abs(np.diff([y_true, y_pred], axis=0)).sum(axis=2))/9)"
   ]
  }
 ],
 "metadata": {
  "kernelspec": {
   "display_name": "Python 3 (ipykernel)",
   "language": "python",
   "name": "python3"
  },
  "language_info": {
   "codemirror_mode": {
    "name": "ipython",
    "version": 3
   },
   "file_extension": ".py",
   "mimetype": "text/x-python",
   "name": "python",
   "nbconvert_exporter": "python",
   "pygments_lexer": "ipython3",
   "version": "3.9.16"
  }
 },
 "nbformat": 4,
 "nbformat_minor": 5
}
