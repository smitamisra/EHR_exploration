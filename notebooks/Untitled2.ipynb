{
 "cells": [
  {
   "cell_type": "code",
   "execution_count": 1,
   "id": "f49f9e91",
   "metadata": {},
   "outputs": [
    {
     "name": "stderr",
     "output_type": "stream",
     "text": [
      "[nltk_data] Downloading package stopwords to\n",
      "[nltk_data]     C:\\Users\\upadh\\AppData\\Roaming\\nltk_data...\n",
      "[nltk_data]   Package stopwords is already up-to-date!\n",
      "[nltk_data] Downloading package punkt to\n",
      "[nltk_data]     C:\\Users\\upadh\\AppData\\Roaming\\nltk_data...\n",
      "[nltk_data]   Package punkt is already up-to-date!\n"
     ]
    }
   ],
   "source": [
    "import pandas as pd\n",
    "from collections import Counter\n",
    "import re\n",
    "import numpy as np\n",
    "\n",
    "%matplotlib inline\n",
    "import matplotlib\n",
    "import matplotlib.pyplot as plt\n",
    "\n",
    "\n",
    "import glob\n",
    "from tqdm.notebook import tqdm\n",
    "\n",
    "from sklearn.feature_extraction.text import CountVectorizer\n",
    "from sklearn.model_selection import train_test_split\n",
    "from sklearn.metrics import accuracy_score, confusion_matrix\n",
    "from sklearn.metrics.pairwise import cosine_similarity\n",
    "\n",
    "from scipy import sparse\n",
    "from scipy.sparse.linalg import svds\n",
    "\n",
    "\n",
    "from nltk.tokenize import sent_tokenize, word_tokenize, regexp_tokenize\n",
    "from nltk.corpus import stopwords\n",
    "\n",
    "import nltk\n",
    "nltk.download('stopwords')\n",
    "\n",
    "import nltk\n",
    "nltk.download('punkt')\n",
    "\n",
    "from sklearn.model_selection import train_test_split\n",
    "from sklearn.feature_extraction.text import TfidfVectorizer\n",
    "from sklearn.naive_bayes import MultinomialNB\n",
    "from sklearn.metrics import accuracy_score\n",
    "from sklearn.multiclass import OneVsRestClassifier\n",
    "from nltk.corpus import stopwords\n",
    "stop_words = set(stopwords.words('english'))\n",
    "from sklearn.svm import LinearSVC\n",
    "from sklearn.linear_model import LogisticRegression\n",
    "from sklearn.pipeline import Pipeline\n",
    "import seaborn as sns\n"
   ]
  },
  {
   "cell_type": "code",
   "execution_count": 2,
   "id": "219fbcda",
   "metadata": {},
   "outputs": [],
   "source": [
    "df4model = pd.read_csv('../data/df4model.csv')"
   ]
  },
  {
   "cell_type": "code",
   "execution_count": 17,
   "id": "586a8f75",
   "metadata": {},
   "outputs": [
    {
     "name": "stdout",
     "output_type": "stream",
     "text": [
      "(176840,)\n",
      "(87101,)\n"
     ]
    }
   ],
   "source": [
    "categories = ['icd_E11', 'icd_E78','icd_E87', 'icd_F32', 'icd_I16', 'icd_I50', 'icd_N17', 'icd_Y92','icd_Z85']\n",
    "\n",
    "variables = [ 'history_present_illness', 'past_medcal_history', 'social_history', 'family_history',\n",
    "       'physical_exam', 'pertinent_results', 'hospital_course',\n",
    "       'medication_on_admission', 'medication_on_discharge',\n",
    "       'discharge_disposition', 'discharge_diagnosis', 'discharge_condition',\n",
    "       'discharge_instruction'] \n",
    "\n",
    "df4model['dis_mer'] = (df4model['discharge_disposition']+ df4model['discharge_diagnosis']\n",
    "                        + df4model['discharge_condition']+ df4model['discharge_instruction']) #these are object do we need to use astype(str)\n",
    "\n",
    "train, test = train_test_split(df4model, random_state=42, test_size=0.33, shuffle=True)\n",
    "X_train = train.discharge_instruction.fillna(' ')\n",
    "X_test = test.discharge_instruction.fillna(' ')\n",
    "y_train = train[categories]\n",
    "y_test = test[categories]\n",
    "\n",
    "print(X_train.shape)\n",
    "print(X_test.shape)"
   ]
  },
  {
   "cell_type": "code",
   "execution_count": 18,
   "id": "1a790360",
   "metadata": {},
   "outputs": [
    {
     "name": "stdout",
     "output_type": "stream",
     "text": [
      "... Processing icd_E11\n",
      "Test accuracy is 0.7027359042950139\n",
      "... Processing icd_E78\n",
      "Test accuracy is 0.609970034787201\n",
      "... Processing icd_E87\n",
      "Test accuracy is 0.7906568236874433\n",
      "... Processing icd_F32\n",
      "Test accuracy is 0.7970861413761036\n",
      "... Processing icd_I16\n",
      "Test accuracy is 0.6978794732551865\n",
      "... Processing icd_I50\n",
      "Test accuracy is 0.8417584183878486\n",
      "... Processing icd_N17\n",
      "Test accuracy is 0.8223786179263154\n",
      "... Processing icd_Y92\n",
      "Test accuracy is 0.8178780955442532\n",
      "... Processing icd_Z85\n",
      "Test accuracy is 0.8020459007359273\n",
      "       icd_E11  icd_E78  icd_E87  icd_F32  icd_I16  icd_I50  icd_N17  icd_Y92  \\\n",
      "0            0        1        0        0        0        0        0        0   \n",
      "1            0        0        0        0        1        0        0        0   \n",
      "2            0        0        0        0        0        0        0        0   \n",
      "3            0        0        0        0        0        0        1        0   \n",
      "4            0        0        0        0        0        0        0        0   \n",
      "...        ...      ...      ...      ...      ...      ...      ...      ...   \n",
      "87096        0        0        1        0        0        0        0        0   \n",
      "87097        0        0        0        0        0        0        0        0   \n",
      "87098        0        0        0        0        0        0        0        0   \n",
      "87099        0        0        1        0        0        0        0        0   \n",
      "87100        0        1        0        0        0        1        0        0   \n",
      "\n",
      "       icd_Z85  \n",
      "0            0  \n",
      "1            0  \n",
      "2            0  \n",
      "3            0  \n",
      "4            0  \n",
      "...        ...  \n",
      "87096        0  \n",
      "87097        0  \n",
      "87098        0  \n",
      "87099        0  \n",
      "87100        0  \n",
      "\n",
      "[87101 rows x 9 columns]\n"
     ]
    }
   ],
   "source": [
    "# traing classifier\n",
    "\n",
    "# Define a pipeline combining a text feature extractor with multi lable classifier\n",
    "NB_pipeline = Pipeline([\n",
    "                ('tfidf', TfidfVectorizer(stop_words=list(stop_words))),\n",
    "                ('clf', OneVsRestClassifier(MultinomialNB(\n",
    "                    fit_prior=True, class_prior=None))),\n",
    "            ])\n",
    "\n",
    "var_pre = {}\n",
    "\n",
    "\n",
    "for category in categories:\n",
    "    print('... Processing {}'.format(category))\n",
    "    \n",
    "    NB_pipeline.fit(X_train, train[category])\n",
    "    # compute the testing accuracy\n",
    "    prediction = NB_pipeline.predict(X_test)\n",
    "    var_pre[category] = prediction\n",
    "    \n",
    "    \n",
    "    print('Test accuracy is {}'.format(accuracy_score(test[category], prediction)))\n",
    "\n",
    "nb_pred = pd.DataFrame(var_pre)\n",
    "\n",
    "print(nb_pred)"
   ]
  },
  {
   "cell_type": "code",
   "execution_count": 11,
   "id": "4b4939a1",
   "metadata": {},
   "outputs": [
    {
     "data": {
      "text/html": [
       "<div>\n",
       "<style scoped>\n",
       "    .dataframe tbody tr th:only-of-type {\n",
       "        vertical-align: middle;\n",
       "    }\n",
       "\n",
       "    .dataframe tbody tr th {\n",
       "        vertical-align: top;\n",
       "    }\n",
       "\n",
       "    .dataframe thead th {\n",
       "        text-align: right;\n",
       "    }\n",
       "</style>\n",
       "<table border=\"1\" class=\"dataframe\">\n",
       "  <thead>\n",
       "    <tr style=\"text-align: right;\">\n",
       "      <th></th>\n",
       "      <th>icd_E11</th>\n",
       "      <th>icd_E78</th>\n",
       "      <th>icd_E87</th>\n",
       "      <th>icd_F32</th>\n",
       "      <th>icd_I16</th>\n",
       "      <th>icd_I50</th>\n",
       "      <th>icd_N17</th>\n",
       "      <th>icd_Y92</th>\n",
       "      <th>icd_Z85</th>\n",
       "    </tr>\n",
       "  </thead>\n",
       "  <tbody>\n",
       "    <tr>\n",
       "      <th>4039</th>\n",
       "      <td>0</td>\n",
       "      <td>1</td>\n",
       "      <td>0</td>\n",
       "      <td>0</td>\n",
       "      <td>1</td>\n",
       "      <td>1</td>\n",
       "      <td>0</td>\n",
       "      <td>0</td>\n",
       "      <td>0</td>\n",
       "    </tr>\n",
       "    <tr>\n",
       "      <th>196957</th>\n",
       "      <td>0</td>\n",
       "      <td>0</td>\n",
       "      <td>0</td>\n",
       "      <td>1</td>\n",
       "      <td>1</td>\n",
       "      <td>0</td>\n",
       "      <td>0</td>\n",
       "      <td>1</td>\n",
       "      <td>0</td>\n",
       "    </tr>\n",
       "    <tr>\n",
       "      <th>68719</th>\n",
       "      <td>1</td>\n",
       "      <td>1</td>\n",
       "      <td>0</td>\n",
       "      <td>0</td>\n",
       "      <td>1</td>\n",
       "      <td>0</td>\n",
       "      <td>0</td>\n",
       "      <td>0</td>\n",
       "      <td>0</td>\n",
       "    </tr>\n",
       "    <tr>\n",
       "      <th>18633</th>\n",
       "      <td>0</td>\n",
       "      <td>1</td>\n",
       "      <td>0</td>\n",
       "      <td>0</td>\n",
       "      <td>0</td>\n",
       "      <td>1</td>\n",
       "      <td>1</td>\n",
       "      <td>0</td>\n",
       "      <td>0</td>\n",
       "    </tr>\n",
       "    <tr>\n",
       "      <th>92713</th>\n",
       "      <td>1</td>\n",
       "      <td>0</td>\n",
       "      <td>0</td>\n",
       "      <td>0</td>\n",
       "      <td>0</td>\n",
       "      <td>0</td>\n",
       "      <td>0</td>\n",
       "      <td>0</td>\n",
       "      <td>0</td>\n",
       "    </tr>\n",
       "  </tbody>\n",
       "</table>\n",
       "</div>"
      ],
      "text/plain": [
       "        icd_E11  icd_E78  icd_E87  icd_F32  icd_I16  icd_I50  icd_N17  \\\n",
       "4039          0        1        0        0        1        1        0   \n",
       "196957        0        0        0        1        1        0        0   \n",
       "68719         1        1        0        0        1        0        0   \n",
       "18633         0        1        0        0        0        1        1   \n",
       "92713         1        0        0        0        0        0        0   \n",
       "\n",
       "        icd_Y92  icd_Z85  \n",
       "4039          0        0  \n",
       "196957        1        0  \n",
       "68719         0        0  \n",
       "18633         0        0  \n",
       "92713         0        0  "
      ]
     },
     "execution_count": 11,
     "metadata": {},
     "output_type": "execute_result"
    }
   ],
   "source": [
    "y_test.head(5)"
   ]
  },
  {
   "cell_type": "code",
   "execution_count": 12,
   "id": "94befa83",
   "metadata": {},
   "outputs": [
    {
     "data": {
      "text/html": [
       "<div>\n",
       "<style scoped>\n",
       "    .dataframe tbody tr th:only-of-type {\n",
       "        vertical-align: middle;\n",
       "    }\n",
       "\n",
       "    .dataframe tbody tr th {\n",
       "        vertical-align: top;\n",
       "    }\n",
       "\n",
       "    .dataframe thead th {\n",
       "        text-align: right;\n",
       "    }\n",
       "</style>\n",
       "<table border=\"1\" class=\"dataframe\">\n",
       "  <thead>\n",
       "    <tr style=\"text-align: right;\">\n",
       "      <th></th>\n",
       "      <th>icd_E11</th>\n",
       "      <th>icd_E78</th>\n",
       "      <th>icd_E87</th>\n",
       "      <th>icd_F32</th>\n",
       "      <th>icd_I16</th>\n",
       "      <th>icd_I50</th>\n",
       "      <th>icd_N17</th>\n",
       "      <th>icd_Y92</th>\n",
       "      <th>icd_Z85</th>\n",
       "    </tr>\n",
       "  </thead>\n",
       "  <tbody>\n",
       "    <tr>\n",
       "      <th>0</th>\n",
       "      <td>0</td>\n",
       "      <td>1</td>\n",
       "      <td>0</td>\n",
       "      <td>0</td>\n",
       "      <td>0</td>\n",
       "      <td>0</td>\n",
       "      <td>0</td>\n",
       "      <td>0</td>\n",
       "      <td>0</td>\n",
       "    </tr>\n",
       "    <tr>\n",
       "      <th>1</th>\n",
       "      <td>0</td>\n",
       "      <td>0</td>\n",
       "      <td>0</td>\n",
       "      <td>0</td>\n",
       "      <td>1</td>\n",
       "      <td>0</td>\n",
       "      <td>0</td>\n",
       "      <td>0</td>\n",
       "      <td>0</td>\n",
       "    </tr>\n",
       "    <tr>\n",
       "      <th>2</th>\n",
       "      <td>0</td>\n",
       "      <td>0</td>\n",
       "      <td>0</td>\n",
       "      <td>0</td>\n",
       "      <td>0</td>\n",
       "      <td>0</td>\n",
       "      <td>0</td>\n",
       "      <td>0</td>\n",
       "      <td>0</td>\n",
       "    </tr>\n",
       "    <tr>\n",
       "      <th>3</th>\n",
       "      <td>0</td>\n",
       "      <td>0</td>\n",
       "      <td>0</td>\n",
       "      <td>0</td>\n",
       "      <td>0</td>\n",
       "      <td>0</td>\n",
       "      <td>1</td>\n",
       "      <td>0</td>\n",
       "      <td>0</td>\n",
       "    </tr>\n",
       "    <tr>\n",
       "      <th>4</th>\n",
       "      <td>0</td>\n",
       "      <td>0</td>\n",
       "      <td>0</td>\n",
       "      <td>0</td>\n",
       "      <td>0</td>\n",
       "      <td>0</td>\n",
       "      <td>0</td>\n",
       "      <td>0</td>\n",
       "      <td>0</td>\n",
       "    </tr>\n",
       "  </tbody>\n",
       "</table>\n",
       "</div>"
      ],
      "text/plain": [
       "   icd_E11  icd_E78  icd_E87  icd_F32  icd_I16  icd_I50  icd_N17  icd_Y92  \\\n",
       "0        0        1        0        0        0        0        0        0   \n",
       "1        0        0        0        0        1        0        0        0   \n",
       "2        0        0        0        0        0        0        0        0   \n",
       "3        0        0        0        0        0        0        1        0   \n",
       "4        0        0        0        0        0        0        0        0   \n",
       "\n",
       "   icd_Z85  \n",
       "0        0  \n",
       "1        0  \n",
       "2        0  \n",
       "3        0  \n",
       "4        0  "
      ]
     },
     "execution_count": 12,
     "metadata": {},
     "output_type": "execute_result"
    }
   ],
   "source": [
    "nb_pred.head(5)"
   ]
  },
  {
   "cell_type": "code",
   "execution_count": 13,
   "id": "54ff7416",
   "metadata": {},
   "outputs": [],
   "source": [
    "y_true = y_test.to_numpy()\n",
    "y_pred = nb_pred.to_numpy()"
   ]
  },
  {
   "cell_type": "code",
   "execution_count": 16,
   "id": "c0e1e44a",
   "metadata": {},
   "outputs": [
    {
     "name": "stdout",
     "output_type": "stream",
     "text": [
      "Accuracy Score with the discharge_instruction as variable is 0.17546106390265603\n"
     ]
    }
   ],
   "source": [
    "def Accuracy(y_true, y_pred):\n",
    "\n",
    "    temp = 0\n",
    "\n",
    "    for i in range(y_true.shape[0]):\n",
    "        temp += sum(np.logical_and(y_true[i], y_pred[i])) / sum(np.logical_or(y_true[i], y_pred[i]))\n",
    "    return temp / y_true.shape[0]\n",
    "    \n",
    "print('Accuracy Score with the discharge_instruction as variable is',  Accuracy(y_true, y_pred))"
   ]
  },
  {
   "cell_type": "code",
   "execution_count": 15,
   "id": "097515b1",
   "metadata": {},
   "outputs": [
    {
     "name": "stdout",
     "output_type": "stream",
     "text": [
      "Hamming_loss with the discharge_instruction as variable is 0.23529006555607856\n"
     ]
    }
   ],
   "source": [
    "def Hamming_Loss(y_true, y_pred):\n",
    "    temp=0\n",
    "    for i in range(y_true.shape[0]):\n",
    "        temp += np.size(y_true[i] == y_pred[i]) - np.count_nonzero(y_true[i] == y_pred[i])\n",
    "    return temp/(y_true.shape[0] * y_true.shape[1])\n",
    "    \n",
    "print('Hamming_loss with the discharge_instruction as variable is', Hamming_Loss(y_true, y_pred))"
   ]
  },
  {
   "cell_type": "markdown",
   "id": "a5ebaa40",
   "metadata": {},
   "source": [
    "**The scores changed upon cleaning the strings for the discharge_instruction \n",
    "from a accuracy score of 0.1901903837963846 to Accuracy Score with the discharge_instruction as variable is 0.17546106390265603\n",
    "\n",
    "Hamming_loss with the discharge_instruction as variable is 0.23433714882722356 to Hamming_loss with the discharge_instruction as variable is 0.23529006555607856**"
   ]
  },
  {
   "cell_type": "code",
   "execution_count": 24,
   "id": "aae37cc9",
   "metadata": {},
   "outputs": [
    {
     "data": {
      "text/plain": [
       "array([[29.72640957, 39.00299652, 20.93431763, 20.29138586, 30.21205267,\n",
       "        15.82415816, 17.76213821, 18.21219045, 19.79540993]])"
      ]
     },
     "execution_count": 24,
     "metadata": {},
     "output_type": "execute_result"
    }
   ],
   "source": [
    "(abs(np.diff([y_test.to_numpy(), nb_pred.to_numpy()], axis=0)).sum(axis=1)/len(y_test))*100"
   ]
  },
  {
   "cell_type": "code",
   "execution_count": 19,
   "id": "ea1472f0",
   "metadata": {},
   "outputs": [
    {
     "name": "stdout",
     "output_type": "stream",
     "text": [
      "Index(['icd_E11', 'icd_E78', 'icd_E87', 'icd_F32', 'icd_I16', 'icd_I50',\n",
      "       'icd_N17', 'icd_Y92', 'icd_Z85'],\n",
      "      dtype='object') [[29.72640957 39.00299652 20.93431763 20.29138586 30.21205267 15.82415816\n",
      "  17.76213821 18.21219045 19.79540993]]\n"
     ]
    }
   ],
   "source": [
    "print(y_test.columns, ((abs(np.diff([y_test.to_numpy(), nb_pred.to_numpy()], axis=0))).sum(axis=1)/len(y_test))*100)"
   ]
  },
  {
   "cell_type": "code",
   "execution_count": 32,
   "id": "4fa73e0e",
   "metadata": {},
   "outputs": [
    {
     "data": {
      "text/plain": [
       "(87101, 9)"
      ]
     },
     "execution_count": 32,
     "metadata": {},
     "output_type": "execute_result"
    }
   ],
   "source": [
    "np.diff([y_test.to_numpy(), nb_pred.to_numpy()], axis=0).shape\n"
   ]
  },
  {
   "cell_type": "code",
   "execution_count": 44,
   "id": "435887d3",
   "metadata": {},
   "outputs": [
    {
     "data": {
      "text/plain": [
       "0.23529006555607862"
      ]
     },
     "execution_count": 44,
     "metadata": {},
     "output_type": "execute_result"
    }
   ],
   "source": [
    "(abs(np.diff([y_test.to_numpy(), nb_pred.to_numpy()], axis=0)).sum(axis=2)/9).mean()\n",
    "\n",
    "#On avaerage out of the 9 times two times the icd diagnosis is wrong"
   ]
  },
  {
   "cell_type": "code",
   "execution_count": null,
   "id": "c2a5a9e1",
   "metadata": {},
   "outputs": [],
   "source": [
    "# going to use the dis_mer as the variable now\n",
    "train, test = train_test_split(df4model, random_state=42, test_size=0.33, shuffle=True)\n",
    "X_train = train.dis_mer.fillna(' ')\n",
    "X_test = test.dis_mer.fillna(' ')\n",
    "y_train = train[categories]\n",
    "y_test = test[categories]\n",
    "\n",
    "print(X_train.shape)\n",
    "print(X_test.shape)"
   ]
  }
 ],
 "metadata": {
  "kernelspec": {
   "display_name": "Python 3 (ipykernel)",
   "language": "python",
   "name": "python3"
  },
  "language_info": {
   "codemirror_mode": {
    "name": "ipython",
    "version": 3
   },
   "file_extension": ".py",
   "mimetype": "text/x-python",
   "name": "python",
   "nbconvert_exporter": "python",
   "pygments_lexer": "ipython3",
   "version": "3.9.16"
  }
 },
 "nbformat": 4,
 "nbformat_minor": 5
}
