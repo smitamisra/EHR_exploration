{
 "cells": [
  {
   "cell_type": "code",
   "execution_count": 2,
   "id": "860efb94",
   "metadata": {},
   "outputs": [],
   "source": [
    "import pandas as pd\n",
    "import re\n",
    "import numpy as np\n",
    "import matplotlib.pyplot as plt"
   ]
  },
  {
   "cell_type": "code",
   "execution_count": 4,
   "id": "50f9934d",
   "metadata": {},
   "outputs": [],
   "source": [
    "dis = pd.read_csv(\"../data/text/discharge.csv\", nrows=100)"
   ]
  },
  {
   "cell_type": "code",
   "execution_count": 6,
   "id": "bdb0f82b",
   "metadata": {},
   "outputs": [
    {
     "data": {
      "text/html": [
       "<div>\n",
       "<style scoped>\n",
       "    .dataframe tbody tr th:only-of-type {\n",
       "        vertical-align: middle;\n",
       "    }\n",
       "\n",
       "    .dataframe tbody tr th {\n",
       "        vertical-align: top;\n",
       "    }\n",
       "\n",
       "    .dataframe thead th {\n",
       "        text-align: right;\n",
       "    }\n",
       "</style>\n",
       "<table border=\"1\" class=\"dataframe\">\n",
       "  <thead>\n",
       "    <tr style=\"text-align: right;\">\n",
       "      <th></th>\n",
       "      <th>note_id</th>\n",
       "      <th>subject_id</th>\n",
       "      <th>hadm_id</th>\n",
       "      <th>note_type</th>\n",
       "      <th>note_seq</th>\n",
       "      <th>charttime</th>\n",
       "      <th>storetime</th>\n",
       "      <th>text</th>\n",
       "    </tr>\n",
       "  </thead>\n",
       "  <tbody>\n",
       "    <tr>\n",
       "      <th>0</th>\n",
       "      <td>10000032-DS-21</td>\n",
       "      <td>10000032</td>\n",
       "      <td>22595853</td>\n",
       "      <td>DS</td>\n",
       "      <td>21</td>\n",
       "      <td>2180-05-07 00:00:00</td>\n",
       "      <td>2180-05-09 15:26:00</td>\n",
       "      <td>\\nName:  ___                     Unit No:   _...</td>\n",
       "    </tr>\n",
       "    <tr>\n",
       "      <th>1</th>\n",
       "      <td>10000032-DS-22</td>\n",
       "      <td>10000032</td>\n",
       "      <td>22841357</td>\n",
       "      <td>DS</td>\n",
       "      <td>22</td>\n",
       "      <td>2180-06-27 00:00:00</td>\n",
       "      <td>2180-07-01 10:15:00</td>\n",
       "      <td>\\nName:  ___                     Unit No:   _...</td>\n",
       "    </tr>\n",
       "    <tr>\n",
       "      <th>2</th>\n",
       "      <td>10000032-DS-23</td>\n",
       "      <td>10000032</td>\n",
       "      <td>29079034</td>\n",
       "      <td>DS</td>\n",
       "      <td>23</td>\n",
       "      <td>2180-07-25 00:00:00</td>\n",
       "      <td>2180-07-25 21:42:00</td>\n",
       "      <td>\\nName:  ___                     Unit No:   _...</td>\n",
       "    </tr>\n",
       "    <tr>\n",
       "      <th>3</th>\n",
       "      <td>10000032-DS-24</td>\n",
       "      <td>10000032</td>\n",
       "      <td>25742920</td>\n",
       "      <td>DS</td>\n",
       "      <td>24</td>\n",
       "      <td>2180-08-07 00:00:00</td>\n",
       "      <td>2180-08-10 05:43:00</td>\n",
       "      <td>\\nName:  ___                     Unit No:   _...</td>\n",
       "    </tr>\n",
       "    <tr>\n",
       "      <th>4</th>\n",
       "      <td>10000084-DS-17</td>\n",
       "      <td>10000084</td>\n",
       "      <td>23052089</td>\n",
       "      <td>DS</td>\n",
       "      <td>17</td>\n",
       "      <td>2160-11-25 00:00:00</td>\n",
       "      <td>2160-11-25 15:09:00</td>\n",
       "      <td>\\nName:  ___                    Unit No:   __...</td>\n",
       "    </tr>\n",
       "  </tbody>\n",
       "</table>\n",
       "</div>"
      ],
      "text/plain": [
       "          note_id  subject_id   hadm_id note_type  note_seq  \\\n",
       "0  10000032-DS-21    10000032  22595853        DS        21   \n",
       "1  10000032-DS-22    10000032  22841357        DS        22   \n",
       "2  10000032-DS-23    10000032  29079034        DS        23   \n",
       "3  10000032-DS-24    10000032  25742920        DS        24   \n",
       "4  10000084-DS-17    10000084  23052089        DS        17   \n",
       "\n",
       "             charttime            storetime  \\\n",
       "0  2180-05-07 00:00:00  2180-05-09 15:26:00   \n",
       "1  2180-06-27 00:00:00  2180-07-01 10:15:00   \n",
       "2  2180-07-25 00:00:00  2180-07-25 21:42:00   \n",
       "3  2180-08-07 00:00:00  2180-08-10 05:43:00   \n",
       "4  2160-11-25 00:00:00  2160-11-25 15:09:00   \n",
       "\n",
       "                                                text  \n",
       "0   \\nName:  ___                     Unit No:   _...  \n",
       "1   \\nName:  ___                     Unit No:   _...  \n",
       "2   \\nName:  ___                     Unit No:   _...  \n",
       "3   \\nName:  ___                     Unit No:   _...  \n",
       "4   \\nName:  ___                    Unit No:   __...  "
      ]
     },
     "execution_count": 6,
     "metadata": {},
     "output_type": "execute_result"
    }
   ],
   "source": [
    "dis.head()"
   ]
  },
  {
   "cell_type": "code",
   "execution_count": 8,
   "id": "8a95607d",
   "metadata": {},
   "outputs": [
    {
     "data": {
      "text/plain": [
       "' \\nName:  ___                     Unit No:   ___\\n \\nAdmission Date:  ___              Discharge Date:   ___\\n \\nDate of Birth:  ___             Sex:   F\\n \\nService: MEDICINE\\n \\nAllergies: \\nNo Known Allergies / Adverse Drug Reactions\\n \\nAttending: ___\\n \\nChief Complaint:\\nWorsening ABD distension and pain \\n \\nMajor Surgical or Invasive Procedure:\\nParacentesis\\n\\n \\nHistory of Present Illness:\\n___ HCV cirrhosis c/b ascites, hiv on ART, h/o IVDU, COPD, \\nbioplar, PTSD, presented from OSH ED with worsening abd \\ndistension over past week.  \\nPt reports self-discontinuing lasix and spirnolactone ___ weeks \\nago, because she feels like \"they don\\'t do anything\" and that \\nshe \"doesn\\'t want to put more chemicals in her.\" She does not \\nfollow Na-restricted diets. In the past week, she notes that she \\nhas been having worsening abd distension and discomfort. She \\ndenies ___ edema, or SOB, or orthopnea. She denies f/c/n/v, d/c, \\ndysuria. She had food poisoning a week ago from eating stale \\ncake (n/v 20 min after food ingestion), which resolved the same \\nday. She denies other recent illness or sick contacts. She notes \\nthat she has been noticing gum bleeding while brushing her teeth \\nin recent weeks. she denies easy bruising, melena, BRBPR, \\nhemetesis, hemoptysis, or hematuria.  \\nBecause of her abd pain, she went to OSH ED and was transferred \\nto ___ for further care. Per ED report, pt has brief period of \\nconfusion - she did not recall the ultrasound or bloodwork at \\nosh. She denies recent drug use or alcohol use. She denies \\nfeeling confused, but reports that she is forgetful at times.  \\nIn the ED, initial vitals were 98.4 70 106/63 16 97%RA  \\nLabs notable for ALT/AST/AP ___ ___: ___, \\nTbili1.6, WBC 5K, platelet 77, INR 1.6  \\n\\n \\nPast Medical History:\\n1. HCV Cirrhosis  \\n2. No history of abnormal Pap smears.  \\n3. She had calcification in her breast, which was removed  \\npreviously and per patient not, it was benign.  \\n4. For HIV disease, she is being followed by Dr. ___ Dr.  \\n___.  \\n5. COPD  \\n6. Past history of smoking.  \\n7. She also had a skin lesion, which was biopsied and showed  \\nskin cancer per patient report and is scheduled for a complete  \\nremoval of the skin lesion in ___ of this year.  \\n8. She also had another lesion in her forehead with purple  \\ndiscoloration. It was biopsied to exclude the possibility of  \\n___\\'s sarcoma, the results is pending.  \\n9. A 15 mm hypoechoic lesion on her ultrasound on ___  \\nand is being monitored by an MRI.  \\n10. History of dysplasia of anus in ___.  \\n11. Bipolar affective disorder, currently manic, mild, and PTSD. \\n \\n12. History of cocaine and heroin use.  \\n\\n \\nSocial History:\\n___\\nFamily History:\\nShe a total of five siblings, but she is not  \\ntalking to most of them. She only has one brother that she is in \\n \\ntouch with and lives in ___. She is not aware of any  \\nknown GI or liver disease in her family.  \\nHer last alcohol consumption was one drink two months ago. No  \\nregular alcohol consumption. Last drug use ___ years ago. She  \\nquit smoking a couple of years ago.  \\n\\n \\nPhysical Exam:\\nVS: 98.1 107/61 78 18 97RA  \\nGeneral: in NAD  \\nHEENT: CTAB, anicteric sclera, OP clear  \\nNeck: supple, no LAD  \\nCV: RRR,S1S2, no m/r/g  \\nLungs: CTAb, prolonged expiratory phase, no w/r/r  \\nAbdomen: distended, mild diffuse tenderness, +flank dullness, \\ncannot percuss liver/spleen edge ___ distension  \\nGU: no foley  \\nExt: wwp, no c/e/e, + clubbing  \\nNeuro: AAO3, converse normally, able to recall 3 times after 5 \\nminutes, CN II-XII intact  \\n\\nDischarge:\\n\\nPHYSICAL EXAMINATION:  \\nVS: 98 105/70 95\\nGeneral: in NAD  \\nHEENT: anicteric sclera, OP clear  \\nNeck: supple, no LAD  \\nCV: RRR,S1S2, no m/r/g  \\nLungs: CTAb, prolonged expiratory phase, no w/r/r  \\nAbdomen: distended but improved, TTP in RUQ, \\nGU: no foley  \\nExt: wwp, no c/e/e, + clubbing  \\nNeuro: AAO3,  CN II-XII intact  \\n\\n \\nPertinent Results:\\n___ 10:25PM   GLUCOSE-109* UREA N-25* CREAT-0.3* SODIUM-138 \\nPOTASSIUM-3.4 CHLORIDE-105 TOTAL CO2-27 ANION GAP-9\\n___ 10:25PM   estGFR-Using this\\n___ 10:25PM   ALT(SGPT)-100* AST(SGOT)-114* ALK PHOS-114* \\nTOT BILI-1.6*\\n___ 10:25PM   LIPASE-77*\\n___ 10:25PM   ALBUMIN-3.3*\\n___ 10:25PM   WBC-5.0# RBC-4.29 HGB-14.3 HCT-42.6 MCV-99* \\nMCH-33.3* MCHC-33.5 RDW-15.7*\\n___ 10:25PM   NEUTS-70.3* LYMPHS-16.5* MONOS-8.1 EOS-4.2* \\nBASOS-0.8\\n___ 10:25PM   PLT COUNT-71*\\n___ 10:25PM   ___ PTT-30.9 ___\\n___ 10:25PM   ___\\n.\\n\\nCXR: No acute cardiopulmonary process.  \\nU/S:  \\n1. Nodular appearance of the liver compatible with cirrhosis. \\nSigns of portal  \\nhypertension including small amount of ascites and splenomegaly. \\n \\n2. Cholelithiasis.  \\n3. Patent portal veins with normal hepatopetal flow.  \\nDiagnostic para attempted in the ED, unsuccessful.  \\nOn the floor, pt c/o abd distension and discomfort.\\n \\nBrief Hospital Course:\\n___ HCV cirrhosis c/b ascites, hiv on ART, h/o IVDU, COPD, \\nbioplar, PTSD, presented from OSH ED with worsening abd \\ndistension over past week and confusion.  \\n\\n# Ascites - p/w worsening abd distension and discomfort for last \\nweek. likely ___ portal HTN given underlying liver disease, \\nthough no ascitic fluid available on night of admission. No \\nsigns of heart failure noted on exam. This was ___ to med \\nnon-compliance and lack of diet restriction. SBP negative\\ndiuretics:  \\n> Furosemide 40 mg PO DAILY  \\n> Spironolactone 50 mg PO DAILY, chosen over the usual 100mg \\ndose d/t K+ of 4.5.   \\n CXR was wnl, UA negative, Urine culture blood culture negative. \\n \\nPt was losing excess fluid appropriately with stable lytes on \\nthe above regimen. Pt was scheduled with current PCP for \\n___ check upon discharge.   \\nPt was scheduled for new PCP with Dr. ___ at ___ and \\nfollow up in Liver clinic to schedule outpatient screening EGD \\nand ___.   \\n \\n\\n \\nMedications on Admission:\\nThe Preadmission Medication list is accurate and complete.\\n1. Furosemide 20 mg PO DAILY \\n2. Spironolactone 50 mg PO DAILY \\n3. Albuterol Inhaler 2 PUFF IH Q4H:PRN wheezing, SOB \\n4. Raltegravir 400 mg PO BID \\n5. Emtricitabine-Tenofovir (Truvada) 1 TAB PO DAILY \\n6. Nicotine Patch 14 mg TD DAILY \\n7. Ipratropium Bromide Neb 1 NEB IH Q6H SOB \\n\\n \\nDischarge Medications:\\n1. Albuterol Inhaler 2 PUFF IH Q4H:PRN wheezing, SOB \\n2. Emtricitabine-Tenofovir (Truvada) 1 TAB PO DAILY \\n3. Furosemide 40 mg PO DAILY \\nRX *furosemide 40 mg 1 tablet(s) by mouth Daily Disp #*30 Tablet \\nRefills:*3\\n4. Ipratropium Bromide Neb 1 NEB IH Q6H SOB \\n5. Nicotine Patch 14 mg TD DAILY \\n6. Raltegravir 400 mg PO BID \\n7. Spironolactone 50 mg PO DAILY \\n8. Acetaminophen 500 mg PO Q6H:PRN pain \\n\\n \\nDischarge Disposition:\\nHome\\n \\nDischarge Diagnosis:\\nAscites from Portal HTN\\n\\n \\nDischarge Condition:\\nMental Status: Clear and coherent.\\nLevel of Consciousness: Alert and interactive.\\nActivity Status: Ambulatory - Independent.\\n\\n \\nDischarge Instructions:\\nDear Ms. ___,\\nIt was a pleasure taking care of you! You came to us with \\nstomach pain and worsening distension. While you were here we \\ndid a paracentesis to remove 1.5L of fluid from your belly. We \\nalso placed you on you 40 mg of Lasix and 50 mg of Aldactone to \\nhelp you urinate the excess fluid still in your belly. As we \\ndiscussed, everyone has a different dose of lasix required to \\nmake them urinate and it\\'s likely that you weren\\'t taking a high \\nenough dose. Please take these medications daily to keep excess \\nfluid off and eat a low salt diet. You will follow up with Dr. \\n___ in liver clinic and from there have your colonoscopy \\nand EGD scheduled. Of course, we are always here if you need us. \\nWe wish you all the best!\\nYour ___ Team.  \\n \\nFollowup Instructions:\\n___\\n'"
      ]
     },
     "execution_count": 8,
     "metadata": {},
     "output_type": "execute_result"
    }
   ],
   "source": [
    "dis.loc[0,'text']"
   ]
  },
  {
   "cell_type": "code",
   "execution_count": null,
   "id": "091bfbba",
   "metadata": {},
   "outputs": [],
   "source": [
    "for statement in discharge.loc[0:3, 'text'].sample(3, random_state=seed):\n",
    "    print(statement)\n",
    "    print('-------------------------------------------------------------------------')"
   ]
  }
 ],
 "metadata": {
  "kernelspec": {
   "display_name": "Python 3 (ipykernel)",
   "language": "python",
   "name": "python3"
  },
  "language_info": {
   "codemirror_mode": {
    "name": "ipython",
    "version": 3
   },
   "file_extension": ".py",
   "mimetype": "text/x-python",
   "name": "python",
   "nbconvert_exporter": "python",
   "pygments_lexer": "ipython3",
   "version": "3.9.16"
  }
 },
 "nbformat": 4,
 "nbformat_minor": 5
}
