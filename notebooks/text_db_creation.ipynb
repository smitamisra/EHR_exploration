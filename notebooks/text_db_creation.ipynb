{
 "cells": [
  {
   "cell_type": "code",
   "execution_count": 11,
   "id": "45fc70f5",
   "metadata": {},
   "outputs": [],
   "source": [
    "import pandas as pd\n",
    "import sqlite3\n",
    "from tqdm.notebook import tqdm\n",
    "\n",
    "import re"
   ]
  },
  {
   "cell_type": "code",
   "execution_count": 6,
   "id": "758d1700",
   "metadata": {},
   "outputs": [
    {
     "data": {
      "text/plain": [
       "299712"
      ]
     },
     "execution_count": 6,
     "metadata": {},
     "output_type": "execute_result"
    }
   ],
   "source": [
    "patients = pd.read_csv('../data/pts.csv')\n",
    "\n",
    "patients.columns = [x.lower().replace(' ', '_') for x in patients.columns]\n",
    "\n",
    "db = sqlite3.connect('../data/ehr.sqlite')\n",
    "\n",
    "patients.to_sql('patients', db, if_exists = 'append', index = False) "
   ]
  },
  {
   "cell_type": "code",
   "execution_count": 7,
   "id": "36d691eb",
   "metadata": {},
   "outputs": [
    {
     "data": {
      "text/plain": [
       "431231"
      ]
     },
     "execution_count": 7,
     "metadata": {},
     "output_type": "execute_result"
    }
   ],
   "source": [
    "admission = pd.read_csv('../data/hos/admissions.csv')\n",
    "\n",
    "admission.columns = [x.lower().replace(' ', '_') for x in admission.columns]\n",
    "\n",
    "db = sqlite3.connect('../data/ehr.sqlite')\n",
    "\n",
    "admission.to_sql('admission', db, if_exists = 'append', index = False) "
   ]
  },
  {
   "cell_type": "code",
   "execution_count": 8,
   "id": "4e7df739",
   "metadata": {},
   "outputs": [
    {
     "data": {
      "text/plain": [
       "4756326"
      ]
     },
     "execution_count": 8,
     "metadata": {},
     "output_type": "execute_result"
    }
   ],
   "source": [
    "diagicd = pd.read_csv('../data/diag_icd.csv')\n",
    "\n",
    "diagicd.columns = [x.lower().replace(' ', '_') for x in diagicd.columns]\n",
    "\n",
    "db = sqlite3.connect('../data/ehr.sqlite')\n",
    "\n",
    "diagicd.to_sql('diagicd', db, if_exists = 'append', index = False) "
   ]
  },
  {
   "cell_type": "code",
   "execution_count": null,
   "id": "6526691f",
   "metadata": {},
   "outputs": [],
   "source": [
    "# subject_id\thadm_id patient"
   ]
  },
  {
   "cell_type": "code",
   "execution_count": 13,
   "id": "64b84451",
   "metadata": {},
   "outputs": [
    {
     "data": {
      "application/vnd.jupyter.widget-view+json": {
       "model_id": "bfd0eb4aef4347228a6eaebedbc93b9b",
       "version_major": 2,
       "version_minor": 0
      },
      "text/plain": [
       "0it [00:00, ?it/s]"
      ]
     },
     "metadata": {},
     "output_type": "display_data"
    }
   ],
   "source": [
    "db = sqlite3.connect('../data/hop_team.sqlite')\n",
    "\n",
    "for chunk in tqdm(pd.read_csv('../data/text/discharge.csv', chunksize = 10000)):\n",
    "    df_e78 = pd.read_csv('../data/icd/e78.csv')\n",
    "    dis = chunk.merge(df_e78, how='inner', on=['subject_id', 'hadm_id']) #to get the rows that match our observations\n",
    "    \n",
    "#     dic_list = []\n",
    "# for j in range (10):\n",
    "    \n",
    "#     dic = {'subject_id': (dis.loc[j, 'subject_id']),\n",
    "#            'hadm_id' : (dis.loc[j, 'hadm_id'])}\n",
    "#     # j = 5\n",
    "#     list_subheading = re.findall('\\n(.+):\\n', dis.loc[j,'text'])\n",
    "#     list_subheading = list_subheading+['$']\n",
    "\n",
    "\n",
    "#     for i in range (len(list_subheading)-1):\n",
    "#         text_start = re.search(list_subheading[i] + \":\\n\", dis.loc[j,'text']).end()\n",
    "#         if i < (len(list_subheading)-2):\n",
    "#             text_end = re.search(list_subheading[i+1] + \":\\n\", dis.loc[j,'text']).start()\n",
    "#         else:\n",
    "#             text_end = re.search(list_subheading[i+1], dis.loc[j,'text']).start() \n",
    "#         text_parsed = dis.loc[j,'text'][text_start:text_end]\n",
    "\n",
    "#         dic[list_subheading[i]]=text_parsed\n",
    "#     dic_list.append(dic)\n",
    "\n",
    "\n",
    "# df_text = pd.DataFrame(dic_list)\n",
    "# df_text_clean = df_text[['subject_id', 'hadm_id',\n",
    "#  'Chief Complaint',\n",
    "#  'Major Surgical or Invasive Procedure',\n",
    "#  'History of Present Illness',\n",
    "#  'Past Medical History',\n",
    "#  'Social History',\n",
    "#  'Family History',\n",
    "#  'Physical Exam',\n",
    "#  'Discharge',\n",
    "#  'Pertinent Results',\n",
    "#  'Brief Hospital Course',\n",
    "#  'Medications on Admission',\n",
    "#  'Discharge Medications',\n",
    "#  'Discharge Disposition',\n",
    "#  'Discharge Diagnosis',\n",
    "#  'Discharge Condition',\n",
    "#  'Discharge Instructions',\n",
    "#  'Followup Instructions']]\n",
    "\n",
    "    \n",
    "#     # filter it to the subjectId and hadm_id\n",
    "    dis.to_sql('text', db, if_exists = 'append', index = False)            # Append the chunk to a referral table"
   ]
  },
  {
   "cell_type": "code",
   "execution_count": 15,
   "id": "b6bca128",
   "metadata": {},
   "outputs": [
    {
     "data": {
      "text/html": [
       "<div>\n",
       "<style scoped>\n",
       "    .dataframe tbody tr th:only-of-type {\n",
       "        vertical-align: middle;\n",
       "    }\n",
       "\n",
       "    .dataframe tbody tr th {\n",
       "        vertical-align: top;\n",
       "    }\n",
       "\n",
       "    .dataframe thead th {\n",
       "        text-align: right;\n",
       "    }\n",
       "</style>\n",
       "<table border=\"1\" class=\"dataframe\">\n",
       "  <thead>\n",
       "    <tr style=\"text-align: right;\">\n",
       "      <th></th>\n",
       "      <th>note_id</th>\n",
       "      <th>subject_id</th>\n",
       "      <th>hadm_id</th>\n",
       "      <th>note_type</th>\n",
       "      <th>note_seq</th>\n",
       "      <th>charttime</th>\n",
       "      <th>storetime</th>\n",
       "      <th>text</th>\n",
       "      <th>long_title</th>\n",
       "      <th>icd</th>\n",
       "    </tr>\n",
       "  </thead>\n",
       "  <tbody>\n",
       "    <tr>\n",
       "      <th>0</th>\n",
       "      <td>10000084-DS-17</td>\n",
       "      <td>10000084</td>\n",
       "      <td>23052089</td>\n",
       "      <td>DS</td>\n",
       "      <td>17</td>\n",
       "      <td>2160-11-25 00:00:00</td>\n",
       "      <td>2160-11-25 15:09:00</td>\n",
       "      <td>\\nName:  ___                    Unit No:   __...</td>\n",
       "      <td>Hyperlipidemia, unspecified</td>\n",
       "      <td>E78</td>\n",
       "    </tr>\n",
       "  </tbody>\n",
       "</table>\n",
       "</div>"
      ],
      "text/plain": [
       "          note_id  subject_id   hadm_id note_type  note_seq  \\\n",
       "0  10000084-DS-17    10000084  23052089        DS        17   \n",
       "\n",
       "             charttime            storetime  \\\n",
       "0  2160-11-25 00:00:00  2160-11-25 15:09:00   \n",
       "\n",
       "                                                text  \\\n",
       "0   \\nName:  ___                    Unit No:   __...   \n",
       "\n",
       "                    long_title  icd  \n",
       "0  Hyperlipidemia, unspecified  E78  "
      ]
     },
     "execution_count": 15,
     "metadata": {},
     "output_type": "execute_result"
    }
   ],
   "source": [
    "query = \"\"\"\n",
    "SELECT * \n",
    "FROM text \n",
    "WHERE subject_id = '10000084'\n",
    "\"\"\"\n",
    "\n",
    "with sqlite3.connect('../data/hop_team.sqlite') as db: \n",
    "    text_sqlite = pd.read_sql(query, db)\n",
    "text_sqlite"
   ]
  }
 ],
 "metadata": {
  "kernelspec": {
   "display_name": "Python 3 (ipykernel)",
   "language": "python",
   "name": "python3"
  },
  "language_info": {
   "codemirror_mode": {
    "name": "ipython",
    "version": 3
   },
   "file_extension": ".py",
   "mimetype": "text/x-python",
   "name": "python",
   "nbconvert_exporter": "python",
   "pygments_lexer": "ipython3",
   "version": "3.9.16"
  }
 },
 "nbformat": 4,
 "nbformat_minor": 5
}
