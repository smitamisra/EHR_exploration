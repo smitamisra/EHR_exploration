{
 "cells": [
  {
   "cell_type": "code",
   "execution_count": 1,
   "id": "45fc70f5",
   "metadata": {},
   "outputs": [],
   "source": [
    "import pandas as pd\n",
    "import sqlite3\n",
    "from tqdm.notebook import tqdm"
   ]
  },
  {
   "cell_type": "code",
   "execution_count": null,
   "id": "6526691f",
   "metadata": {},
   "outputs": [],
   "source": [
    "# subject_id\thadm_id patient"
   ]
  },
  {
   "cell_type": "code",
   "execution_count": null,
   "id": "64b84451",
   "metadata": {},
   "outputs": [],
   "source": [
    "db = sqlite3.connect('Data/ehr.sqlite')\n",
    "\n",
    "for chunk in tqdm(pd.read_csv('../data/text/discharge.csv', chunksize = 10000)):\n",
    "    chunk = chunk.merge(df_patient, how='inner', on=['subject_id', 'hadm_id'])\n",
    "    \n",
    "#     chunk = chunk[(chunk['subject_id'] == ) & (chunk['hadm_id'] == )]     # filter it to the subjectId and hadm_id\n",
    "    chunk.to_sql('distext', db, if_exists = 'append', index = False)            # Append the chunk to a referral table"
   ]
  }
 ],
 "metadata": {
  "kernelspec": {
   "display_name": "Python 3 (ipykernel)",
   "language": "python",
   "name": "python3"
  },
  "language_info": {
   "codemirror_mode": {
    "name": "ipython",
    "version": 3
   },
   "file_extension": ".py",
   "mimetype": "text/x-python",
   "name": "python",
   "nbconvert_exporter": "python",
   "pygments_lexer": "ipython3",
   "version": "3.9.16"
  }
 },
 "nbformat": 4,
 "nbformat_minor": 5
}
