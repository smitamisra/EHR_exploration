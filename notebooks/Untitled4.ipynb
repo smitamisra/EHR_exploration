{
 "cells": [
  {
   "cell_type": "code",
   "execution_count": 9,
   "id": "845a6695",
   "metadata": {},
   "outputs": [
    {
     "name": "stderr",
     "output_type": "stream",
     "text": [
      "[nltk_data] Downloading package stopwords to\n",
      "[nltk_data]     C:\\Users\\upadh\\AppData\\Roaming\\nltk_data...\n",
      "[nltk_data]   Package stopwords is already up-to-date!\n"
     ]
    }
   ],
   "source": [
    "import pandas as pd\n",
    "from collections import Counter\n",
    "\n",
    "from sklearn.model_selection import train_test_split\n",
    "from sklearn.metrics import accuracy_score, confusion_matrix\n",
    "import re\n",
    "import numpy as np\n",
    "import matplotlib.pyplot as plt\n",
    "\n",
    "from scipy import sparse\n",
    "from scipy.sparse.linalg import svds\n",
    "\n",
    "from sklearn.metrics.pairwise import cosine_similarity\n",
    "\n",
    "from nltk.tokenize import sent_tokenize, word_tokenize, regexp_tokenize\n",
    "\n",
    "\n",
    "from nltk.corpus import stopwords\n",
    "\n",
    "from sklearn.feature_extraction.text import CountVectorizer\n",
    "\n",
    "import nltk\n",
    "nltk.download('stopwords')\n",
    "\n",
    "from sklearn.model_selection import train_test_split\n",
    "from sklearn.feature_extraction.text import TfidfVectorizer\n",
    "from sklearn.naive_bayes import MultinomialNB\n",
    "from sklearn.metrics import accuracy_score\n",
    "from sklearn.multiclass import OneVsRestClassifier\n",
    "from nltk.corpus import stopwords\n",
    "stop_words = set(stopwords.words('english'))\n",
    "from sklearn.svm import LinearSVC\n",
    "from sklearn.linear_model import LogisticRegression\n",
    "from sklearn.pipeline import Pipeline\n",
    "import seaborn as sns"
   ]
  },
  {
   "cell_type": "code",
   "execution_count": 3,
   "id": "4b209bcb",
   "metadata": {},
   "outputs": [],
   "source": [
    "dfbert = pd.read_csv('../data/df_bert.csv').dropna().reset_index()"
   ]
  },
  {
   "cell_type": "code",
   "execution_count": 5,
   "id": "d5c75f58",
   "metadata": {},
   "outputs": [
    {
     "data": {
      "text/plain": [
       "Index(['index', 'subject_id', 'hadm_id', 'discharge_instruction', 'icd_E11',\n",
       "       'icd_E78', 'icd_E87', 'icd_F32', 'icd_I16', 'icd_I50', 'icd_N17',\n",
       "       'icd_Y92', 'icd_Z85'],\n",
       "      dtype='object')"
      ]
     },
     "execution_count": 5,
     "metadata": {},
     "output_type": "execute_result"
    }
   ],
   "source": [
    "dfbert.columns"
   ]
  },
  {
   "cell_type": "code",
   "execution_count": 11,
   "id": "dc0eb0be",
   "metadata": {},
   "outputs": [],
   "source": [
    "def Accuracy(y_true, y_pred):\n",
    "\n",
    "    temp = 0\n",
    "\n",
    "    for i in range(y_true.shape[0]):\n",
    "        temp += sum(np.logical_and(y_true[i], y_pred[i])) / sum(np.logical_or(y_true[i], y_pred[i]))\n",
    "    return temp / y_true.shape[0]"
   ]
  },
  {
   "cell_type": "code",
   "execution_count": 12,
   "id": "a05433cd",
   "metadata": {},
   "outputs": [],
   "source": [
    "def Hamming_Loss(y_true, y_pred):\n",
    "    temp=0\n",
    "    for i in range(y_true.shape[0]):\n",
    "        temp += np.size(y_true[i] == y_pred[i]) - np.count_nonzero(y_true[i] == y_pred[i])\n",
    "    return temp/(y_true.shape[0] * y_true.shape[1])"
   ]
  },
  {
   "cell_type": "code",
   "execution_count": 6,
   "id": "c4867712",
   "metadata": {},
   "outputs": [
    {
     "name": "stdout",
     "output_type": "stream",
     "text": [
      "(175298,)\n",
      "(86341,)\n"
     ]
    }
   ],
   "source": [
    "categories = ['icd_E11', 'icd_E78','icd_E87', 'icd_F32', 'icd_I16', 'icd_I50', 'icd_N17', 'icd_Y92','icd_Z85']\n",
    "\n",
    "\n",
    "\n",
    "train, test = train_test_split(dfbert, random_state=42, test_size=0.33, shuffle=True)\n",
    "X_train = train.discharge_instruction\n",
    "X_test = test.discharge_instruction\n",
    "y_train = train[categories]\n",
    "y_test = test[categories]\n",
    "\n",
    "print(X_train.shape)\n",
    "print(X_test.shape)"
   ]
  },
  {
   "cell_type": "markdown",
   "id": "63184ebe",
   "metadata": {},
   "source": [
    "**Tfidf MultinomialNB**"
   ]
  },
  {
   "cell_type": "code",
   "execution_count": 10,
   "id": "d70ddc86",
   "metadata": {},
   "outputs": [
    {
     "name": "stdout",
     "output_type": "stream",
     "text": [
      "... Processing icd_E11\n",
      "Test accuracy is 0.7000845484763901\n",
      "... Processing icd_E78\n",
      "Test accuracy is 0.6099303922817665\n",
      "... Processing icd_E87\n",
      "Test accuracy is 0.7887330468722855\n",
      "... Processing icd_F32\n",
      "Test accuracy is 0.7971878945112982\n",
      "... Processing icd_I16\n",
      "Test accuracy is 0.6976754959984248\n",
      "... Processing icd_I50\n",
      "Test accuracy is 0.8367056207363824\n",
      "... Processing icd_N17\n",
      "Test accuracy is 0.8132173590762211\n",
      "... Processing icd_Y92\n",
      "Test accuracy is 0.817491110827996\n",
      "... Processing icd_Z85\n",
      "Test accuracy is 0.8066967026094208\n",
      "       icd_E11  icd_E78  icd_E87  icd_F32  icd_I16  icd_I50  icd_N17  icd_Y92  \\\n",
      "0            0        0        0        0        0        0        0        0   \n",
      "1            0        1        0        0        1        0        0        0   \n",
      "2            0        1        0        0        0        0        0        0   \n",
      "3            0        1        0        0        0        0        0        0   \n",
      "4            0        0        0        0        0        0        0        0   \n",
      "...        ...      ...      ...      ...      ...      ...      ...      ...   \n",
      "86336        0        0        0        0        0        0        0        0   \n",
      "86337        0        0        0        0        0        0        0        0   \n",
      "86338        1        1        0        0        0        1        0        0   \n",
      "86339        0        0        0        0        0        0        0        0   \n",
      "86340        0        0        0        0        0        0        0        0   \n",
      "\n",
      "       icd_Z85  \n",
      "0            0  \n",
      "1            0  \n",
      "2            0  \n",
      "3            0  \n",
      "4            0  \n",
      "...        ...  \n",
      "86336        0  \n",
      "86337        0  \n",
      "86338        0  \n",
      "86339        0  \n",
      "86340        0  \n",
      "\n",
      "[86341 rows x 9 columns]\n"
     ]
    }
   ],
   "source": [
    "# traing classifier\n",
    "\n",
    "# Define a pipeline combining a text feature extractor with multi lable classifier\n",
    "NB_pipeline = Pipeline([\n",
    "                ('tfidf', TfidfVectorizer(stop_words=list(stop_words))),\n",
    "                ('clf', OneVsRestClassifier(MultinomialNB(\n",
    "                    fit_prior=True, class_prior=None))),\n",
    "            ])\n",
    "\n",
    "var_pre = {}\n",
    "\n",
    "\n",
    "for category in categories:\n",
    "    print('... Processing {}'.format(category))\n",
    "    \n",
    "    NB_pipeline.fit(X_train, train[category])\n",
    "    # compute the testing accuracy\n",
    "    prediction = NB_pipeline.predict(X_test)\n",
    "    var_pre[category] = prediction\n",
    "    \n",
    "    \n",
    "    print('Test accuracy is {}'.format(accuracy_score(test[category], prediction)))\n",
    "\n",
    "nb_pred = pd.DataFrame(var_pre)\n",
    "\n",
    "print(nb_pred)"
   ]
  },
  {
   "cell_type": "code",
   "execution_count": 14,
   "id": "2697d5e5",
   "metadata": {},
   "outputs": [],
   "source": [
    "y_true = y_test.to_numpy()\n",
    "y_pred1 = nb_pred.to_numpy()"
   ]
  },
  {
   "cell_type": "code",
   "execution_count": 15,
   "id": "76817e79",
   "metadata": {},
   "outputs": [
    {
     "name": "stdout",
     "output_type": "stream",
     "text": [
      "Index(['icd_E11', 'icd_E78', 'icd_E87', 'icd_F32', 'icd_I16', 'icd_I50',\n",
      "       'icd_N17', 'icd_Y92', 'icd_Z85'],\n",
      "      dtype='object') [[29.99154515 39.00696077 21.12669531 20.28121055 30.2324504  16.32943793\n",
      "  18.67826409 18.25088892 19.33032974]]\n",
      "Accuracy Score with the discharge_instruction as variable is for multiNB 0.15303936054217776\n",
      "Hamming_loss with the discharge_instruction as variable is for multiNB 0.23691975873442384\n"
     ]
    }
   ],
   "source": [
    "print(y_test.columns, ((abs(np.diff([y_test.to_numpy(), nb_pred.to_numpy()], axis=0))).sum(axis=1)/len(y_test))*100)\n",
    "print('Accuracy Score with the discharge_instruction as variable is for multiNB',  Accuracy(y_true, y_pred1))\n",
    "print('Hamming_loss with the discharge_instruction as variable is for multiNB', Hamming_Loss(y_true, y_pred1))"
   ]
  },
  {
   "cell_type": "markdown",
   "id": "ad035cec",
   "metadata": {},
   "source": [
    "**Tfidf LinearSVC**"
   ]
  },
  {
   "cell_type": "code",
   "execution_count": 16,
   "id": "798464f8",
   "metadata": {},
   "outputs": [
    {
     "name": "stdout",
     "output_type": "stream",
     "text": [
      "... Processing icd_E11\n",
      "Test accuracy is 0.7025978388019597\n",
      "... Processing icd_E78\n",
      "Test accuracy is 0.5999698868440254\n",
      "... Processing icd_E87\n",
      "Test accuracy is 0.8002455380410234\n",
      "... Processing icd_F32\n",
      "Test accuracy is 0.7948367519486687\n",
      "... Processing icd_I16\n",
      "Test accuracy is 0.7097555043374527\n",
      "... Processing icd_I50\n",
      "Test accuracy is 0.8547503503549878\n",
      "... Processing icd_N17\n",
      "Test accuracy is 0.839218911061952\n",
      "... Processing icd_Y92\n",
      "Test accuracy is 0.825482679144323\n",
      "... Processing icd_Z85\n",
      "Test accuracy is 0.8028862301803315\n",
      "       icd_E11  icd_E78  icd_E87  icd_F32  icd_I16  icd_I50  icd_N17  icd_Y92  \\\n",
      "0            0        0        0        0        1        0        0        0   \n",
      "1            0        1        0        0        1        0        0        0   \n",
      "2            0        1        0        0        0        0        0        0   \n",
      "3            0        0        0        0        0        1        0        0   \n",
      "4            0        0        0        1        1        0        0        0   \n",
      "...        ...      ...      ...      ...      ...      ...      ...      ...   \n",
      "86336        0        0        0        1        0        0        0        0   \n",
      "86337        0        0        0        0        0        0        0        1   \n",
      "86338        1        0        0        0        0        1        0        0   \n",
      "86339        0        0        0        0        0        0        0        0   \n",
      "86340        0        0        0        0        0        0        1        0   \n",
      "\n",
      "       icd_Z85  \n",
      "0            0  \n",
      "1            0  \n",
      "2            0  \n",
      "3            0  \n",
      "4            0  \n",
      "...        ...  \n",
      "86336        0  \n",
      "86337        0  \n",
      "86338        0  \n",
      "86339        0  \n",
      "86340        0  \n",
      "\n",
      "[86341 rows x 9 columns]\n"
     ]
    }
   ],
   "source": [
    "SVC_pipeline = Pipeline([\n",
    "                ('tfidf', TfidfVectorizer(stop_words=list(stop_words))),\n",
    "                ('clf', OneVsRestClassifier(LinearSVC(), n_jobs=1)),\n",
    "            ])\n",
    "var_pre = {}\n",
    "\n",
    "for category in categories:\n",
    "    print('... Processing {}'.format(category))\n",
    "   \n",
    "    SVC_pipeline.fit(X_train, train[category])\n",
    "    # compute the testing accuracy\n",
    "    prediction = SVC_pipeline.predict(X_test)\n",
    "    var_pre[category] = prediction\n",
    "    print('Test accuracy is {}'.format(accuracy_score(test[category], prediction)))\n",
    "svc_pred = pd.DataFrame(var_pre)\n",
    "\n",
    "print(svc_pred)"
   ]
  },
  {
   "cell_type": "code",
   "execution_count": 17,
   "id": "7bd19010",
   "metadata": {},
   "outputs": [],
   "source": [
    "y_true = y_test.to_numpy()\n",
    "y_pred2 = svc_pred.to_numpy()"
   ]
  },
  {
   "cell_type": "code",
   "execution_count": 18,
   "id": "00495688",
   "metadata": {},
   "outputs": [
    {
     "name": "stdout",
     "output_type": "stream",
     "text": [
      "Index(['icd_E11', 'icd_E78', 'icd_E87', 'icd_F32', 'icd_I16', 'icd_I50',\n",
      "       'icd_N17', 'icd_Y92', 'icd_Z85'],\n",
      "      dtype='object') [[29.99154515 39.00696077 21.12669531 20.28121055 30.2324504  16.32943793\n",
      "  18.67826409 18.25088892 19.33032974]]\n",
      "Accuracy Score with the discharge_instruction as variable is for lineraSVC 0.28010256673290657\n",
      "Hamming_loss with the discharge_instruction as variable is for linearSVC 0.23002847880947508\n"
     ]
    }
   ],
   "source": [
    "print(y_test.columns, ((abs(np.diff([y_test.to_numpy(), nb_pred.to_numpy()], axis=0))).sum(axis=1)/len(y_test))*100)\n",
    "print('Accuracy Score with the discharge_instruction as variable is for lineraSVC',  Accuracy(y_true, y_pred2))\n",
    "print('Hamming_loss with the discharge_instruction as variable is for linearSVC', Hamming_Loss(y_true, y_pred2))"
   ]
  },
  {
   "cell_type": "markdown",
   "id": "06b028f4",
   "metadata": {},
   "source": [
    "**Tfidf LogReg**"
   ]
  },
  {
   "cell_type": "code",
   "execution_count": 19,
   "id": "10de71ee",
   "metadata": {},
   "outputs": [
    {
     "name": "stdout",
     "output_type": "stream",
     "text": [
      "... Processing icd_E11\n",
      "Test accuracy is 0.7141798218691005\n",
      "... Processing icd_E78\n",
      "Test accuracy is 0.6127795601162831\n",
      "... Processing icd_E87\n",
      "Test accuracy is 0.8047625114372082\n",
      "... Processing icd_F32\n",
      "Test accuracy is 0.7990410118020408\n",
      "... Processing icd_I16\n",
      "Test accuracy is 0.7132764271898634\n",
      "... Processing icd_I50\n",
      "Test accuracy is 0.8577500839693772\n",
      "... Processing icd_N17\n",
      "Test accuracy is 0.8436432285935997\n",
      "... Processing icd_Y92\n",
      "Test accuracy is 0.8281002073174969\n",
      "... Processing icd_Z85\n",
      "Test accuracy is 0.8067082845924879\n",
      "       icd_E11  icd_E78  icd_E87  icd_F32  icd_I16  icd_I50  icd_N17  icd_Y92  \\\n",
      "0            0        0        0        0        0        0        0        0   \n",
      "1            0        1        0        0        1        0        0        0   \n",
      "2            0        0        0        0        0        0        0        0   \n",
      "3            0        1        0        0        0        1        0        0   \n",
      "4            0        0        0        0        1        0        0        0   \n",
      "...        ...      ...      ...      ...      ...      ...      ...      ...   \n",
      "86336        0        0        0        1        0        0        0        0   \n",
      "86337        0        0        0        0        0        0        0        1   \n",
      "86338        1        0        0        0        0        1        0        0   \n",
      "86339        1        0        0        0        0        0        0        0   \n",
      "86340        0        0        0        0        0        0        1        0   \n",
      "\n",
      "       icd_Z85  \n",
      "0            0  \n",
      "1            0  \n",
      "2            0  \n",
      "3            0  \n",
      "4            0  \n",
      "...        ...  \n",
      "86336        0  \n",
      "86337        0  \n",
      "86338        0  \n",
      "86339        0  \n",
      "86340        0  \n",
      "\n",
      "[86341 rows x 9 columns]\n"
     ]
    }
   ],
   "source": [
    "LogReg_pipeline = Pipeline([\n",
    "                ('tfidf', TfidfVectorizer(stop_words=list(stop_words))),\n",
    "                ('clf', OneVsRestClassifier(LogisticRegression(solver='sag'), n_jobs=1)),\n",
    "            ])\n",
    "\n",
    "var_pre = {}\n",
    "\n",
    "for category in categories:\n",
    "    print('... Processing {}'.format(category))\n",
    "    # train the model using X_dtm & y\n",
    "    LogReg_pipeline.fit(X_train, train[category])\n",
    "    # compute the testing accuracy\n",
    "    prediction = LogReg_pipeline.predict(X_test)\n",
    "    var_pre[category] = prediction\n",
    "    print('Test accuracy is {}'.format(accuracy_score(test[category], prediction)))\n",
    "\n",
    "logreg_pred = pd.DataFrame(var_pre)\n",
    "\n",
    "print(logreg_pred)"
   ]
  },
  {
   "cell_type": "code",
   "execution_count": 20,
   "id": "2bd8f20c",
   "metadata": {},
   "outputs": [],
   "source": [
    "y_true = y_test.to_numpy()\n",
    "y_pred3 = logreg_pred.to_numpy()"
   ]
  },
  {
   "cell_type": "code",
   "execution_count": 21,
   "id": "31a7eb5b",
   "metadata": {},
   "outputs": [
    {
     "name": "stdout",
     "output_type": "stream",
     "text": [
      "Index(['icd_E11', 'icd_E78', 'icd_E87', 'icd_F32', 'icd_I16', 'icd_I50',\n",
      "       'icd_N17', 'icd_Y92', 'icd_Z85'],\n",
      "      dtype='object') [[29.99154515 39.00696077 21.12669531 20.28121055 30.2324504  16.32943793\n",
      "  18.67826409 18.25088892 19.33032974]]\n",
      "Accuracy Score with the discharge_instruction as variable is for logReg 0.2660085986113052\n",
      "Hamming_loss with the discharge_instruction as variable is for logReg 0.2244176514569491\n"
     ]
    }
   ],
   "source": [
    "print(y_test.columns, ((abs(np.diff([y_test.to_numpy(), nb_pred.to_numpy()], axis=0))).sum(axis=1)/len(y_test))*100)\n",
    "print('Accuracy Score with the discharge_instruction as variable is for logReg',  Accuracy(y_true, y_pred3))\n",
    "print('Hamming_loss with the discharge_instruction as variable is for logReg', Hamming_Loss(y_true, y_pred3))"
   ]
  },
  {
   "cell_type": "markdown",
   "id": "c1869efd",
   "metadata": {},
   "source": [
    "**Countvectorizer multiNB**"
   ]
  },
  {
   "cell_type": "code",
   "execution_count": 24,
   "id": "808c7060",
   "metadata": {},
   "outputs": [
    {
     "name": "stdout",
     "output_type": "stream",
     "text": [
      "... Processing icd_E11\n",
      "Test accuracy is 0.6273844407639476\n",
      "... Processing icd_E78\n",
      "Test accuracy is 0.6095134408913494\n",
      "... Processing icd_E87\n",
      "Test accuracy is 0.6069769865996456\n",
      "... Processing icd_F32\n",
      "Test accuracy is 0.682630499994209\n",
      "... Processing icd_I16\n",
      "Test accuracy is 0.6931237766530385\n",
      "... Processing icd_I50\n",
      "Test accuracy is 0.7073580338425545\n",
      "... Processing icd_N17\n",
      "Test accuracy is 0.6114592140466291\n",
      "... Processing icd_Y92\n",
      "Test accuracy is 0.7820734066086795\n",
      "... Processing icd_Z85\n",
      "Test accuracy is 0.7524814398721349\n",
      "       icd_E11  icd_E78  icd_E87  icd_F32  icd_I16  icd_I50  icd_N17  icd_Y92  \\\n",
      "0            1        0        1        0        0        0        0        0   \n",
      "1            0        1        0        0        1        0        0        0   \n",
      "2            0        0        1        1        0        1        1        1   \n",
      "3            1        1        1        0        0        1        1        0   \n",
      "4            0        0        1        1        0        0        1        0   \n",
      "...        ...      ...      ...      ...      ...      ...      ...      ...   \n",
      "86336        0        0        1        1        0        0        1        0   \n",
      "86337        0        0        0        0        0        0        0        0   \n",
      "86338        1        1        0        0        0        1        1        0   \n",
      "86339        1        0        0        0        0        0        0        0   \n",
      "86340        0        0        1        1        0        0        1        0   \n",
      "\n",
      "       icd_Z85  \n",
      "0            1  \n",
      "1            0  \n",
      "2            0  \n",
      "3            0  \n",
      "4            0  \n",
      "...        ...  \n",
      "86336        0  \n",
      "86337        0  \n",
      "86338        0  \n",
      "86339        0  \n",
      "86340        0  \n",
      "\n",
      "[86341 rows x 9 columns]\n"
     ]
    }
   ],
   "source": [
    "# traing classifier\n",
    "\n",
    "# Define a pipeline combining a text feature extractor with multi lable classifier\n",
    "NB_pipeline = Pipeline([\n",
    "                ('vect', CountVectorizer(stop_words=stopwords.words('english'))),\n",
    "#                 ('tfidf', TfidfVectorizer(stop_words=list(stop_words))),\n",
    "                ('clf', OneVsRestClassifier(MultinomialNB(\n",
    "                    fit_prior=True, class_prior=None))),\n",
    "            ])\n",
    "\n",
    "var_pre = {}\n",
    "\n",
    "\n",
    "for category in categories:\n",
    "    print('... Processing {}'.format(category))\n",
    "    \n",
    "    NB_pipeline.fit(X_train, train[category])\n",
    "    # compute the testing accuracy\n",
    "    prediction = NB_pipeline.predict(X_test)\n",
    "    var_pre[category] = prediction\n",
    "    \n",
    "    \n",
    "    print('Test accuracy is {}'.format(accuracy_score(test[category], prediction)))\n",
    "\n",
    "nb_pred = pd.DataFrame(var_pre)\n",
    "\n",
    "print(nb_pred)"
   ]
  },
  {
   "cell_type": "code",
   "execution_count": 25,
   "id": "ae019a84",
   "metadata": {},
   "outputs": [],
   "source": [
    "y_true = y_test.to_numpy()\n",
    "y_pred4 = nb_pred.to_numpy()"
   ]
  },
  {
   "cell_type": "code",
   "execution_count": 27,
   "id": "bc59f5a3",
   "metadata": {},
   "outputs": [
    {
     "name": "stdout",
     "output_type": "stream",
     "text": [
      "Index(['icd_E11', 'icd_E78', 'icd_E87', 'icd_F32', 'icd_I16', 'icd_I50',\n",
      "       'icd_N17', 'icd_Y92', 'icd_Z85'],\n",
      "      dtype='object') [[37.26155592 39.04865591 39.30230134 31.73695    30.68762233 29.26419662\n",
      "  38.8540786  21.79265934 24.75185601]]\n",
      "Accuracy Score with the discharge_instruction as variable is for multiNB 0.30559664861534935\n",
      "Hamming_loss with the discharge_instruction as variable is for multiNB 0.3252220845253124\n"
     ]
    }
   ],
   "source": [
    "print(y_test.columns, ((abs(np.diff([y_test.to_numpy(), nb_pred.to_numpy()], axis=0))).sum(axis=1)/len(y_test))*100)\n",
    "print('Accuracy Score with the discharge_instruction as variable is for countvec multiNB',  Accuracy(y_true, y_pred4))\n",
    "print('Hamming_loss with the discharge_instruction as variable is for countvec multiNB', Hamming_Loss(y_true, y_pred4))"
   ]
  },
  {
   "cell_type": "markdown",
   "id": "9f61a929",
   "metadata": {},
   "source": [
    "**Countvectorizer linerSVC**"
   ]
  },
  {
   "cell_type": "code",
   "execution_count": 28,
   "id": "17316872",
   "metadata": {},
   "outputs": [
    {
     "name": "stdout",
     "output_type": "stream",
     "text": [
      "... Processing icd_E11\n"
     ]
    },
    {
     "name": "stderr",
     "output_type": "stream",
     "text": [
      "C:\\Users\\upadh\\anaconda3\\lib\\site-packages\\sklearn\\svm\\_base.py:1244: ConvergenceWarning: Liblinear failed to converge, increase the number of iterations.\n",
      "  warnings.warn(\n"
     ]
    },
    {
     "name": "stdout",
     "output_type": "stream",
     "text": [
      "Test accuracy is 0.6748705713392247\n",
      "... Processing icd_E78\n"
     ]
    },
    {
     "name": "stderr",
     "output_type": "stream",
     "text": [
      "C:\\Users\\upadh\\anaconda3\\lib\\site-packages\\sklearn\\svm\\_base.py:1244: ConvergenceWarning: Liblinear failed to converge, increase the number of iterations.\n",
      "  warnings.warn(\n"
     ]
    },
    {
     "name": "stdout",
     "output_type": "stream",
     "text": [
      "Test accuracy is 0.583060191566\n",
      "... Processing icd_E87\n"
     ]
    },
    {
     "name": "stderr",
     "output_type": "stream",
     "text": [
      "C:\\Users\\upadh\\anaconda3\\lib\\site-packages\\sklearn\\svm\\_base.py:1244: ConvergenceWarning: Liblinear failed to converge, increase the number of iterations.\n",
      "  warnings.warn(\n"
     ]
    },
    {
     "name": "stdout",
     "output_type": "stream",
     "text": [
      "Test accuracy is 0.7753906023789393\n",
      "... Processing icd_F32\n"
     ]
    },
    {
     "name": "stderr",
     "output_type": "stream",
     "text": [
      "C:\\Users\\upadh\\anaconda3\\lib\\site-packages\\sklearn\\svm\\_base.py:1244: ConvergenceWarning: Liblinear failed to converge, increase the number of iterations.\n",
      "  warnings.warn(\n"
     ]
    },
    {
     "name": "stdout",
     "output_type": "stream",
     "text": [
      "Test accuracy is 0.7658470483316153\n",
      "... Processing icd_I16\n"
     ]
    },
    {
     "name": "stderr",
     "output_type": "stream",
     "text": [
      "C:\\Users\\upadh\\anaconda3\\lib\\site-packages\\sklearn\\svm\\_base.py:1244: ConvergenceWarning: Liblinear failed to converge, increase the number of iterations.\n",
      "  warnings.warn(\n"
     ]
    },
    {
     "name": "stdout",
     "output_type": "stream",
     "text": [
      "Test accuracy is 0.6921856360246001\n",
      "... Processing icd_I50\n"
     ]
    },
    {
     "name": "stderr",
     "output_type": "stream",
     "text": [
      "C:\\Users\\upadh\\anaconda3\\lib\\site-packages\\sklearn\\svm\\_base.py:1244: ConvergenceWarning: Liblinear failed to converge, increase the number of iterations.\n",
      "  warnings.warn(\n"
     ]
    },
    {
     "name": "stdout",
     "output_type": "stream",
     "text": [
      "Test accuracy is 0.833045714087166\n",
      "... Processing icd_N17\n"
     ]
    },
    {
     "name": "stderr",
     "output_type": "stream",
     "text": [
      "C:\\Users\\upadh\\anaconda3\\lib\\site-packages\\sklearn\\svm\\_base.py:1244: ConvergenceWarning: Liblinear failed to converge, increase the number of iterations.\n",
      "  warnings.warn(\n"
     ]
    },
    {
     "name": "stdout",
     "output_type": "stream",
     "text": [
      "Test accuracy is 0.8162055107075433\n",
      "... Processing icd_Y92\n"
     ]
    },
    {
     "name": "stderr",
     "output_type": "stream",
     "text": [
      "C:\\Users\\upadh\\anaconda3\\lib\\site-packages\\sklearn\\svm\\_base.py:1244: ConvergenceWarning: Liblinear failed to converge, increase the number of iterations.\n",
      "  warnings.warn(\n"
     ]
    },
    {
     "name": "stdout",
     "output_type": "stream",
     "text": [
      "Test accuracy is 0.8009404570250518\n",
      "... Processing icd_Z85\n"
     ]
    },
    {
     "name": "stderr",
     "output_type": "stream",
     "text": [
      "C:\\Users\\upadh\\anaconda3\\lib\\site-packages\\sklearn\\svm\\_base.py:1244: ConvergenceWarning: Liblinear failed to converge, increase the number of iterations.\n",
      "  warnings.warn(\n"
     ]
    },
    {
     "name": "stdout",
     "output_type": "stream",
     "text": [
      "Test accuracy is 0.7694722090316304\n",
      "       icd_E11  icd_E78  icd_E87  icd_F32  icd_I16  icd_I50  icd_N17  icd_Y92  \\\n",
      "0            0        0        1        1        1        0        0        0   \n",
      "1            0        1        0        0        1        0        0        0   \n",
      "2            0        1        0        0        0        0        0        0   \n",
      "3            0        0        0        0        1        1        1        0   \n",
      "4            0        0        0        1        0        0        0        0   \n",
      "...        ...      ...      ...      ...      ...      ...      ...      ...   \n",
      "86336        0        0        0        1        0        0        0        0   \n",
      "86337        0        0        0        0        0        0        0        0   \n",
      "86338        0        0        0        0        0        1        0        0   \n",
      "86339        0        0        0        0        0        0        0        0   \n",
      "86340        0        0        0        0        0        0        1        1   \n",
      "\n",
      "       icd_Z85  \n",
      "0            0  \n",
      "1            0  \n",
      "2            1  \n",
      "3            0  \n",
      "4            0  \n",
      "...        ...  \n",
      "86336        0  \n",
      "86337        0  \n",
      "86338        0  \n",
      "86339        0  \n",
      "86340        0  \n",
      "\n",
      "[86341 rows x 9 columns]\n"
     ]
    }
   ],
   "source": [
    "SVC_pipeline = Pipeline([\n",
    "                ('vect', CountVectorizer(stop_words=stopwords.words('english'))),\n",
    "#                 ('tfidf', TfidfVectorizer(stop_words=list(stop_words))),\n",
    "                ('clf', OneVsRestClassifier(LinearSVC(), n_jobs=1)),\n",
    "            ])\n",
    "var_pre = {}\n",
    "\n",
    "for category in categories:\n",
    "    print('... Processing {}'.format(category))\n",
    "   \n",
    "    SVC_pipeline.fit(X_train, train[category])\n",
    "    # compute the testing accuracy\n",
    "    prediction = SVC_pipeline.predict(X_test)\n",
    "    var_pre[category] = prediction\n",
    "    print('Test accuracy is {}'.format(accuracy_score(test[category], prediction)))\n",
    "svc_pred = pd.DataFrame(var_pre)\n",
    "\n",
    "print(svc_pred)"
   ]
  },
  {
   "cell_type": "code",
   "execution_count": 30,
   "id": "c0176d12",
   "metadata": {},
   "outputs": [],
   "source": [
    "y_true = y_test.to_numpy()\n",
    "y_pred5 = svc_pred.to_numpy()"
   ]
  },
  {
   "cell_type": "code",
   "execution_count": 34,
   "id": "db7095ee",
   "metadata": {},
   "outputs": [
    {
     "name": "stdout",
     "output_type": "stream",
     "text": [
      "Index(['icd_E11', 'icd_E78', 'icd_E87', 'icd_F32', 'icd_I16', 'icd_I50',\n",
      "       'icd_N17', 'icd_Y92', 'icd_Z85'],\n",
      "      dtype='object') [[37.26155592 39.04865591 39.30230134 31.73695    30.68762233 29.26419662\n",
      "  38.8540786  21.79265934 24.75185601]]\n",
      "Accuracy Score with the discharge_instruction as variable is for countvect linearSVC 0.26893652852670996\n",
      "Hamming_loss with the discharge_instruction as variable is for countvect linearSVC 0.2543313399453588\n"
     ]
    }
   ],
   "source": [
    "print(y_test.columns, ((abs(np.diff([y_test.to_numpy(), nb_pred.to_numpy()], axis=0))).sum(axis=1)/len(y_test))*100)\n",
    "print('Accuracy Score with the discharge_instruction as variable is for countvect linearSVC',  Accuracy(y_true, y_pred5))\n",
    "print('Hamming_loss with the discharge_instruction as variable is for countvect linearSVC', Hamming_Loss(y_true, y_pred5))"
   ]
  },
  {
   "cell_type": "markdown",
   "id": "ddfbe400",
   "metadata": {},
   "source": [
    "**Countvectorizer logReg**"
   ]
  },
  {
   "cell_type": "code",
   "execution_count": 33,
   "id": "5fde7916",
   "metadata": {},
   "outputs": [
    {
     "name": "stdout",
     "output_type": "stream",
     "text": [
      "... Processing icd_E11\n"
     ]
    },
    {
     "name": "stderr",
     "output_type": "stream",
     "text": [
      "C:\\Users\\upadh\\anaconda3\\lib\\site-packages\\sklearn\\linear_model\\_sag.py:350: ConvergenceWarning: The max_iter was reached which means the coef_ did not converge\n",
      "  warnings.warn(\n"
     ]
    },
    {
     "name": "stdout",
     "output_type": "stream",
     "text": [
      "Test accuracy is 0.7079487149789787\n",
      "... Processing icd_E78\n"
     ]
    },
    {
     "name": "stderr",
     "output_type": "stream",
     "text": [
      "C:\\Users\\upadh\\anaconda3\\lib\\site-packages\\sklearn\\linear_model\\_sag.py:350: ConvergenceWarning: The max_iter was reached which means the coef_ did not converge\n",
      "  warnings.warn(\n"
     ]
    },
    {
     "name": "stdout",
     "output_type": "stream",
     "text": [
      "Test accuracy is 0.6053091810379774\n",
      "... Processing icd_E87\n"
     ]
    },
    {
     "name": "stderr",
     "output_type": "stream",
     "text": [
      "C:\\Users\\upadh\\anaconda3\\lib\\site-packages\\sklearn\\linear_model\\_sag.py:350: ConvergenceWarning: The max_iter was reached which means the coef_ did not converge\n",
      "  warnings.warn(\n"
     ]
    },
    {
     "name": "stdout",
     "output_type": "stream",
     "text": [
      "Test accuracy is 0.8014269003138718\n",
      "... Processing icd_F32\n"
     ]
    },
    {
     "name": "stderr",
     "output_type": "stream",
     "text": [
      "C:\\Users\\upadh\\anaconda3\\lib\\site-packages\\sklearn\\linear_model\\_sag.py:350: ConvergenceWarning: The max_iter was reached which means the coef_ did not converge\n",
      "  warnings.warn(\n"
     ]
    },
    {
     "name": "stdout",
     "output_type": "stream",
     "text": [
      "Test accuracy is 0.7950220636777429\n",
      "... Processing icd_I16\n"
     ]
    },
    {
     "name": "stderr",
     "output_type": "stream",
     "text": [
      "C:\\Users\\upadh\\anaconda3\\lib\\site-packages\\sklearn\\linear_model\\_sag.py:350: ConvergenceWarning: The max_iter was reached which means the coef_ did not converge\n",
      "  warnings.warn(\n"
     ]
    },
    {
     "name": "stdout",
     "output_type": "stream",
     "text": [
      "Test accuracy is 0.710195619694004\n",
      "... Processing icd_I50\n"
     ]
    },
    {
     "name": "stderr",
     "output_type": "stream",
     "text": [
      "C:\\Users\\upadh\\anaconda3\\lib\\site-packages\\sklearn\\linear_model\\_sag.py:350: ConvergenceWarning: The max_iter was reached which means the coef_ did not converge\n",
      "  warnings.warn(\n"
     ]
    },
    {
     "name": "stdout",
     "output_type": "stream",
     "text": [
      "Test accuracy is 0.855757982881829\n",
      "... Processing icd_N17\n"
     ]
    },
    {
     "name": "stderr",
     "output_type": "stream",
     "text": [
      "C:\\Users\\upadh\\anaconda3\\lib\\site-packages\\sklearn\\linear_model\\_sag.py:350: ConvergenceWarning: The max_iter was reached which means the coef_ did not converge\n",
      "  warnings.warn(\n"
     ]
    },
    {
     "name": "stdout",
     "output_type": "stream",
     "text": [
      "Test accuracy is 0.840539257131606\n",
      "... Processing icd_Y92\n"
     ]
    },
    {
     "name": "stderr",
     "output_type": "stream",
     "text": [
      "C:\\Users\\upadh\\anaconda3\\lib\\site-packages\\sklearn\\linear_model\\_sag.py:350: ConvergenceWarning: The max_iter was reached which means the coef_ did not converge\n",
      "  warnings.warn(\n"
     ]
    },
    {
     "name": "stdout",
     "output_type": "stream",
     "text": [
      "Test accuracy is 0.8234442501245063\n",
      "... Processing icd_Z85\n"
     ]
    },
    {
     "name": "stderr",
     "output_type": "stream",
     "text": [
      "C:\\Users\\upadh\\anaconda3\\lib\\site-packages\\sklearn\\linear_model\\_sag.py:350: ConvergenceWarning: The max_iter was reached which means the coef_ did not converge\n",
      "  warnings.warn(\n"
     ]
    },
    {
     "name": "stdout",
     "output_type": "stream",
     "text": [
      "Test accuracy is 0.8034074194183528\n",
      "       icd_E11  icd_E78  icd_E87  icd_F32  icd_I16  icd_I50  icd_N17  icd_Y92  \\\n",
      "0            0        0        0        0        1        0        0        0   \n",
      "1            0        1        0        0        1        0        0        0   \n",
      "2            0        0        0        0        0        0        0        0   \n",
      "3            0        1        0        0        0        1        1        0   \n",
      "4            0        0        0        0        1        0        0        0   \n",
      "...        ...      ...      ...      ...      ...      ...      ...      ...   \n",
      "86336        0        0        0        1        0        0        0        0   \n",
      "86337        0        0        0        0        0        0        0        0   \n",
      "86338        0        0        0        0        0        1        0        0   \n",
      "86339        0        0        0        0        0        0        0        0   \n",
      "86340        0        0        0        0        0        0        1        0   \n",
      "\n",
      "       icd_Z85  \n",
      "0            0  \n",
      "1            0  \n",
      "2            0  \n",
      "3            0  \n",
      "4            0  \n",
      "...        ...  \n",
      "86336        0  \n",
      "86337        0  \n",
      "86338        0  \n",
      "86339        0  \n",
      "86340        0  \n",
      "\n",
      "[86341 rows x 9 columns]\n"
     ]
    }
   ],
   "source": [
    "LogReg_pipeline = Pipeline([\n",
    "                ('vect', CountVectorizer(stop_words=stopwords.words('english'))),\n",
    "#                 ('tfidf', TfidfVectorizer(stop_words=list(stop_words))),\n",
    "                ('clf', OneVsRestClassifier(LogisticRegression(solver='sag'), n_jobs=1)),\n",
    "            ])\n",
    "\n",
    "var_pre = {}\n",
    "\n",
    "for category in categories:\n",
    "    print('... Processing {}'.format(category))\n",
    "    # train the model using X_dtm & y\n",
    "    LogReg_pipeline.fit(X_train, train[category])\n",
    "    # compute the testing accuracy\n",
    "    prediction = LogReg_pipeline.predict(X_test)\n",
    "    var_pre[category] = prediction\n",
    "    print('Test accuracy is {}'.format(accuracy_score(test[category], prediction)))\n",
    "\n",
    "logreg_pred = pd.DataFrame(var_pre)\n",
    "\n",
    "print(logreg_pred)"
   ]
  },
  {
   "cell_type": "code",
   "execution_count": 35,
   "id": "15b47a8e",
   "metadata": {},
   "outputs": [],
   "source": [
    "y_true = y_test.to_numpy()\n",
    "y_pred6 = logreg_pred.to_numpy()"
   ]
  },
  {
   "cell_type": "code",
   "execution_count": 36,
   "id": "a7185a57",
   "metadata": {},
   "outputs": [
    {
     "name": "stdout",
     "output_type": "stream",
     "text": [
      "Index(['icd_E11', 'icd_E78', 'icd_E87', 'icd_F32', 'icd_I16', 'icd_I50',\n",
      "       'icd_N17', 'icd_Y92', 'icd_Z85'],\n",
      "      dtype='object') [[37.26155592 39.04865591 39.30230134 31.73695    30.68762233 29.26419662\n",
      "  38.8540786  21.79265934 24.75185601]]\n",
      "Accuracy Score with the discharge_instruction as variable is for countvect logReg 0.25862572325348404\n",
      "Hamming_loss with the discharge_instruction as variable is for countvect logReg 0.22854984563790345\n"
     ]
    }
   ],
   "source": [
    "print(y_test.columns, ((abs(np.diff([y_test.to_numpy(), nb_pred.to_numpy()], axis=0))).sum(axis=1)/len(y_test))*100)\n",
    "print('Accuracy Score with the discharge_instruction as variable is for countvect logReg',  Accuracy(y_true, y_pred6))\n",
    "print('Hamming_loss with the discharge_instruction as variable is for countvect logReg', Hamming_Loss(y_true, y_pred6))"
   ]
  },
  {
   "cell_type": "code",
   "execution_count": null,
   "id": "1a0432d0",
   "metadata": {},
   "outputs": [],
   "source": []
  }
 ],
 "metadata": {
  "kernelspec": {
   "display_name": "Python 3 (ipykernel)",
   "language": "python",
   "name": "python3"
  },
  "language_info": {
   "codemirror_mode": {
    "name": "ipython",
    "version": 3
   },
   "file_extension": ".py",
   "mimetype": "text/x-python",
   "name": "python",
   "nbconvert_exporter": "python",
   "pygments_lexer": "ipython3",
   "version": "3.9.16"
  }
 },
 "nbformat": 4,
 "nbformat_minor": 5
}
