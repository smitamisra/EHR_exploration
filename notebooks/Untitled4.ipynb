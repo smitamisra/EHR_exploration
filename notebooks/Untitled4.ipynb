{
 "cells": [
  {
   "cell_type": "code",
   "execution_count": 151,
   "id": "c9081929",
   "metadata": {},
   "outputs": [
    {
     "name": "stderr",
     "output_type": "stream",
     "text": [
      "[nltk_data] Downloading package stopwords to\n",
      "[nltk_data]     C:\\Users\\upadh\\AppData\\Roaming\\nltk_data...\n",
      "[nltk_data]   Package stopwords is already up-to-date!\n"
     ]
    }
   ],
   "source": [
    "import pandas as pd\n",
    "from collections import Counter\n",
    "\n",
    "from sklearn.model_selection import train_test_split\n",
    "from sklearn.metrics import accuracy_score, confusion_matrix\n",
    "import re\n",
    "import numpy as np\n",
    "import matplotlib.pyplot as plt\n",
    "\n",
    "from scipy import sparse\n",
    "from scipy.sparse.linalg import svds\n",
    "\n",
    "from sklearn.metrics.pairwise import cosine_similarity\n",
    "\n",
    "from nltk.tokenize import sent_tokenize, word_tokenize, regexp_tokenize\n",
    "\n",
    "\n",
    "from nltk.corpus import stopwords\n",
    "\n",
    "from sklearn.feature_extraction.text import CountVectorizer\n",
    "\n",
    "import nltk\n",
    "nltk.download('stopwords')\n",
    "\n",
    "from sklearn.model_selection import train_test_split\n",
    "from sklearn.feature_extraction.text import TfidfVectorizer\n",
    "from sklearn.naive_bayes import MultinomialNB\n",
    "from sklearn.metrics import accuracy_score\n",
    "from sklearn.multiclass import OneVsRestClassifier\n",
    "from nltk.corpus import stopwords\n",
    "stop_words = set(stopwords.words('english'))\n",
    "from sklearn.svm import LinearSVC\n",
    "from sklearn.linear_model import LogisticRegression\n",
    "from sklearn.pipeline import Pipeline\n",
    "import seaborn as sns"
   ]
  },
  {
   "cell_type": "code",
   "execution_count": 3,
   "id": "0f8d5852",
   "metadata": {},
   "outputs": [],
   "source": [
    "dfbert = pd.read_csv('../data/df_bert.csv').dropna().reset_index()"
   ]
  },
  {
   "cell_type": "code",
   "execution_count": 5,
   "id": "1e02397a",
   "metadata": {},
   "outputs": [
    {
     "data": {
      "text/plain": [
       "Index(['index', 'subject_id', 'hadm_id', 'discharge_instruction', 'icd_E11',\n",
       "       'icd_E78', 'icd_E87', 'icd_F32', 'icd_I16', 'icd_I50', 'icd_N17',\n",
       "       'icd_Y92', 'icd_Z85'],\n",
       "      dtype='object')"
      ]
     },
     "execution_count": 5,
     "metadata": {},
     "output_type": "execute_result"
    }
   ],
   "source": [
    "dfbert.columns"
   ]
  },
  {
   "cell_type": "code",
   "execution_count": 131,
   "id": "e238427f",
   "metadata": {},
   "outputs": [],
   "source": [
    "def Accuracy(y_true, y_pred):\n",
    "\n",
    "    temp = 0\n",
    "\n",
    "    for i in range(y_true.shape[0]):\n",
    "        temp += sum(np.logical_and(y_true[i], y_pred[i])) / sum(np.logical_or(y_true[i], y_pred[i]))\n",
    "    return temp / y_true.shape[0]"
   ]
  },
  {
   "cell_type": "code",
   "execution_count": 120,
   "id": "f1c4eb36",
   "metadata": {},
   "outputs": [],
   "source": [
    "def Hamming_Loss(y_true, y_pred):\n",
    "    temp=0\n",
    "    for i in range(y_true.shape[0]):\n",
    "        temp += np.size(y_true[i] == y_pred[i]) - np.count_nonzero(y_true[i] == y_pred[i])\n",
    "    return temp/(y_true.shape[0] * y_true.shape[1])"
   ]
  },
  {
   "cell_type": "code",
   "execution_count": 6,
   "id": "0469d7c0",
   "metadata": {},
   "outputs": [
    {
     "name": "stdout",
     "output_type": "stream",
     "text": [
      "(175298,)\n",
      "(86341,)\n"
     ]
    }
   ],
   "source": [
    "categories = ['icd_E11', 'icd_E78','icd_E87', 'icd_F32', 'icd_I16', 'icd_I50', 'icd_N17', 'icd_Y92','icd_Z85']\n",
    "\n",
    "\n",
    "\n",
    "train, test = train_test_split(dfbert, random_state=42, test_size=0.33, shuffle=True)\n",
    "X_train = train.discharge_instruction\n",
    "X_test = test.discharge_instruction\n",
    "y_train = train[categories]\n",
    "y_test = test[categories]\n",
    "\n",
    "print(X_train.shape)\n",
    "print(X_test.shape)"
   ]
  },
  {
   "cell_type": "markdown",
   "id": "89d3f3c9",
   "metadata": {},
   "source": [
    "**Tfidf MultinomialNB**"
   ]
  },
  {
   "cell_type": "code",
   "execution_count": 10,
   "id": "81644a3d",
   "metadata": {},
   "outputs": [
    {
     "name": "stdout",
     "output_type": "stream",
     "text": [
      "... Processing icd_E11\n",
      "Test accuracy is 0.7000845484763901\n",
      "... Processing icd_E78\n",
      "Test accuracy is 0.6099303922817665\n",
      "... Processing icd_E87\n",
      "Test accuracy is 0.7887330468722855\n",
      "... Processing icd_F32\n",
      "Test accuracy is 0.7971878945112982\n",
      "... Processing icd_I16\n",
      "Test accuracy is 0.6976754959984248\n",
      "... Processing icd_I50\n",
      "Test accuracy is 0.8367056207363824\n",
      "... Processing icd_N17\n",
      "Test accuracy is 0.8132173590762211\n",
      "... Processing icd_Y92\n",
      "Test accuracy is 0.817491110827996\n",
      "... Processing icd_Z85\n",
      "Test accuracy is 0.8066967026094208\n",
      "       icd_E11  icd_E78  icd_E87  icd_F32  icd_I16  icd_I50  icd_N17  icd_Y92  \\\n",
      "0            0        0        0        0        0        0        0        0   \n",
      "1            0        1        0        0        1        0        0        0   \n",
      "2            0        1        0        0        0        0        0        0   \n",
      "3            0        1        0        0        0        0        0        0   \n",
      "4            0        0        0        0        0        0        0        0   \n",
      "...        ...      ...      ...      ...      ...      ...      ...      ...   \n",
      "86336        0        0        0        0        0        0        0        0   \n",
      "86337        0        0        0        0        0        0        0        0   \n",
      "86338        1        1        0        0        0        1        0        0   \n",
      "86339        0        0        0        0        0        0        0        0   \n",
      "86340        0        0        0        0        0        0        0        0   \n",
      "\n",
      "       icd_Z85  \n",
      "0            0  \n",
      "1            0  \n",
      "2            0  \n",
      "3            0  \n",
      "4            0  \n",
      "...        ...  \n",
      "86336        0  \n",
      "86337        0  \n",
      "86338        0  \n",
      "86339        0  \n",
      "86340        0  \n",
      "\n",
      "[86341 rows x 9 columns]\n"
     ]
    }
   ],
   "source": [
    "# traing classifier\n",
    "\n",
    "# Define a pipeline combining a text feature extractor with multi lable classifier\n",
    "NB_pipeline = Pipeline([\n",
    "                ('tfidf', TfidfVectorizer(stop_words=list(stop_words))),\n",
    "                ('clf', OneVsRestClassifier(MultinomialNB(\n",
    "                    fit_prior=True, class_prior=None))),\n",
    "            ])\n",
    "\n",
    "var_pre = {}\n",
    "\n",
    "\n",
    "for category in categories:\n",
    "    print('... Processing {}'.format(category))\n",
    "    \n",
    "    NB_pipeline.fit(X_train, train[category])\n",
    "    # compute the testing accuracy\n",
    "    prediction = NB_pipeline.predict(X_test)\n",
    "    var_pre[category] = prediction\n",
    "    \n",
    "    \n",
    "    print('Test accuracy is {}'.format(accuracy_score(test[category], prediction)))\n",
    "\n",
    "nb_pred = pd.DataFrame(var_pre)\n",
    "\n",
    "print(nb_pred)"
   ]
  },
  {
   "cell_type": "code",
   "execution_count": 14,
   "id": "ee9d0ca9",
   "metadata": {},
   "outputs": [],
   "source": [
    "y_true = y_test.to_numpy()\n",
    "y_pred1 = nb_pred.to_numpy()"
   ]
  },
  {
   "cell_type": "code",
   "execution_count": 15,
   "id": "d7623ee7",
   "metadata": {},
   "outputs": [
    {
     "name": "stdout",
     "output_type": "stream",
     "text": [
      "Index(['icd_E11', 'icd_E78', 'icd_E87', 'icd_F32', 'icd_I16', 'icd_I50',\n",
      "       'icd_N17', 'icd_Y92', 'icd_Z85'],\n",
      "      dtype='object') [[29.99154515 39.00696077 21.12669531 20.28121055 30.2324504  16.32943793\n",
      "  18.67826409 18.25088892 19.33032974]]\n",
      "Accuracy Score with the discharge_instruction as variable is for multiNB 0.15303936054217776\n",
      "Hamming_loss with the discharge_instruction as variable is for multiNB 0.23691975873442384\n"
     ]
    }
   ],
   "source": [
    "print(y_test.columns, ((abs(np.diff([y_test.to_numpy(), nb_pred.to_numpy()], axis=0))).sum(axis=1)/len(y_test))*100)\n",
    "print('Accuracy Score with the discharge_instruction as variable is for multiNB',  Accuracy(y_true, y_pred1))\n",
    "print('Hamming_loss with the discharge_instruction as variable is for multiNB', Hamming_Loss(y_true, y_pred1))"
   ]
  },
  {
   "cell_type": "markdown",
   "id": "9ff56563",
   "metadata": {},
   "source": [
    "**Tfidf LinearSVC**"
   ]
  },
  {
   "cell_type": "code",
   "execution_count": 16,
   "id": "579f0048",
   "metadata": {},
   "outputs": [
    {
     "name": "stdout",
     "output_type": "stream",
     "text": [
      "... Processing icd_E11\n",
      "Test accuracy is 0.7025978388019597\n",
      "... Processing icd_E78\n",
      "Test accuracy is 0.5999698868440254\n",
      "... Processing icd_E87\n",
      "Test accuracy is 0.8002455380410234\n",
      "... Processing icd_F32\n",
      "Test accuracy is 0.7948367519486687\n",
      "... Processing icd_I16\n",
      "Test accuracy is 0.7097555043374527\n",
      "... Processing icd_I50\n",
      "Test accuracy is 0.8547503503549878\n",
      "... Processing icd_N17\n",
      "Test accuracy is 0.839218911061952\n",
      "... Processing icd_Y92\n",
      "Test accuracy is 0.825482679144323\n",
      "... Processing icd_Z85\n",
      "Test accuracy is 0.8028862301803315\n",
      "       icd_E11  icd_E78  icd_E87  icd_F32  icd_I16  icd_I50  icd_N17  icd_Y92  \\\n",
      "0            0        0        0        0        1        0        0        0   \n",
      "1            0        1        0        0        1        0        0        0   \n",
      "2            0        1        0        0        0        0        0        0   \n",
      "3            0        0        0        0        0        1        0        0   \n",
      "4            0        0        0        1        1        0        0        0   \n",
      "...        ...      ...      ...      ...      ...      ...      ...      ...   \n",
      "86336        0        0        0        1        0        0        0        0   \n",
      "86337        0        0        0        0        0        0        0        1   \n",
      "86338        1        0        0        0        0        1        0        0   \n",
      "86339        0        0        0        0        0        0        0        0   \n",
      "86340        0        0        0        0        0        0        1        0   \n",
      "\n",
      "       icd_Z85  \n",
      "0            0  \n",
      "1            0  \n",
      "2            0  \n",
      "3            0  \n",
      "4            0  \n",
      "...        ...  \n",
      "86336        0  \n",
      "86337        0  \n",
      "86338        0  \n",
      "86339        0  \n",
      "86340        0  \n",
      "\n",
      "[86341 rows x 9 columns]\n"
     ]
    }
   ],
   "source": [
    "SVC_pipeline = Pipeline([\n",
    "                ('tfidf', TfidfVectorizer(stop_words=list(stop_words))),\n",
    "                ('clf', OneVsRestClassifier(LinearSVC(), n_jobs=1)),\n",
    "            ])\n",
    "var_pre = {}\n",
    "\n",
    "for category in categories:\n",
    "    print('... Processing {}'.format(category))\n",
    "   \n",
    "    SVC_pipeline.fit(X_train, train[category])\n",
    "    # compute the testing accuracy\n",
    "    prediction = SVC_pipeline.predict(X_test)\n",
    "    var_pre[category] = prediction\n",
    "    print('Test accuracy is {}'.format(accuracy_score(test[category], prediction)))\n",
    "svc_pred = pd.DataFrame(var_pre)\n",
    "\n",
    "print(svc_pred)"
   ]
  },
  {
   "cell_type": "code",
   "execution_count": 17,
   "id": "40168de2",
   "metadata": {},
   "outputs": [],
   "source": [
    "y_true = y_test.to_numpy()\n",
    "y_pred2 = svc_pred.to_numpy()"
   ]
  },
  {
   "cell_type": "code",
   "execution_count": 18,
   "id": "c8044b39",
   "metadata": {},
   "outputs": [
    {
     "name": "stdout",
     "output_type": "stream",
     "text": [
      "Index(['icd_E11', 'icd_E78', 'icd_E87', 'icd_F32', 'icd_I16', 'icd_I50',\n",
      "       'icd_N17', 'icd_Y92', 'icd_Z85'],\n",
      "      dtype='object') [[29.99154515 39.00696077 21.12669531 20.28121055 30.2324504  16.32943793\n",
      "  18.67826409 18.25088892 19.33032974]]\n",
      "Accuracy Score with the discharge_instruction as variable is for lineraSVC 0.28010256673290657\n",
      "Hamming_loss with the discharge_instruction as variable is for linearSVC 0.23002847880947508\n"
     ]
    }
   ],
   "source": [
    "print(y_test.columns, ((abs(np.diff([y_test.to_numpy(), nb_pred.to_numpy()], axis=0))).sum(axis=1)/len(y_test))*100)\n",
    "print('Accuracy Score with the discharge_instruction as variable is for lineraSVC',  Accuracy(y_true, y_pred2))\n",
    "print('Hamming_loss with the discharge_instruction as variable is for linearSVC', Hamming_Loss(y_true, y_pred2))"
   ]
  },
  {
   "cell_type": "markdown",
   "id": "4c1bbd6e",
   "metadata": {},
   "source": [
    "**Tfidf LogReg**"
   ]
  },
  {
   "cell_type": "code",
   "execution_count": 19,
   "id": "b045bcf7",
   "metadata": {},
   "outputs": [
    {
     "name": "stdout",
     "output_type": "stream",
     "text": [
      "... Processing icd_E11\n",
      "Test accuracy is 0.7141798218691005\n",
      "... Processing icd_E78\n",
      "Test accuracy is 0.6127795601162831\n",
      "... Processing icd_E87\n",
      "Test accuracy is 0.8047625114372082\n",
      "... Processing icd_F32\n",
      "Test accuracy is 0.7990410118020408\n",
      "... Processing icd_I16\n",
      "Test accuracy is 0.7132764271898634\n",
      "... Processing icd_I50\n",
      "Test accuracy is 0.8577500839693772\n",
      "... Processing icd_N17\n",
      "Test accuracy is 0.8436432285935997\n",
      "... Processing icd_Y92\n",
      "Test accuracy is 0.8281002073174969\n",
      "... Processing icd_Z85\n",
      "Test accuracy is 0.8067082845924879\n",
      "       icd_E11  icd_E78  icd_E87  icd_F32  icd_I16  icd_I50  icd_N17  icd_Y92  \\\n",
      "0            0        0        0        0        0        0        0        0   \n",
      "1            0        1        0        0        1        0        0        0   \n",
      "2            0        0        0        0        0        0        0        0   \n",
      "3            0        1        0        0        0        1        0        0   \n",
      "4            0        0        0        0        1        0        0        0   \n",
      "...        ...      ...      ...      ...      ...      ...      ...      ...   \n",
      "86336        0        0        0        1        0        0        0        0   \n",
      "86337        0        0        0        0        0        0        0        1   \n",
      "86338        1        0        0        0        0        1        0        0   \n",
      "86339        1        0        0        0        0        0        0        0   \n",
      "86340        0        0        0        0        0        0        1        0   \n",
      "\n",
      "       icd_Z85  \n",
      "0            0  \n",
      "1            0  \n",
      "2            0  \n",
      "3            0  \n",
      "4            0  \n",
      "...        ...  \n",
      "86336        0  \n",
      "86337        0  \n",
      "86338        0  \n",
      "86339        0  \n",
      "86340        0  \n",
      "\n",
      "[86341 rows x 9 columns]\n"
     ]
    }
   ],
   "source": [
    "LogReg_pipeline = Pipeline([\n",
    "#                 ('tfidf', TfidfVectorizer(stop_words=list(stop_words), ngrams(2, 2), min_df=10),\n",
    "                ('tfidf', TfidfVectorizer(stop_words=list(stop_words)),\n",
    "                ('clf', OneVsRestClassifier(LogisticRegression(solver='sag'), n_jobs=1)),\n",
    "            ])\n",
    "#tfidf', TfidfVectorizer(stop_words=list(stop_words), ngrams(2, 2), min_df=10)\n",
    "    \n",
    "var_pre = {}\n",
    "\n",
    "for category in categories:\n",
    "    print('... Processing {}'.format(category))\n",
    "    # train the model using X_dtm & y\n",
    "    LogReg_pipeline.fit(X_train, train[category])\n",
    "    # compute the testing accuracy\n",
    "    prediction = LogReg_pipeline.predict(X_test)\n",
    "    var_pre[category] = prediction\n",
    "    print('Test accuracy is {}'.format(accuracy_score(test[category], prediction)))\n",
    "\n",
    "logreg_pred = pd.DataFrame(var_pre)\n",
    "\n",
    "print(logreg_pred)"
   ]
  },
  {
   "cell_type": "code",
   "execution_count": 20,
   "id": "a36fe42b",
   "metadata": {},
   "outputs": [],
   "source": [
    "y_true = y_test.to_numpy()\n",
    "y_pred3 = logreg_pred.to_numpy()"
   ]
  },
  {
   "cell_type": "code",
   "execution_count": 37,
   "id": "b39762a4",
   "metadata": {},
   "outputs": [
    {
     "name": "stdout",
     "output_type": "stream",
     "text": [
      "Index(['icd_E11', 'icd_E78', 'icd_E87', 'icd_F32', 'icd_I16', 'icd_I50',\n",
      "       'icd_N17', 'icd_Y92', 'icd_Z85'],\n",
      "      dtype='object') [[37.26155592 39.04865591 39.30230134 31.73695    30.68762233 29.26419662\n",
      "  38.8540786  21.79265934 24.75185601]]\n",
      "Accuracy Score with the discharge_instruction as variable is for tfidf_logReg 0.2660085986113052\n",
      "Hamming_loss with the discharge_instruction as variable is for tfidf_logReg 0.2244176514569491\n"
     ]
    }
   ],
   "source": [
    "print(y_test.columns, ((abs(np.diff([y_test.to_numpy(), nb_pred.to_numpy()], axis=0))).sum(axis=1)/len(y_test))*100)\n",
    "print('Accuracy Score with the discharge_instruction as variable is for tfidf_logReg',  Accuracy(y_true, y_pred3))\n",
    "print('Hamming_loss with the discharge_instruction as variable is for tfidf_logReg', Hamming_Loss(y_true, y_pred3))"
   ]
  },
  {
   "cell_type": "markdown",
   "id": "6946fc9b",
   "metadata": {},
   "source": [
    "**Countvectorizer multiNB**"
   ]
  },
  {
   "cell_type": "code",
   "execution_count": 24,
   "id": "5b34e1b9",
   "metadata": {},
   "outputs": [
    {
     "name": "stdout",
     "output_type": "stream",
     "text": [
      "... Processing icd_E11\n",
      "Test accuracy is 0.6273844407639476\n",
      "... Processing icd_E78\n",
      "Test accuracy is 0.6095134408913494\n",
      "... Processing icd_E87\n",
      "Test accuracy is 0.6069769865996456\n",
      "... Processing icd_F32\n",
      "Test accuracy is 0.682630499994209\n",
      "... Processing icd_I16\n",
      "Test accuracy is 0.6931237766530385\n",
      "... Processing icd_I50\n",
      "Test accuracy is 0.7073580338425545\n",
      "... Processing icd_N17\n",
      "Test accuracy is 0.6114592140466291\n",
      "... Processing icd_Y92\n",
      "Test accuracy is 0.7820734066086795\n",
      "... Processing icd_Z85\n",
      "Test accuracy is 0.7524814398721349\n",
      "       icd_E11  icd_E78  icd_E87  icd_F32  icd_I16  icd_I50  icd_N17  icd_Y92  \\\n",
      "0            1        0        1        0        0        0        0        0   \n",
      "1            0        1        0        0        1        0        0        0   \n",
      "2            0        0        1        1        0        1        1        1   \n",
      "3            1        1        1        0        0        1        1        0   \n",
      "4            0        0        1        1        0        0        1        0   \n",
      "...        ...      ...      ...      ...      ...      ...      ...      ...   \n",
      "86336        0        0        1        1        0        0        1        0   \n",
      "86337        0        0        0        0        0        0        0        0   \n",
      "86338        1        1        0        0        0        1        1        0   \n",
      "86339        1        0        0        0        0        0        0        0   \n",
      "86340        0        0        1        1        0        0        1        0   \n",
      "\n",
      "       icd_Z85  \n",
      "0            1  \n",
      "1            0  \n",
      "2            0  \n",
      "3            0  \n",
      "4            0  \n",
      "...        ...  \n",
      "86336        0  \n",
      "86337        0  \n",
      "86338        0  \n",
      "86339        0  \n",
      "86340        0  \n",
      "\n",
      "[86341 rows x 9 columns]\n"
     ]
    }
   ],
   "source": [
    "# traing classifier\n",
    "\n",
    "# Define a pipeline combining a text feature extractor with multi lable classifier\n",
    "NB_pipeline = Pipeline([\n",
    "                ('vect', CountVectorizer(stop_words=stopwords.words('english'))),\n",
    "#                 ('tfidf', TfidfVectorizer(stop_words=list(stop_words))),\n",
    "                ('clf', OneVsRestClassifier(MultinomialNB(\n",
    "                    fit_prior=True, class_prior=None))),\n",
    "            ])\n",
    "\n",
    "var_pre = {}\n",
    "\n",
    "\n",
    "for category in categories:\n",
    "    print('... Processing {}'.format(category))\n",
    "    \n",
    "    NB_pipeline.fit(X_train, train[category])\n",
    "    # compute the testing accuracy\n",
    "    prediction = NB_pipeline.predict(X_test)\n",
    "    var_pre[category] = prediction\n",
    "    \n",
    "    \n",
    "    print('Test accuracy is {}'.format(accuracy_score(test[category], prediction)))\n",
    "\n",
    "nb_pred = pd.DataFrame(var_pre)\n",
    "\n",
    "print(nb_pred)"
   ]
  },
  {
   "cell_type": "code",
   "execution_count": 25,
   "id": "0a36e7d5",
   "metadata": {},
   "outputs": [],
   "source": [
    "y_true = y_test.to_numpy()\n",
    "y_pred4 = nb_pred.to_numpy()"
   ]
  },
  {
   "cell_type": "code",
   "execution_count": 27,
   "id": "a91f3d08",
   "metadata": {},
   "outputs": [
    {
     "name": "stdout",
     "output_type": "stream",
     "text": [
      "Index(['icd_E11', 'icd_E78', 'icd_E87', 'icd_F32', 'icd_I16', 'icd_I50',\n",
      "       'icd_N17', 'icd_Y92', 'icd_Z85'],\n",
      "      dtype='object') [[37.26155592 39.04865591 39.30230134 31.73695    30.68762233 29.26419662\n",
      "  38.8540786  21.79265934 24.75185601]]\n",
      "Accuracy Score with the discharge_instruction as variable is for multiNB 0.30559664861534935\n",
      "Hamming_loss with the discharge_instruction as variable is for multiNB 0.3252220845253124\n"
     ]
    }
   ],
   "source": [
    "print(y_test.columns, ((abs(np.diff([y_test.to_numpy(), nb_pred.to_numpy()], axis=0))).sum(axis=1)/len(y_test))*100)\n",
    "print('Accuracy Score with the discharge_instruction as variable is for countvec multiNB',  Accuracy(y_true, y_pred4))\n",
    "print('Hamming_loss with the discharge_instruction as variable is for countvec multiNB', Hamming_Loss(y_true, y_pred4))"
   ]
  },
  {
   "cell_type": "markdown",
   "id": "19a1547f",
   "metadata": {},
   "source": [
    "**Countvectorizer linerSVC**"
   ]
  },
  {
   "cell_type": "code",
   "execution_count": 28,
   "id": "69974b12",
   "metadata": {},
   "outputs": [
    {
     "name": "stdout",
     "output_type": "stream",
     "text": [
      "... Processing icd_E11\n"
     ]
    },
    {
     "name": "stderr",
     "output_type": "stream",
     "text": [
      "C:\\Users\\upadh\\anaconda3\\lib\\site-packages\\sklearn\\svm\\_base.py:1244: ConvergenceWarning: Liblinear failed to converge, increase the number of iterations.\n",
      "  warnings.warn(\n"
     ]
    },
    {
     "name": "stdout",
     "output_type": "stream",
     "text": [
      "Test accuracy is 0.6748705713392247\n",
      "... Processing icd_E78\n"
     ]
    },
    {
     "name": "stderr",
     "output_type": "stream",
     "text": [
      "C:\\Users\\upadh\\anaconda3\\lib\\site-packages\\sklearn\\svm\\_base.py:1244: ConvergenceWarning: Liblinear failed to converge, increase the number of iterations.\n",
      "  warnings.warn(\n"
     ]
    },
    {
     "name": "stdout",
     "output_type": "stream",
     "text": [
      "Test accuracy is 0.583060191566\n",
      "... Processing icd_E87\n"
     ]
    },
    {
     "name": "stderr",
     "output_type": "stream",
     "text": [
      "C:\\Users\\upadh\\anaconda3\\lib\\site-packages\\sklearn\\svm\\_base.py:1244: ConvergenceWarning: Liblinear failed to converge, increase the number of iterations.\n",
      "  warnings.warn(\n"
     ]
    },
    {
     "name": "stdout",
     "output_type": "stream",
     "text": [
      "Test accuracy is 0.7753906023789393\n",
      "... Processing icd_F32\n"
     ]
    },
    {
     "name": "stderr",
     "output_type": "stream",
     "text": [
      "C:\\Users\\upadh\\anaconda3\\lib\\site-packages\\sklearn\\svm\\_base.py:1244: ConvergenceWarning: Liblinear failed to converge, increase the number of iterations.\n",
      "  warnings.warn(\n"
     ]
    },
    {
     "name": "stdout",
     "output_type": "stream",
     "text": [
      "Test accuracy is 0.7658470483316153\n",
      "... Processing icd_I16\n"
     ]
    },
    {
     "name": "stderr",
     "output_type": "stream",
     "text": [
      "C:\\Users\\upadh\\anaconda3\\lib\\site-packages\\sklearn\\svm\\_base.py:1244: ConvergenceWarning: Liblinear failed to converge, increase the number of iterations.\n",
      "  warnings.warn(\n"
     ]
    },
    {
     "name": "stdout",
     "output_type": "stream",
     "text": [
      "Test accuracy is 0.6921856360246001\n",
      "... Processing icd_I50\n"
     ]
    },
    {
     "name": "stderr",
     "output_type": "stream",
     "text": [
      "C:\\Users\\upadh\\anaconda3\\lib\\site-packages\\sklearn\\svm\\_base.py:1244: ConvergenceWarning: Liblinear failed to converge, increase the number of iterations.\n",
      "  warnings.warn(\n"
     ]
    },
    {
     "name": "stdout",
     "output_type": "stream",
     "text": [
      "Test accuracy is 0.833045714087166\n",
      "... Processing icd_N17\n"
     ]
    },
    {
     "name": "stderr",
     "output_type": "stream",
     "text": [
      "C:\\Users\\upadh\\anaconda3\\lib\\site-packages\\sklearn\\svm\\_base.py:1244: ConvergenceWarning: Liblinear failed to converge, increase the number of iterations.\n",
      "  warnings.warn(\n"
     ]
    },
    {
     "name": "stdout",
     "output_type": "stream",
     "text": [
      "Test accuracy is 0.8162055107075433\n",
      "... Processing icd_Y92\n"
     ]
    },
    {
     "name": "stderr",
     "output_type": "stream",
     "text": [
      "C:\\Users\\upadh\\anaconda3\\lib\\site-packages\\sklearn\\svm\\_base.py:1244: ConvergenceWarning: Liblinear failed to converge, increase the number of iterations.\n",
      "  warnings.warn(\n"
     ]
    },
    {
     "name": "stdout",
     "output_type": "stream",
     "text": [
      "Test accuracy is 0.8009404570250518\n",
      "... Processing icd_Z85\n"
     ]
    },
    {
     "name": "stderr",
     "output_type": "stream",
     "text": [
      "C:\\Users\\upadh\\anaconda3\\lib\\site-packages\\sklearn\\svm\\_base.py:1244: ConvergenceWarning: Liblinear failed to converge, increase the number of iterations.\n",
      "  warnings.warn(\n"
     ]
    },
    {
     "name": "stdout",
     "output_type": "stream",
     "text": [
      "Test accuracy is 0.7694722090316304\n",
      "       icd_E11  icd_E78  icd_E87  icd_F32  icd_I16  icd_I50  icd_N17  icd_Y92  \\\n",
      "0            0        0        1        1        1        0        0        0   \n",
      "1            0        1        0        0        1        0        0        0   \n",
      "2            0        1        0        0        0        0        0        0   \n",
      "3            0        0        0        0        1        1        1        0   \n",
      "4            0        0        0        1        0        0        0        0   \n",
      "...        ...      ...      ...      ...      ...      ...      ...      ...   \n",
      "86336        0        0        0        1        0        0        0        0   \n",
      "86337        0        0        0        0        0        0        0        0   \n",
      "86338        0        0        0        0        0        1        0        0   \n",
      "86339        0        0        0        0        0        0        0        0   \n",
      "86340        0        0        0        0        0        0        1        1   \n",
      "\n",
      "       icd_Z85  \n",
      "0            0  \n",
      "1            0  \n",
      "2            1  \n",
      "3            0  \n",
      "4            0  \n",
      "...        ...  \n",
      "86336        0  \n",
      "86337        0  \n",
      "86338        0  \n",
      "86339        0  \n",
      "86340        0  \n",
      "\n",
      "[86341 rows x 9 columns]\n"
     ]
    }
   ],
   "source": [
    "SVC_pipeline = Pipeline([\n",
    "                ('vect', CountVectorizer(stop_words=stopwords.words('english'))),\n",
    "#                 ('tfidf', TfidfVectorizer(stop_words=list(stop_words))),\n",
    "                ('clf', OneVsRestClassifier(LinearSVC(), n_jobs=1)),\n",
    "            ])\n",
    "var_pre = {}\n",
    "\n",
    "for category in categories:\n",
    "    print('... Processing {}'.format(category))\n",
    "   \n",
    "    SVC_pipeline.fit(X_train, train[category])\n",
    "    # compute the testing accuracy\n",
    "    prediction = SVC_pipeline.predict(X_test)\n",
    "    var_pre[category] = prediction\n",
    "    print('Test accuracy is {}'.format(accuracy_score(test[category], prediction)))\n",
    "svc_pred = pd.DataFrame(var_pre)\n",
    "\n",
    "print(svc_pred)"
   ]
  },
  {
   "cell_type": "code",
   "execution_count": 30,
   "id": "d55c69f4",
   "metadata": {},
   "outputs": [],
   "source": [
    "y_true = y_test.to_numpy()\n",
    "y_pred5 = svc_pred.to_numpy()"
   ]
  },
  {
   "cell_type": "code",
   "execution_count": 34,
   "id": "1a328888",
   "metadata": {},
   "outputs": [
    {
     "name": "stdout",
     "output_type": "stream",
     "text": [
      "Index(['icd_E11', 'icd_E78', 'icd_E87', 'icd_F32', 'icd_I16', 'icd_I50',\n",
      "       'icd_N17', 'icd_Y92', 'icd_Z85'],\n",
      "      dtype='object') [[37.26155592 39.04865591 39.30230134 31.73695    30.68762233 29.26419662\n",
      "  38.8540786  21.79265934 24.75185601]]\n",
      "Accuracy Score with the discharge_instruction as variable is for countvect linearSVC 0.26893652852670996\n",
      "Hamming_loss with the discharge_instruction as variable is for countvect linearSVC 0.2543313399453588\n"
     ]
    }
   ],
   "source": [
    "print(y_test.columns, ((abs(np.diff([y_test.to_numpy(), nb_pred.to_numpy()], axis=0))).sum(axis=1)/len(y_test))*100)\n",
    "print('Accuracy Score with the discharge_instruction as variable is for countvect linearSVC',  Accuracy(y_true, y_pred5))\n",
    "print('Hamming_loss with the discharge_instruction as variable is for countvect linearSVC', Hamming_Loss(y_true, y_pred5))"
   ]
  },
  {
   "cell_type": "markdown",
   "id": "07ede6a7",
   "metadata": {},
   "source": [
    "**Countvectorizer logReg**"
   ]
  },
  {
   "cell_type": "code",
   "execution_count": 33,
   "id": "befc3a6c",
   "metadata": {},
   "outputs": [
    {
     "name": "stdout",
     "output_type": "stream",
     "text": [
      "... Processing icd_E11\n"
     ]
    },
    {
     "name": "stderr",
     "output_type": "stream",
     "text": [
      "C:\\Users\\upadh\\anaconda3\\lib\\site-packages\\sklearn\\linear_model\\_sag.py:350: ConvergenceWarning: The max_iter was reached which means the coef_ did not converge\n",
      "  warnings.warn(\n"
     ]
    },
    {
     "name": "stdout",
     "output_type": "stream",
     "text": [
      "Test accuracy is 0.7079487149789787\n",
      "... Processing icd_E78\n"
     ]
    },
    {
     "name": "stderr",
     "output_type": "stream",
     "text": [
      "C:\\Users\\upadh\\anaconda3\\lib\\site-packages\\sklearn\\linear_model\\_sag.py:350: ConvergenceWarning: The max_iter was reached which means the coef_ did not converge\n",
      "  warnings.warn(\n"
     ]
    },
    {
     "name": "stdout",
     "output_type": "stream",
     "text": [
      "Test accuracy is 0.6053091810379774\n",
      "... Processing icd_E87\n"
     ]
    },
    {
     "name": "stderr",
     "output_type": "stream",
     "text": [
      "C:\\Users\\upadh\\anaconda3\\lib\\site-packages\\sklearn\\linear_model\\_sag.py:350: ConvergenceWarning: The max_iter was reached which means the coef_ did not converge\n",
      "  warnings.warn(\n"
     ]
    },
    {
     "name": "stdout",
     "output_type": "stream",
     "text": [
      "Test accuracy is 0.8014269003138718\n",
      "... Processing icd_F32\n"
     ]
    },
    {
     "name": "stderr",
     "output_type": "stream",
     "text": [
      "C:\\Users\\upadh\\anaconda3\\lib\\site-packages\\sklearn\\linear_model\\_sag.py:350: ConvergenceWarning: The max_iter was reached which means the coef_ did not converge\n",
      "  warnings.warn(\n"
     ]
    },
    {
     "name": "stdout",
     "output_type": "stream",
     "text": [
      "Test accuracy is 0.7950220636777429\n",
      "... Processing icd_I16\n"
     ]
    },
    {
     "name": "stderr",
     "output_type": "stream",
     "text": [
      "C:\\Users\\upadh\\anaconda3\\lib\\site-packages\\sklearn\\linear_model\\_sag.py:350: ConvergenceWarning: The max_iter was reached which means the coef_ did not converge\n",
      "  warnings.warn(\n"
     ]
    },
    {
     "name": "stdout",
     "output_type": "stream",
     "text": [
      "Test accuracy is 0.710195619694004\n",
      "... Processing icd_I50\n"
     ]
    },
    {
     "name": "stderr",
     "output_type": "stream",
     "text": [
      "C:\\Users\\upadh\\anaconda3\\lib\\site-packages\\sklearn\\linear_model\\_sag.py:350: ConvergenceWarning: The max_iter was reached which means the coef_ did not converge\n",
      "  warnings.warn(\n"
     ]
    },
    {
     "name": "stdout",
     "output_type": "stream",
     "text": [
      "Test accuracy is 0.855757982881829\n",
      "... Processing icd_N17\n"
     ]
    },
    {
     "name": "stderr",
     "output_type": "stream",
     "text": [
      "C:\\Users\\upadh\\anaconda3\\lib\\site-packages\\sklearn\\linear_model\\_sag.py:350: ConvergenceWarning: The max_iter was reached which means the coef_ did not converge\n",
      "  warnings.warn(\n"
     ]
    },
    {
     "name": "stdout",
     "output_type": "stream",
     "text": [
      "Test accuracy is 0.840539257131606\n",
      "... Processing icd_Y92\n"
     ]
    },
    {
     "name": "stderr",
     "output_type": "stream",
     "text": [
      "C:\\Users\\upadh\\anaconda3\\lib\\site-packages\\sklearn\\linear_model\\_sag.py:350: ConvergenceWarning: The max_iter was reached which means the coef_ did not converge\n",
      "  warnings.warn(\n"
     ]
    },
    {
     "name": "stdout",
     "output_type": "stream",
     "text": [
      "Test accuracy is 0.8234442501245063\n",
      "... Processing icd_Z85\n"
     ]
    },
    {
     "name": "stderr",
     "output_type": "stream",
     "text": [
      "C:\\Users\\upadh\\anaconda3\\lib\\site-packages\\sklearn\\linear_model\\_sag.py:350: ConvergenceWarning: The max_iter was reached which means the coef_ did not converge\n",
      "  warnings.warn(\n"
     ]
    },
    {
     "name": "stdout",
     "output_type": "stream",
     "text": [
      "Test accuracy is 0.8034074194183528\n",
      "       icd_E11  icd_E78  icd_E87  icd_F32  icd_I16  icd_I50  icd_N17  icd_Y92  \\\n",
      "0            0        0        0        0        1        0        0        0   \n",
      "1            0        1        0        0        1        0        0        0   \n",
      "2            0        0        0        0        0        0        0        0   \n",
      "3            0        1        0        0        0        1        1        0   \n",
      "4            0        0        0        0        1        0        0        0   \n",
      "...        ...      ...      ...      ...      ...      ...      ...      ...   \n",
      "86336        0        0        0        1        0        0        0        0   \n",
      "86337        0        0        0        0        0        0        0        0   \n",
      "86338        0        0        0        0        0        1        0        0   \n",
      "86339        0        0        0        0        0        0        0        0   \n",
      "86340        0        0        0        0        0        0        1        0   \n",
      "\n",
      "       icd_Z85  \n",
      "0            0  \n",
      "1            0  \n",
      "2            0  \n",
      "3            0  \n",
      "4            0  \n",
      "...        ...  \n",
      "86336        0  \n",
      "86337        0  \n",
      "86338        0  \n",
      "86339        0  \n",
      "86340        0  \n",
      "\n",
      "[86341 rows x 9 columns]\n"
     ]
    }
   ],
   "source": [
    "LogReg_pipeline = Pipeline([\n",
    "                ('vect', CountVectorizer(stop_words=stopwords.words('english'))),\n",
    "#                 ('tfidf', TfidfVectorizer(stop_words=list(stop_words))),\n",
    "                ('clf', OneVsRestClassifier(LogisticRegression(solver='sag'), n_jobs=1)),\n",
    "            ])\n",
    "\n",
    "var_pre = {}\n",
    "\n",
    "for category in categories:\n",
    "    print('... Processing {}'.format(category))\n",
    "    # train the model using X_dtm & y\n",
    "    LogReg_pipeline.fit(X_train, train[category])\n",
    "    # compute the testing accuracy\n",
    "    prediction = LogReg_pipeline.predict(X_test)\n",
    "    var_pre[category] = prediction\n",
    "    print('Test accuracy is {}'.format(accuracy_score(test[category], prediction)))\n",
    "\n",
    "logreg_pred = pd.DataFrame(var_pre)\n",
    "\n",
    "print(logreg_pred)"
   ]
  },
  {
   "cell_type": "code",
   "execution_count": 35,
   "id": "c262671a",
   "metadata": {},
   "outputs": [],
   "source": [
    "y_true = y_test.to_numpy()\n",
    "y_pred6 = logreg_pred.to_numpy()"
   ]
  },
  {
   "cell_type": "code",
   "execution_count": 122,
   "id": "f32defa0",
   "metadata": {},
   "outputs": [
    {
     "ename": "ValueError",
     "evalue": "operands could not be broadcast together with shapes (86341,9) (330,9) ",
     "output_type": "error",
     "traceback": [
      "\u001b[1;31m---------------------------------------------------------------------------\u001b[0m",
      "\u001b[1;31mValueError\u001b[0m                                Traceback (most recent call last)",
      "Cell \u001b[1;32mIn[122], line 1\u001b[0m\n\u001b[1;32m----> 1\u001b[0m \u001b[38;5;28mprint\u001b[39m(y_test\u001b[38;5;241m.\u001b[39mcolumns, ((\u001b[38;5;28mabs\u001b[39m(\u001b[43mnp\u001b[49m\u001b[38;5;241;43m.\u001b[39;49m\u001b[43mdiff\u001b[49m\u001b[43m(\u001b[49m\u001b[43m[\u001b[49m\u001b[43my_test\u001b[49m\u001b[38;5;241;43m.\u001b[39;49m\u001b[43mto_numpy\u001b[49m\u001b[43m(\u001b[49m\u001b[43m)\u001b[49m\u001b[43m,\u001b[49m\u001b[43m \u001b[49m\u001b[43mnb_pred\u001b[49m\u001b[38;5;241;43m.\u001b[39;49m\u001b[43mto_numpy\u001b[49m\u001b[43m(\u001b[49m\u001b[43m)\u001b[49m\u001b[43m]\u001b[49m\u001b[43m,\u001b[49m\u001b[43m \u001b[49m\u001b[43maxis\u001b[49m\u001b[38;5;241;43m=\u001b[39;49m\u001b[38;5;241;43m0\u001b[39;49m\u001b[43m)\u001b[49m))\u001b[38;5;241m.\u001b[39msum(axis\u001b[38;5;241m=\u001b[39m\u001b[38;5;241m1\u001b[39m)\u001b[38;5;241m/\u001b[39m\u001b[38;5;28mlen\u001b[39m(y_test))\u001b[38;5;241m*\u001b[39m\u001b[38;5;241m100\u001b[39m)\n\u001b[0;32m      2\u001b[0m \u001b[38;5;28mprint\u001b[39m(\u001b[38;5;124m'\u001b[39m\u001b[38;5;124mAccuracy Score with the discharge_instruction as variable is for countvect logReg\u001b[39m\u001b[38;5;124m'\u001b[39m,  Accuracy(y_true, y_pred6))\n\u001b[0;32m      3\u001b[0m \u001b[38;5;28mprint\u001b[39m(\u001b[38;5;124m'\u001b[39m\u001b[38;5;124mHamming_loss with the discharge_instruction as variable is for countvect logReg\u001b[39m\u001b[38;5;124m'\u001b[39m, Hamming_Loss(y_true, y_pred6))\n",
      "File \u001b[1;32m<__array_function__ internals>:180\u001b[0m, in \u001b[0;36mdiff\u001b[1;34m(*args, **kwargs)\u001b[0m\n",
      "File \u001b[1;32m~\\anaconda3\\lib\\site-packages\\numpy\\lib\\function_base.py:1447\u001b[0m, in \u001b[0;36mdiff\u001b[1;34m(a, n, axis, prepend, append)\u001b[0m\n\u001b[0;32m   1445\u001b[0m op \u001b[38;5;241m=\u001b[39m not_equal \u001b[38;5;28;01mif\u001b[39;00m a\u001b[38;5;241m.\u001b[39mdtype \u001b[38;5;241m==\u001b[39m np\u001b[38;5;241m.\u001b[39mbool_ \u001b[38;5;28;01melse\u001b[39;00m subtract\n\u001b[0;32m   1446\u001b[0m \u001b[38;5;28;01mfor\u001b[39;00m _ \u001b[38;5;129;01min\u001b[39;00m \u001b[38;5;28mrange\u001b[39m(n):\n\u001b[1;32m-> 1447\u001b[0m     a \u001b[38;5;241m=\u001b[39m \u001b[43mop\u001b[49m\u001b[43m(\u001b[49m\u001b[43ma\u001b[49m\u001b[43m[\u001b[49m\u001b[43mslice1\u001b[49m\u001b[43m]\u001b[49m\u001b[43m,\u001b[49m\u001b[43m \u001b[49m\u001b[43ma\u001b[49m\u001b[43m[\u001b[49m\u001b[43mslice2\u001b[49m\u001b[43m]\u001b[49m\u001b[43m)\u001b[49m\n\u001b[0;32m   1449\u001b[0m \u001b[38;5;28;01mreturn\u001b[39;00m a\n",
      "\u001b[1;31mValueError\u001b[0m: operands could not be broadcast together with shapes (86341,9) (330,9) "
     ]
    }
   ],
   "source": [
    "print(y_test.columns, ((abs(np.diff([y_test.to_numpy(), nb_pred.to_numpy()], axis=0))).sum(axis=1)/len(y_test))*100)\n",
    "print('Accuracy Score with the discharge_instruction as variable is for countvect logReg',  Accuracy(y_true, y_pred6))\n",
    "print('Hamming_loss with the discharge_instruction as variable is for countvect logReg', Hamming_Loss(y_true, y_pred6))"
   ]
  },
  {
   "cell_type": "code",
   "execution_count": null,
   "id": "529e5762",
   "metadata": {},
   "outputs": [],
   "source": [
    "#  ngram_range=(1, 1)\n",
    "# vectorizer = TfidfVectorizer()\n",
    "# >>> X = vectorizer.fit_transform(corpus)\n",
    "# >>> vectorizer.get_feature_names_out()\n",
    "# array(['and', 'document', 'first', 'is', 'one', 'second', 'the', 'third',\n",
    "#        'this'], ...)\n",
    "# >>> print(X.shape)"
   ]
  },
  {
   "cell_type": "code",
   "execution_count": 40,
   "id": "9c362e90",
   "metadata": {},
   "outputs": [
    {
     "data": {
      "text/plain": [
       "{'admitted': 6823,\n",
       " 'hospital': 44214,\n",
       " 'fall': 36490,\n",
       " 'found': 39233,\n",
       " 'urinary': 93499,\n",
       " 'tract': 90939,\n",
       " 'infection': 47490,\n",
       " 'treated': 91467,\n",
       " 'antibiotics': 9242,\n",
       " 'also': 8101,\n",
       " 'fracture': 39298,\n",
       " 'pelvis': 66541,\n",
       " 'wrist': 97803,\n",
       " 'orthopedics': 63732,\n",
       " 'plastic': 68107,\n",
       " 'hand': 41861,\n",
       " 'surgery': 85888,\n",
       " 'evaluated': 34959,\n",
       " 'stabilized': 82892,\n",
       " 'fractures': 39330,\n",
       " 'follow': 38601,\n",
       " 'future': 39947,\n",
       " 'management': 54728,\n",
       " 'evaluation': 34996,\n",
       " 'meanwhile': 55366,\n",
       " 'continue': 23237,\n",
       " 'work': 97354,\n",
       " 'physical': 67420,\n",
       " 'therapy': 88687,\n",
       " 'gain': 40076,\n",
       " 'strength': 84371,\n",
       " 'mobilityif': 57512,\n",
       " 'shortness': 80256,\n",
       " 'breath': 15987,\n",
       " 'fevers': 37155,\n",
       " 'cough': 23906,\n",
       " 'burning': 16638,\n",
       " 'urination': 93536,\n",
       " 'diarrhea': 28083,\n",
       " 'abdominal': 5293,\n",
       " 'pain': 65040,\n",
       " 'please': 68230,\n",
       " 'let': 52232,\n",
       " 'care': 17669,\n",
       " 'providers': 71688,\n",
       " 'know': 50930,\n",
       " 'constipation': 22934,\n",
       " 'well': 96578,\n",
       " 'dear': 26379,\n",
       " 'pleasure': 68258,\n",
       " 'taking': 87380,\n",
       " 'recurrent': 74303,\n",
       " 'rectal': 74213,\n",
       " 'bleeding': 14895,\n",
       " 'believe': 13728,\n",
       " 'source': 82141,\n",
       " 'arteriovenous': 11219,\n",
       " 'malformation': 54615,\n",
       " 'avm': 12434,\n",
       " 'small': 81500,\n",
       " 'intestine': 49355,\n",
       " 'prior': 70684,\n",
       " 'admission': 6718,\n",
       " 'unfortunately': 92831,\n",
       " 'lack': 51184,\n",
       " 'tools': 90546,\n",
       " 'access': 5748,\n",
       " 'noninvasively': 61044,\n",
       " 'luckily': 54066,\n",
       " 'unstable': 93093,\n",
       " 'enough': 33964,\n",
       " 'warrant': 95680,\n",
       " 'emergent': 33424,\n",
       " 'surgical': 86104,\n",
       " 'procedure': 70878,\n",
       " 'still': 83727,\n",
       " 'working': 97386,\n",
       " 'scheduling': 78827,\n",
       " 'advanced': 6915,\n",
       " 'endoscopist': 33801,\n",
       " 'performs': 66802,\n",
       " 'special': 82282,\n",
       " 'called': 16997,\n",
       " 'doubleballoon': 30970,\n",
       " 'enteroscopy': 34085,\n",
       " 'may': 55177,\n",
       " 'able': 5398,\n",
       " 'contact': 23135,\n",
       " 'outpatient': 64145,\n",
       " 'thisunfortunately': 89208,\n",
       " 'possible': 68972,\n",
       " 'bleed': 14874,\n",
       " 'event': 35169,\n",
       " 'goes': 41046,\n",
       " 'away': 12522,\n",
       " 'probably': 70761,\n",
       " 'necessary': 59516,\n",
       " 'come': 21614,\n",
       " 'back': 12696,\n",
       " 'however': 44825,\n",
       " 'large': 51394,\n",
       " 'bloody': 15326,\n",
       " 'bowel': 15666,\n",
       " 'movement': 58322,\n",
       " 'consecutive': 22779,\n",
       " 'movements': 58341,\n",
       " 'experience': 35737,\n",
       " 'lightheadedness': 52826,\n",
       " 'chest': 19406,\n",
       " 'dizziness': 30156,\n",
       " 'return': 77023,\n",
       " 'emergency': 33402,\n",
       " 'departmentweigh': 27215,\n",
       " 'every': 35227,\n",
       " 'morning': 58059,\n",
       " 'call': 16990,\n",
       " 'md': 55223,\n",
       " 'weight': 96504,\n",
       " 'lbs': 51613,\n",
       " 'hosptialization': 44603,\n",
       " 'hospitalized': 44444,\n",
       " 'concerning': 22201,\n",
       " 'known': 50948,\n",
       " 'spontaneous': 82714,\n",
       " 'bacterial': 12817,\n",
       " 'peritonitis': 66936,\n",
       " 'individuals': 47367,\n",
       " 'cirrhosis': 20130,\n",
       " 'prone': 71325,\n",
       " 'develop': 27672,\n",
       " 'iv': 50231,\n",
       " 'antiobiotic': 9652,\n",
       " 'albumin': 7678,\n",
       " 'improvement': 46606,\n",
       " 'symptoms': 86683,\n",
       " 'starting': 83210,\n",
       " 'antibiotic': 9197,\n",
       " 'ciprofloxacin': 20033,\n",
       " 'take': 87305,\n",
       " 'day': 25793,\n",
       " 'prevent': 70527,\n",
       " 'type': 92321,\n",
       " 'hosptialized': 44605,\n",
       " 'initially': 48116,\n",
       " 'furosemide': 39826,\n",
       " 'spironolactone': 82587,\n",
       " 'held': 42806,\n",
       " 'light': 52799,\n",
       " 'kidney': 50727,\n",
       " 'injury': 48215,\n",
       " 'resolved': 76269,\n",
       " 'great': 41312,\n",
       " 'news': 60501,\n",
       " 'restarted': 76565,\n",
       " 'original': 63657,\n",
       " 'home': 43892,\n",
       " 'doses': 30854,\n",
       " 'weekend': 96128,\n",
       " 'unable': 92534,\n",
       " 'schedule': 78695,\n",
       " 'followup': 38677,\n",
       " 'appointment': 10233,\n",
       " 'arrange': 11046,\n",
       " 'within': 97243,\n",
       " 'weeks': 96228,\n",
       " 'discharge': 29056,\n",
       " 'enjoy': 33933,\n",
       " 'super': 85441,\n",
       " 'bowl': 15709,\n",
       " 'tonight': 90505,\n",
       " 'participate': 65993,\n",
       " 'bile': 14524,\n",
       " 'duct': 32000,\n",
       " 'obstruction': 62161,\n",
       " 'due': 32036,\n",
       " 'stones': 83911,\n",
       " 'underwent': 92743,\n",
       " 'ercp': 34422,\n",
       " 'stent': 83478,\n",
       " 'placed': 67831,\n",
       " 'improved': 46501,\n",
       " 'seen': 79192,\n",
       " 'team': 87721,\n",
       " 'arranged': 11050,\n",
       " 'see': 79167,\n",
       " 'next': 60527,\n",
       " 'pending': 66561,\n",
       " 'plan': 67975,\n",
       " 'likely': 52913,\n",
       " 'need': 59629,\n",
       " 'repeat': 75849,\n",
       " 'months': 57891,\n",
       " 'removal': 75567,\n",
       " 'reassessment': 73534,\n",
       " 'fast': 36698,\n",
       " 'irregular': 49806,\n",
       " 'heart': 42582,\n",
       " 'rhythm': 77341,\n",
       " 'happened': 41961,\n",
       " 'given': 40790,\n",
       " 'medications': 55708,\n",
       " 'slow': 81433,\n",
       " 'rate': 73178,\n",
       " 'discussed': 29464,\n",
       " 'options': 63438,\n",
       " 'slowing': 81444,\n",
       " 'ablation': 5384,\n",
       " 'subsequent': 84941,\n",
       " 'pacemaker': 64892,\n",
       " 'decided': 26515,\n",
       " 'together': 90221,\n",
       " 'stick': 83695,\n",
       " 'medication': 55539,\n",
       " 'ultrasound': 92491,\n",
       " 'used': 93779,\n",
       " 'look': 53668,\n",
       " 'pumps': 72293,\n",
       " 'showed': 80340,\n",
       " 'decrease': 26626,\n",
       " 'function': 39686,\n",
       " 'ejection': 32942,\n",
       " 'fraction': 39289,\n",
       " 'go': 41018,\n",
       " 'prescribed': 69962,\n",
       " 'experiencing': 35764,\n",
       " 'new': 60469,\n",
       " 'coming': 21733,\n",
       " 'going': 41050,\n",
       " 'heartline': 42679,\n",
       " 'persistent': 67070,\n",
       " 'getting': 40721,\n",
       " 'better': 14261,\n",
       " 'rest': 76548,\n",
       " 'nitroglycerine': 60765,\n",
       " 'swelling': 86391,\n",
       " 'legs': 52041,\n",
       " 'distention': 29921,\n",
       " 'night': 60606,\n",
       " 'attend': 12138,\n",
       " 'appointments': 10359,\n",
       " 'listed': 53264,\n",
       " 'weigh': 96498,\n",
       " 'doctor': 30328,\n",
       " '2146': 2297,\n",
       " 'use': 93769,\n",
       " 'baseline': 13119,\n",
       " 'leave': 51872,\n",
       " 'wish': 97139,\n",
       " 'best': 14174,\n",
       " 'instructions': 48651,\n",
       " 'dischargemedications': 29191,\n",
       " 'clindamycin': 20414,\n",
       " 'instructed': 48561,\n",
       " 'days': 26018,\n",
       " 'resume': 76854,\n",
       " 'prehospital': 69827,\n",
       " 'medicationspain': 55932,\n",
       " 'primarily': 70646,\n",
       " 'tylenol': 92256,\n",
       " 'control': 23407,\n",
       " 'script': 78963,\n",
       " 'narcotic': 59059,\n",
       " 'severe': 79939,\n",
       " 'drive': 31645,\n",
       " 'medicationdiet': 55612,\n",
       " 'normal': 61211,\n",
       " 'diet': 28278,\n",
       " 'sure': 85741,\n",
       " 'drink': 31570,\n",
       " 'plenty': 68283,\n",
       " 'liquids': 53142,\n",
       " 'least': 51861,\n",
       " '48': 3627,\n",
       " 'ounces': 64020,\n",
       " 'per': 66686,\n",
       " 'eat': 32386,\n",
       " 'sour': 82140,\n",
       " 'things': 88996,\n",
       " 'make': 54564,\n",
       " 'secrete': 79076,\n",
       " 'saliva': 78284,\n",
       " 'times': 89807,\n",
       " 'daily': 25205,\n",
       " 'try': 91916,\n",
       " 'chew': 19479,\n",
       " 'gum': 41636,\n",
       " 'stimulate': 83738,\n",
       " 'productionmouth': 71096,\n",
       " 'massage': 55015,\n",
       " 'area': 10757,\n",
       " 'chin': 19593,\n",
       " 'submandibular': 84896,\n",
       " 'gland': 40827,\n",
       " 'located': 53549,\n",
       " 'place': 67813,\n",
       " 'warm': 95645,\n",
       " 'compress': 22091,\n",
       " 'help': 42833,\n",
       " 'mild': 57166,\n",
       " 'discomfort': 29282,\n",
       " 'surgeryyour': 86094,\n",
       " 'dressing': 31452,\n",
       " 'second': 79058,\n",
       " 'incision': 46829,\n",
       " 'closed': 20740,\n",
       " 'sutures': 86234,\n",
       " 'suture': 86231,\n",
       " 'keep': 50560,\n",
       " 'dry': 31855,\n",
       " 'removaldo': 75582,\n",
       " 'apply': 10201,\n",
       " 'lotions': 53826,\n",
       " 'creams': 24486,\n",
       " 'site': 80974,\n",
       " 'avoid': 12447,\n",
       " 'swimming': 86509,\n",
       " 'two': 92216,\n",
       " 'suturestaple': 86247,\n",
       " 'removalcall': 75579,\n",
       " 'surgeon': 85760,\n",
       " 'signs': 80728,\n",
       " 'like': 52899,\n",
       " 'redness': 74387,\n",
       " 'fever': 37089,\n",
       " 'drainage': 31135,\n",
       " 'activitywe': 6278,\n",
       " 'recommend': 73826,\n",
       " 'heavy': 42762,\n",
       " 'lifting': 52715,\n",
       " 'running': 78094,\n",
       " 'climbing': 20406,\n",
       " 'strenuous': 84443,\n",
       " 'exercise': 35552,\n",
       " 'appointmentyou': 10511,\n",
       " 'leisurely': 52131,\n",
       " 'walks': 95524,\n",
       " 'slowly': 81448,\n",
       " 'increase': 47119,\n",
       " 'activity': 6212,\n",
       " 'pace': 64886,\n",
       " 'much': 58528,\n",
       " 'onceno': 62854,\n",
       " 'driving': 31674,\n",
       " 'sedating': 79140,\n",
       " 'sports': 82729,\n",
       " 'cleared': 20326,\n",
       " 'neurosurgeon': 60363,\n",
       " 'medicationsplease': 55943,\n",
       " 'blood': 15204,\n",
       " 'thinning': 89069,\n",
       " 'aspirin': 11483,\n",
       " 'ibuprofen': 45603,\n",
       " 'plavix': 68159,\n",
       " 'coumadin': 24013,\n",
       " 'motrin': 58213,\n",
       " 'painyou': 65471,\n",
       " 'acetaminophen': 5924,\n",
       " 'minor': 57289,\n",
       " 'otherwise': 63938,\n",
       " 'restricted': 76667,\n",
       " 'medicationit': 55660,\n",
       " 'important': 46417,\n",
       " 'fluid': 38246,\n",
       " 'intake': 48986,\n",
       " 'stool': 83946,\n",
       " 'softener': 81838,\n",
       " 'colace': 21151,\n",
       " 'cause': 18256,\n",
       " 'treatment': 91510,\n",
       " 'abscess': 5592,\n",
       " 'abdomenthe': 5276,\n",
       " 'interventional': 49290,\n",
       " 'radiologists': 72947,\n",
       " 'aspirated': 11442,\n",
       " 'sent': 79567,\n",
       " 'results': 76783,\n",
       " 'culture': 24853,\n",
       " 'cultures': 24860,\n",
       " 'never': 60464,\n",
       " 'returned': 77031,\n",
       " 'positive': 68926,\n",
       " 'colorectal': 21523,\n",
       " 'think': 89010,\n",
       " 'needed': 59636,\n",
       " 'intervention': 49288,\n",
       " 'infectious': 47742,\n",
       " 'disease': 29523,\n",
       " 'recommended': 73898,\n",
       " 'augmentin': 12250,\n",
       " 'id': 45725,\n",
       " 'ordered': 63531,\n",
       " 'us': 93740,\n",
       " 'performed': 66778,\n",
       " 'date': 25732,\n",
       " 'time': 89707,\n",
       " 'currently': 24915,\n",
       " 'scheduled': 78709,\n",
       " 'clostridium': 20805,\n",
       " 'diffile': 28533,\n",
       " 'colitis': 21255,\n",
       " 'bacteria': 12803,\n",
       " 'happen': 41955,\n",
       " 'get': 40714,\n",
       " 'started': 83167,\n",
       " 'metronidazole': 56855,\n",
       " 'treat': 91462,\n",
       " 'eatdrink': 32393,\n",
       " 'walk': 95437,\n",
       " 'discharged': 29101,\n",
       " 'oral': 63482,\n",
       " 'alcohol': 7709,\n",
       " 'luck': 54061,\n",
       " 'healthplease': 42522,\n",
       " 'questions': 72728,\n",
       " 'concernswe': 22311,\n",
       " 'labs': 51106,\n",
       " 'drawn': 31375,\n",
       " 'week': 96050,\n",
       " 'office': 62506,\n",
       " 'monitor': 57687,\n",
       " 'inr': 48357,\n",
       " 'sincerely': 80877,\n",
       " 'skin': 81200,\n",
       " 'irritation': 49855,\n",
       " 'around': 11007,\n",
       " 'gtube': 41514,\n",
       " 'wound': 97644,\n",
       " 'ct': 24745,\n",
       " 'scan': 78594,\n",
       " 'show': 80338,\n",
       " 'pocket': 68545,\n",
       " 'misplacement': 57391,\n",
       " 'tube': 91959,\n",
       " 'kept': 50620,\n",
       " 'leaking': 51835,\n",
       " 'remove': 75618,\n",
       " 'altogether': 8163,\n",
       " 'order': 63529,\n",
       " 'heal': 42332,\n",
       " 'zinc': 98517,\n",
       " 'oxide': 64699,\n",
       " 'barrier': 13098,\n",
       " 'peg': 66512,\n",
       " 'replaced': 75882,\n",
       " 'provide': 71626,\n",
       " 'nutrition': 61933,\n",
       " 'semipermanent': 79457,\n",
       " 'could': 24008,\n",
       " 'nutrients': 61921,\n",
       " 'tpn': 90823,\n",
       " 'discontinued': 29361,\n",
       " 'speech': 82388,\n",
       " 'swallow': 86277,\n",
       " 'pureed': 72340,\n",
       " 'foods': 38834,\n",
       " 'supervision': 85467,\n",
       " 'despite': 27510,\n",
       " 'extensive': 35899,\n",
       " 'identifiedthere': 45770,\n",
       " 'changes': 18974,\n",
       " 'regimen': 74821,\n",
       " 'hospitalizationplease': 44397,\n",
       " 'seek': 79182,\n",
       " 'medical': 55497,\n",
       " 'attention': 12156,\n",
       " 'chills': 19528,\n",
       " 'inability': 46740,\n",
       " 'tolerate': 90266,\n",
       " 'food': 38790,\n",
       " 'symptom': 86654,\n",
       " 'presyncope': 70498,\n",
       " 'near': 59423,\n",
       " 'loss': 53778,\n",
       " 'consciousness': 22751,\n",
       " 'assessed': 11595,\n",
       " 'causes': 18276,\n",
       " 'tests': 88300,\n",
       " 'episodes': 34298,\n",
       " 'vasovagal': 94362,\n",
       " 'reflex': 74709,\n",
       " 'occured': 62319,\n",
       " 'benign': 14101,\n",
       " 'condition': 22386,\n",
       " 'treatmentwhile': 91615,\n",
       " 'er': 34403,\n",
       " 'low': 53910,\n",
       " 'concentration': 22174,\n",
       " 'cells': 18580,\n",
       " 'anemia': 8806,\n",
       " 'amounts': 8483,\n",
       " 'fluids': 38306,\n",
       " 'received': 73659,\n",
       " 'reflective': 74707,\n",
       " 'true': 91900,\n",
       " 'counts': 24187,\n",
       " 'anemic': 8848,\n",
       " 'cell': 18564,\n",
       " 'exam': 35375,\n",
       " 'noted': 61490,\n",
       " 'right': 77484,\n",
       " 'eye': 36084,\n",
       " 'vision': 94915,\n",
       " 'pressurepain': 70415,\n",
       " 'viral': 94867,\n",
       " 'resolve': 76263,\n",
       " 'optometrist': 63471,\n",
       " 'improve': 46488,\n",
       " 'adequate': 6525,\n",
       " 'primary': 70649,\n",
       " 'usual': 93839,\n",
       " 'colonoscopy': 21433,\n",
       " 'doxazosin': 31068,\n",
       " 'gynecologic': 41684,\n",
       " 'oncology': 62935,\n",
       " 'service': 79735,\n",
       " 'undergoing': 92697,\n",
       " 'procedures': 70933,\n",
       " 'recovered': 74039,\n",
       " 'operation': 63249,\n",
       " 'feels': 36935,\n",
       " 'safe': 78194,\n",
       " 'narcotics': 59067,\n",
       " 'combine': 21602,\n",
       " 'sedative': 79160,\n",
       " '4000mg': 3432,\n",
       " 'apap': 9947,\n",
       " '24': 2487,\n",
       " 'hrs': 44860,\n",
       " 'postop': 69150,\n",
       " 'nothing': 61528,\n",
       " 'vagina': 94023,\n",
       " 'tampons': 87482,\n",
       " 'douching': 30985,\n",
       " 'sex': 79976,\n",
       " '12': 781,\n",
       " 'objects': 62076,\n",
       " '10': 137,\n",
       " 'regular': 74977,\n",
       " 'stairs': 83036,\n",
       " 'shower': 80354,\n",
       " 'allow': 8000,\n",
       " 'soapy': 81705,\n",
       " 'water': 95748,\n",
       " 'run': 78091,\n",
       " 'scrubbing': 78990,\n",
       " 'bath': 13198,\n",
       " 'tubs': 92056,\n",
       " 'staples': 83129,\n",
       " 'removed': 75624,\n",
       " 'visit': 94938,\n",
       " 'reach': 73347,\n",
       " 'records': 74008,\n",
       " 'hospitalization': 44354,\n",
       " 'head': 42201,\n",
       " 'multiple': 58644,\n",
       " 'falls': 36545,\n",
       " 'neurosurgery': 60391,\n",
       " 'discussion': 29495,\n",
       " 'family': 36609,\n",
       " 'ctscans': 24791,\n",
       " 'stable': 82926,\n",
       " 'enlarging': 33953,\n",
       " 'ctscan': 24790,\n",
       " 'clinicyou': 20566,\n",
       " 'confusion': 22591,\n",
       " 'secondary': 79063,\n",
       " 'liver': 53390,\n",
       " 'give': 40787,\n",
       " 'lactulose': 51216,\n",
       " 'rifaximin': 77470,\n",
       " 'clinic': 20428,\n",
       " 'belly': 13743,\n",
       " 'lots': 53836,\n",
       " 'caused': 18260,\n",
       " 'seem': 79186,\n",
       " 'gallbladder': 40124,\n",
       " 'pancreas': 65598,\n",
       " 'would': 97636,\n",
       " 'gastroenterologist': 40346,\n",
       " 'patient': 66231,\n",
       " 'instructionsyou': 48830,\n",
       " 'internal': 49185,\n",
       " 'medicine': 56104,\n",
       " 'regarding': 74794,\n",
       " 'lower': 53934,\n",
       " 'extremity': 36007,\n",
       " 'reassuring': 73543,\n",
       " 'venogram': 94503,\n",
       " 'study': 84767,\n",
       " 'evidence': 35263,\n",
       " 'clot': 20813,\n",
       " 'burden': 16620,\n",
       " 'vein': 94446,\n",
       " 'drains': 31313,\n",
       " 'suspected': 86194,\n",
       " 'cardiac': 17430,\n",
       " 'causing': 18298,\n",
       " '2dechocardiogram': 2835,\n",
       " 'soon': 82025,\n",
       " 'increased': 47123,\n",
       " 'pumping': 72283,\n",
       " 'diuretic': 30023,\n",
       " 'lasix': 51433,\n",
       " 'presented': 70257,\n",
       " 'workup': 97435,\n",
       " 'revealed': 77113,\n",
       " 'cancer': 17130,\n",
       " 'pressing': 70301,\n",
       " 'one': 62980,\n",
       " 'main': 54517,\n",
       " 'veins': 94454,\n",
       " 'abdomen': 5238,\n",
       " 'doctors': 30441,\n",
       " 'hospice': 44182,\n",
       " 'clumsiness': 20964,\n",
       " 'left': 51937,\n",
       " 'weakness': 95917,\n",
       " 'body': 15421,\n",
       " 'concerned': 22189,\n",
       " 'flare': 37938,\n",
       " 'ms': 58500,\n",
       " '3day': 3308,\n",
       " 'course': 24246,\n",
       " 'steroids': 83629,\n",
       " 'mri': 58454,\n",
       " 'formal': 39045,\n",
       " 'interpretation': 49216,\n",
       " 'receive': 73658,\n",
       " 'third': 89089,\n",
       " 'dose': 30784,\n",
       " 'outpatientyou': 64257,\n",
       " 'sclerosis': 78891,\n",
       " 'treatmentit': 91547,\n",
       " 'na': 58945,\n",
       " 'soak': 81670,\n",
       " 'pool': 68775,\n",
       " 'touch': 90738,\n",
       " 'bearing': 13354,\n",
       " 'leg': 51976,\n",
       " 'elevate': 33153,\n",
       " 'reduce': 74511,\n",
       " 'paindo': 65157,\n",
       " 'splint': 82649,\n",
       " 'dryother': 31925,\n",
       " 'nicotine': 60579,\n",
       " 'products': 71110,\n",
       " 'optimize': 63425,\n",
       " 'healing': 42401,\n",
       " 'lovenox': 53855,\n",
       " 'clotsyou': 20913,\n",
       " 'additional': 6452,\n",
       " '72': 4352,\n",
       " 'hours': 44652,\n",
       " 'refill': 74673,\n",
       " 'prescriptions': 70194,\n",
       " 'ahead': 7477,\n",
       " 'either': 32922,\n",
       " 'mailed': 54513,\n",
       " 'pick': 67604,\n",
       " 'allowed': 8004,\n",
       " 'oxycontin': 64774,\n",
       " 'oxycodone': 64717,\n",
       " 'percocet': 66708,\n",
       " 'pharmacy': 67218,\n",
       " 'addition': 6450,\n",
       " 'write': 97821,\n",
       " '90': 4875,\n",
       " 'drowsiness': 31771,\n",
       " 'operate': 63242,\n",
       " 'motor': 58200,\n",
       " 'vehicle': 94434,\n",
       " 'machinery': 54392,\n",
       " 'serious': 79658,\n",
       " 'breathing': 16085,\n",
       " 'problems': 70795,\n",
       " 'concerns': 22225,\n",
       " 'danger': 25628,\n",
       " 'local': 53540,\n",
       " 'room': 77798,\n",
       " 'part': 65971,\n",
       " 'neck': 59563,\n",
       " 'shoulderwhat': 80320,\n",
       " 'done': 30649,\n",
       " 'scans': 78624,\n",
       " 'biopsy': 14642,\n",
       " 'disc': 29026,\n",
       " 'suffered': 85155,\n",
       " 'stroke': 84556,\n",
       " 'point': 68619,\n",
       " 'since': 80871,\n",
       " 'bloodthinner': 15297,\n",
       " 'apixaban': 9988,\n",
       " 'risk': 77577,\n",
       " 'wear': 96000,\n",
       " '30': 2966,\n",
       " 'abnormal': 5428,\n",
       " 'rhythms': 77377,\n",
       " 'dangerously': 25641,\n",
       " 'high': 43569,\n",
       " 'pressure': 70313,\n",
       " 'stay': 83332,\n",
       " 'carvedilol': 17938,\n",
       " 'lisinoprilwhat': 53224,\n",
       " 'note': 61485,\n",
       " 'elevated': 33156,\n",
       " 'creatinine': 24511,\n",
       " 'acute': 6327,\n",
       " 'renal': 75723,\n",
       " 'failure': 36368,\n",
       " 'inadequate': 46759,\n",
       " 'kidneys': 50755,\n",
       " 'stopped': 84097,\n",
       " 'worsen': 97516,\n",
       " 'patients': 66244,\n",
       " 'dehydrated': 26882,\n",
       " 'setting': 79875,\n",
       " 'check': 19176,\n",
       " 'decide': 26513,\n",
       " 'whether': 96929,\n",
       " 'restart': 76557,\n",
       " 'thisyou': 89220,\n",
       " 'port': 68845,\n",
       " 'contaminant': 23175,\n",
       " 'contacted': 23140,\n",
       " 'nursing': 61892,\n",
       " 'servicesmedication': 79771,\n",
       " 'changesstop': 19074,\n",
       " 'lisinoprilhydrochlorothiazide': 53199,\n",
       " 'headache': 42203,\n",
       " 'gave': 40549,\n",
       " 'migraine': 57134,\n",
       " 'headaches': 42231,\n",
       " 'prescription': 70178,\n",
       " 'metformin': 56645,\n",
       " 'tomorrow': 90442,\n",
       " 'normall': 61301,\n",
       " 'recovery': 74088,\n",
       " 'pneumonia': 68430,\n",
       " 'lungs': 54165,\n",
       " 'normally': 61308,\n",
       " 'leaky': 51845,\n",
       " 'valve': 94121,\n",
       " 'receiving': 73675,\n",
       " 'flow': 38152,\n",
       " 'pause': 66272,\n",
       " 'brief': 16268,\n",
       " 'periods': 66896,\n",
       " 'block': 15118,\n",
       " 'leaving': 51906,\n",
       " 'rehab': 75071,\n",
       " 'facility': 36223,\n",
       " 'immediate': 46103,\n",
       " 'cardiologist': 17473,\n",
       " 'made': 54441,\n",
       " '1000am': 145,\n",
       " 'device': 27737,\n",
       " 'four': 39264,\n",
       " 'medicines': 56151,\n",
       " 'lisinopril': 53177,\n",
       " 'amlodipine': 8396,\n",
       " 'atorvastatin': 11907,\n",
       " 'torsemide': 90643,\n",
       " 'thank': 88413,\n",
       " 'allowing': 8006,\n",
       " 'involved': 49683,\n",
       " 'catastrophic': 18040,\n",
       " 'pursure': 72386,\n",
       " 'comfort': 21632,\n",
       " 'measures': 55380,\n",
       " 'hospatilized': 44175,\n",
       " 'recent': 73684,\n",
       " 'nausea': 59237,\n",
       " 'vomiting': 95233,\n",
       " 'lumbar': 54106,\n",
       " 'puncture': 72308,\n",
       " 'sample': 78371,\n",
       " 'csf': 24740,\n",
       " 'rule': 78081,\n",
       " 'meningitis': 56444,\n",
       " 'doxycycline': 31084,\n",
       " 'lyme': 54274,\n",
       " 'erlichiosis': 34463,\n",
       " 'another': 9099,\n",
       " 'tick': 89616,\n",
       " 'bites': 14760,\n",
       " 'identical': 45758,\n",
       " 'physician': 67435,\n",
       " '101': 283,\n",
       " 'rednessbleedingdrainage': 74393,\n",
       " 'liftingdo': 52728,\n",
       " 'medicationyou': 56078,\n",
       " 'rub': 78035,\n",
       " 'pat': 66133,\n",
       " 'doctoryou': 30534,\n",
       " 'brought': 16420,\n",
       " 'combination': 21596,\n",
       " 'chronic': 19933,\n",
       " 'epidural': 34221,\n",
       " 'beating': 13384,\n",
       " 'atrial': 11955,\n",
       " 'fibrillation': 37326,\n",
       " 'intravenous': 49539,\n",
       " 'icu': 45703,\n",
       " 'transferred': 91108,\n",
       " 'floor': 38091,\n",
       " 'several': 79935,\n",
       " '100': 138,\n",
       " 'consistent': 22862,\n",
       " 'changing': 19106,\n",
       " 'dosing': 30915,\n",
       " 'beta': 14233,\n",
       " 'blockerwe': 15182,\n",
       " 'following': 38622,\n",
       " 'list': 53250,\n",
       " 'changed': 18894,\n",
       " 'vancomycin': 94188,\n",
       " '750mg': 4420,\n",
       " '1gm': 1966,\n",
       " 'day2': 25800,\n",
       " 'ciprofloxacin3': 20035,\n",
       " 'cefepime': 18450,\n",
       " '2grams': 2853,\n",
       " 'infection4': 47496,\n",
       " '5mg': 3986,\n",
       " 'clots': 20857,\n",
       " 'eventually': 35204,\n",
       " 'lovenox5': 53859,\n",
       " 'metoprolol': 56801,\n",
       " 'xl': 97948,\n",
       " '200mg': 2107,\n",
       " 'extended': 35884,\n",
       " 'replace': 75881,\n",
       " 'previously': 70576,\n",
       " '20mg': 2240,\n",
       " 'daily7': 25230,\n",
       " 'simvastatin': 80838,\n",
       " 'daily8': 25232,\n",
       " '80': 4560,\n",
       " 'mg': 56891,\n",
       " 'sub': 84837,\n",
       " 'bidplease': 14466,\n",
       " 'urgent': 93450,\n",
       " 'health': 42470,\n",
       " 'pulmonary': 72168,\n",
       " 'ekg': 32946,\n",
       " 'enzymes': 34161,\n",
       " 'stress': 84461,\n",
       " 'test': 88215,\n",
       " 'essentially': 34721,\n",
       " 'without': 97257,\n",
       " 'reversible': 77149,\n",
       " 'defectsplease': 26726,\n",
       " 'except': 35437,\n",
       " 'effexor': 32821,\n",
       " 'increasedyou': 47157,\n",
       " 'checkedif': 19197,\n",
       " 'worsening': 97548,\n",
       " 'fainting': 36444,\n",
       " 'report': 75978,\n",
       " 'nearest': 59432,\n",
       " 'hello': 42825,\n",
       " 'oncologist': 62874,\n",
       " 'discussions': 29501,\n",
       " 'wife': 97057,\n",
       " 'mediation': 55473,\n",
       " 'dexamethasone': 27772,\n",
       " 'energy': 33892,\n",
       " 'atenolol': 11800,\n",
       " 'pressures': 70423,\n",
       " 'cholesterol': 19781,\n",
       " 'pravastatin': 69533,\n",
       " 'warfarin': 95586,\n",
       " 'chose': 19912,\n",
       " 'stop': 84061,\n",
       " 'glaucoma': 40858,\n",
       " 'drops': 31751,\n",
       " 'feel': 36925,\n",
       " 'benefits': 14071,\n",
       " 'good': 41089,\n",
       " 'prescribe': 69958,\n",
       " 'moving': 58409,\n",
       " 'forward': 39157,\n",
       " 'game': 40168,\n",
       " 'today': 90146,\n",
       " 'participating': 66000,\n",
       " 'read': 73398,\n",
       " 'informationwhy': 47913,\n",
       " 'developed': 27677,\n",
       " 'count': 24127,\n",
       " 'anemiawhat': 8842,\n",
       " 'excess': 35465,\n",
       " 'reaccumulation': 73345,\n",
       " 'higher': 43593,\n",
       " 'torsemideyou': 90668,\n",
       " 'iron': 49771,\n",
       " 'deficiency': 26773,\n",
       " 'followed': 38606,\n",
       " 'tablets': 87169,\n",
       " 'gut': 41653,\n",
       " 'upper': 93307,\n",
       " 'endoscopy': 33803,\n",
       " 'inflammation': 47801,\n",
       " 'stomach': 83820,\n",
       " 'gastritis': 40283,\n",
       " 'mass': 55010,\n",
       " 'cancerous': 17167,\n",
       " 'polyps': 68721,\n",
       " 'largest': 51406,\n",
       " 'polyp': 68705,\n",
       " 'capsule': 17320,\n",
       " 'hear': 42572,\n",
       " 'gi': 40733,\n",
       " 'remained': 75483,\n",
       " 'dischargewhat': 29253,\n",
       " '2034': 2179,\n",
       " 'lb': 51607,\n",
       " '923': 4979,\n",
       " 'kg': 50674,\n",
       " 'increases': 47167,\n",
       " '2064': 2199,\n",
       " 'respiratory': 76477,\n",
       " 'soft': 81830,\n",
       " 'tissue': 90025,\n",
       " 'thighwhat': 88984,\n",
       " 'number': 61780,\n",
       " 'exams': 35402,\n",
       " 'identify': 45776,\n",
       " 'feeling': 36928,\n",
       " 'dizzy': 30218,\n",
       " 'vomited': 95229,\n",
       " 'amount': 8471,\n",
       " 'department': 27158,\n",
       " 'scope': 78913,\n",
       " 'camera': 17082,\n",
       " 'looked': 53669,\n",
       " 'saw': 78502,\n",
       " 'clear': 20318,\n",
       " 'series': 79655,\n",
       " 'xrays': 97979,\n",
       " 'stand': 83067,\n",
       " 'quickly': 72793,\n",
       " 'contributed': 23385,\n",
       " 'compression': 22105,\n",
       " 'stockings': 83788,\n",
       " 'hydrated': 45020,\n",
       " 'referred': 74666,\n",
       " 'physiotherapy': 67583,\n",
       " 'maintaining': 54534,\n",
       " 'balance': 12928,\n",
       " 'preventing': 70533,\n",
       " 'specialists': 82298,\n",
       " 'psychiatristthank': 71975,\n",
       " 'choosing': 19893,\n",
       " 'bestyour': 14231,\n",
       " 'came': 17081,\n",
       " 'collection': 21340,\n",
       " 'drugs': 31812,\n",
       " 'lung': 54136,\n",
       " 'space': 82187,\n",
       " 'sometimes': 81981,\n",
       " 'drained': 31258,\n",
       " 'issue': 49977,\n",
       " 'nurses': 61880,\n",
       " 'expired': 35798,\n",
       " 'hospitalwhy': 44567,\n",
       " 'hospitalyou': 44574,\n",
       " 'diarrheawhat': 28174,\n",
       " 'hospitalyour': 44575,\n",
       " 'intestines': 49362,\n",
       " 'diff': 28437,\n",
       " 'ityou': 50224,\n",
       " 'decreasedyour': 26653,\n",
       " 'decision': 26530,\n",
       " 'holding': 43861,\n",
       " 'pills': 67678,\n",
       " 'diuretics': 30034,\n",
       " 'hospitalplease': 44507,\n",
       " 'determine': 27621,\n",
       " 'diureticsplease': 30051,\n",
       " 'details': 27546,\n",
       " 'belowweigh': 13989,\n",
       " 'diffuse': 28545,\n",
       " 'rash': 73132,\n",
       " 'varicella': 94270,\n",
       " 'zoster': 98579,\n",
       " 'virus': 94886,\n",
       " 'vzv': 95392,\n",
       " 'confirmed': 22528,\n",
       " 'diagnosis': 27917,\n",
       " 'chicken': 19502,\n",
       " 'poxwhat': 69457,\n",
       " 'isolation': 49942,\n",
       " 'spread': 82770,\n",
       " 'chickenpox': 19504,\n",
       " 'contagious': 23157,\n",
       " 'antivirus': 9736,\n",
       " 'acyclovir': 6346,\n",
       " 'checked': 19184,\n",
       " 'immunoglobulins': 46257,\n",
       " 'fight': 37457,\n",
       " ...}"
      ]
     },
     "execution_count": 40,
     "metadata": {},
     "output_type": "execute_result"
    }
   ],
   "source": [
    "vocb_dic = LogReg_pipeline['vect'].vocabulary_\n",
    "vocb_dic"
   ]
  },
  {
   "cell_type": "code",
   "execution_count": null,
   "id": "df3960ef",
   "metadata": {},
   "outputs": [],
   "source": []
  },
  {
   "cell_type": "markdown",
   "id": "781a7eb7",
   "metadata": {},
   "source": [
    "**Using the three ways to do the multilable classification using the skmultilearn**"
   ]
  },
  {
   "cell_type": "code",
   "execution_count": null,
   "id": "3ac19c1c",
   "metadata": {},
   "outputs": [],
   "source": []
  },
  {
   "cell_type": "code",
   "execution_count": 43,
   "id": "70c1d7b0",
   "metadata": {},
   "outputs": [],
   "source": [
    "# from sklearn.linear_model import Logis\n",
    "from sklearn.neighbors import KNeighborsRegressor\n",
    "from sklearn.tree import DecisionTreeRegressor\n",
    "from sklearn.naive_bayes import GaussianNB"
   ]
  },
  {
   "cell_type": "code",
   "execution_count": 45,
   "id": "88936c6a",
   "metadata": {},
   "outputs": [
    {
     "name": "stdout",
     "output_type": "stream",
     "text": [
      "Collecting scikit-multilearn\n",
      "  Downloading scikit_multilearn-0.2.0-py3-none-any.whl (89 kB)\n",
      "     ---------------------------------------- 89.4/89.4 kB 1.7 MB/s eta 0:00:00\n",
      "Installing collected packages: scikit-multilearn\n",
      "Successfully installed scikit-multilearn-0.2.0\n",
      "Note: you may need to restart the kernel to use updated packages.\n"
     ]
    }
   ],
   "source": [
    "pip install scikit-multilearn"
   ]
  },
  {
   "cell_type": "code",
   "execution_count": 47,
   "id": "6653a0dd",
   "metadata": {},
   "outputs": [],
   "source": [
    "from skmultilearn.problem_transform import BinaryRelevance\n",
    "from skmultilearn.problem_transform import ClassifierChain\n",
    "from skmultilearn.problem_transform import LabelPowerset"
   ]
  },
  {
   "cell_type": "code",
   "execution_count": 49,
   "id": "9be73d40",
   "metadata": {},
   "outputs": [
    {
     "name": "stdout",
     "output_type": "stream",
     "text": [
      "Collecting neattext\n",
      "  Downloading neattext-0.1.3-py3-none-any.whl (114 kB)\n",
      "     -------------------------------------- 114.7/114.7 kB 2.3 MB/s eta 0:00:00\n",
      "Installing collected packages: neattext\n",
      "Successfully installed neattext-0.1.3\n",
      "Note: you may need to restart the kernel to use updated packages.\n"
     ]
    }
   ],
   "source": [
    "pip install neattext"
   ]
  },
  {
   "cell_type": "code",
   "execution_count": 51,
   "id": "6d1e3cc0",
   "metadata": {},
   "outputs": [],
   "source": [
    "import neattext as nt\n",
    "import neattext.functions as nfx"
   ]
  },
  {
   "cell_type": "code",
   "execution_count": 53,
   "id": "b4e8ab96",
   "metadata": {},
   "outputs": [
    {
     "data": {
      "text/html": [
       "<div>\n",
       "<style scoped>\n",
       "    .dataframe tbody tr th:only-of-type {\n",
       "        vertical-align: middle;\n",
       "    }\n",
       "\n",
       "    .dataframe tbody tr th {\n",
       "        vertical-align: top;\n",
       "    }\n",
       "\n",
       "    .dataframe thead th {\n",
       "        text-align: right;\n",
       "    }\n",
       "</style>\n",
       "<table border=\"1\" class=\"dataframe\">\n",
       "  <thead>\n",
       "    <tr style=\"text-align: right;\">\n",
       "      <th></th>\n",
       "      <th>index</th>\n",
       "      <th>subject_id</th>\n",
       "      <th>hadm_id</th>\n",
       "      <th>discharge_instruction</th>\n",
       "      <th>icd_E11</th>\n",
       "      <th>icd_E78</th>\n",
       "      <th>icd_E87</th>\n",
       "      <th>icd_F32</th>\n",
       "      <th>icd_I16</th>\n",
       "      <th>icd_I50</th>\n",
       "      <th>icd_N17</th>\n",
       "      <th>icd_Y92</th>\n",
       "      <th>icd_Z85</th>\n",
       "    </tr>\n",
       "  </thead>\n",
       "  <tbody>\n",
       "    <tr>\n",
       "      <th>0</th>\n",
       "      <td>0</td>\n",
       "      <td>10000980</td>\n",
       "      <td>29654838</td>\n",
       "      <td>dear   you were admitted for shortness of brea...</td>\n",
       "      <td>1</td>\n",
       "      <td>1</td>\n",
       "      <td>0</td>\n",
       "      <td>0</td>\n",
       "      <td>0</td>\n",
       "      <td>1</td>\n",
       "      <td>0</td>\n",
       "      <td>0</td>\n",
       "      <td>0</td>\n",
       "    </tr>\n",
       "    <tr>\n",
       "      <th>1</th>\n",
       "      <td>1</td>\n",
       "      <td>10000980</td>\n",
       "      <td>26913865</td>\n",
       "      <td>dear  it was a pleasure caring for you at   as...</td>\n",
       "      <td>1</td>\n",
       "      <td>0</td>\n",
       "      <td>0</td>\n",
       "      <td>0</td>\n",
       "      <td>0</td>\n",
       "      <td>1</td>\n",
       "      <td>0</td>\n",
       "      <td>0</td>\n",
       "      <td>0</td>\n",
       "    </tr>\n",
       "    <tr>\n",
       "      <th>2</th>\n",
       "      <td>2</td>\n",
       "      <td>10000980</td>\n",
       "      <td>24947999</td>\n",
       "      <td>dear  were admitted to  on  with shortness of ...</td>\n",
       "      <td>1</td>\n",
       "      <td>1</td>\n",
       "      <td>0</td>\n",
       "      <td>0</td>\n",
       "      <td>0</td>\n",
       "      <td>1</td>\n",
       "      <td>0</td>\n",
       "      <td>0</td>\n",
       "      <td>0</td>\n",
       "    </tr>\n",
       "    <tr>\n",
       "      <th>3</th>\n",
       "      <td>3</td>\n",
       "      <td>10000980</td>\n",
       "      <td>25242409</td>\n",
       "      <td>dear it was a pleasure caring for you at  you ...</td>\n",
       "      <td>1</td>\n",
       "      <td>1</td>\n",
       "      <td>0</td>\n",
       "      <td>0</td>\n",
       "      <td>0</td>\n",
       "      <td>1</td>\n",
       "      <td>1</td>\n",
       "      <td>1</td>\n",
       "      <td>0</td>\n",
       "    </tr>\n",
       "    <tr>\n",
       "      <th>4</th>\n",
       "      <td>4</td>\n",
       "      <td>10000980</td>\n",
       "      <td>25911675</td>\n",
       "      <td>dear it was a pleasure caring for you you were...</td>\n",
       "      <td>1</td>\n",
       "      <td>0</td>\n",
       "      <td>0</td>\n",
       "      <td>0</td>\n",
       "      <td>0</td>\n",
       "      <td>1</td>\n",
       "      <td>0</td>\n",
       "      <td>0</td>\n",
       "      <td>0</td>\n",
       "    </tr>\n",
       "  </tbody>\n",
       "</table>\n",
       "</div>"
      ],
      "text/plain": [
       "   index  subject_id   hadm_id  \\\n",
       "0      0    10000980  29654838   \n",
       "1      1    10000980  26913865   \n",
       "2      2    10000980  24947999   \n",
       "3      3    10000980  25242409   \n",
       "4      4    10000980  25911675   \n",
       "\n",
       "                               discharge_instruction  icd_E11  icd_E78  \\\n",
       "0  dear   you were admitted for shortness of brea...        1        1   \n",
       "1  dear  it was a pleasure caring for you at   as...        1        0   \n",
       "2  dear  were admitted to  on  with shortness of ...        1        1   \n",
       "3  dear it was a pleasure caring for you at  you ...        1        1   \n",
       "4  dear it was a pleasure caring for you you were...        1        0   \n",
       "\n",
       "   icd_E87  icd_F32  icd_I16  icd_I50  icd_N17  icd_Y92  icd_Z85  \n",
       "0        0        0        0        1        0        0        0  \n",
       "1        0        0        0        1        0        0        0  \n",
       "2        0        0        0        1        0        0        0  \n",
       "3        0        0        0        1        1        1        0  \n",
       "4        0        0        0        1        0        0        0  "
      ]
     },
     "execution_count": 53,
     "metadata": {},
     "output_type": "execute_result"
    }
   ],
   "source": [
    "dfbert.head()"
   ]
  },
  {
   "cell_type": "code",
   "execution_count": 186,
   "id": "20dc6dcb",
   "metadata": {},
   "outputs": [],
   "source": [
    "df = dfbert.sample(20000)"
   ]
  },
  {
   "cell_type": "code",
   "execution_count": 187,
   "id": "16fa12d4",
   "metadata": {},
   "outputs": [
    {
     "data": {
      "text/plain": [
       "10662     {'text_noise': 8.24891461649783, 'text_length'...\n",
       "20148     {'text_noise': 9.849086576648133, 'text_length...\n",
       "48182     {'text_noise': 8.468677494199536, 'text_length...\n",
       "233990    {'text_noise': 10.526315789473683, 'text_lengt...\n",
       "184243    {'text_noise': 8.620689655172415, 'text_length...\n",
       "                                ...                        \n",
       "232595    {'text_noise': 9.836065573770492, 'text_length...\n",
       "191630    {'text_noise': 10.202020202020202, 'text_lengt...\n",
       "245712    {'text_noise': 10.062893081761008, 'text_lengt...\n",
       "155060    {'text_noise': 1.9047619047619049, 'text_lengt...\n",
       "27106     {'text_noise': 8.599167822468793, 'text_length...\n",
       "Name: discharge_instruction, Length: 20000, dtype: object"
      ]
     },
     "execution_count": 187,
     "metadata": {},
     "output_type": "execute_result"
    }
   ],
   "source": [
    "df['discharge_instruction'].apply(lambda x:nt.TextFrame(x).noise_scan())"
   ]
  },
  {
   "cell_type": "code",
   "execution_count": 58,
   "id": "61026ff8",
   "metadata": {},
   "outputs": [
    {
     "data": {
      "text/plain": [
       "['BTC_ADDRESS_REGEX',\n",
       " 'CURRENCY_REGEX',\n",
       " 'CURRENCY_SYMB_REGEX',\n",
       " 'Counter',\n",
       " 'DATE_REGEX',\n",
       " 'EMAIL_REGEX',\n",
       " 'EMOJI_REGEX',\n",
       " 'HASTAG_REGEX',\n",
       " 'MASTERCard_REGEX',\n",
       " 'MD5_SHA_REGEX',\n",
       " 'MOST_COMMON_PUNCT_REGEX',\n",
       " 'NUMBERS_REGEX',\n",
       " 'PHONE_REGEX',\n",
       " 'PoBOX_REGEX',\n",
       " 'SPECIAL_CHARACTERS_REGEX',\n",
       " 'STOPWORDS',\n",
       " 'STOPWORDS_de',\n",
       " 'STOPWORDS_en',\n",
       " 'STOPWORDS_es',\n",
       " 'STOPWORDS_fr',\n",
       " 'STOPWORDS_ru',\n",
       " 'STOPWORDS_yo',\n",
       " 'STREET_ADDRESS_REGEX',\n",
       " 'TextFrame',\n",
       " 'URL_PATTERN',\n",
       " 'USER_HANDLES_REGEX',\n",
       " 'VISACard_REGEX',\n",
       " '__builtins__',\n",
       " '__cached__',\n",
       " '__doc__',\n",
       " '__file__',\n",
       " '__generate_text',\n",
       " '__loader__',\n",
       " '__name__',\n",
       " '__numbers_dict',\n",
       " '__package__',\n",
       " '__spec__',\n",
       " '_lex_richness_herdan',\n",
       " '_lex_richness_maas_ttr',\n",
       " 'clean_text',\n",
       " 'defaultdict',\n",
       " 'digit2words',\n",
       " 'extract_btc_address',\n",
       " 'extract_currencies',\n",
       " 'extract_currency_symbols',\n",
       " 'extract_dates',\n",
       " 'extract_emails',\n",
       " 'extract_emojis',\n",
       " 'extract_hashtags',\n",
       " 'extract_html_tags',\n",
       " 'extract_mastercard_addr',\n",
       " 'extract_md5sha',\n",
       " 'extract_numbers',\n",
       " 'extract_pattern',\n",
       " 'extract_phone_numbers',\n",
       " 'extract_postoffice_box',\n",
       " 'extract_shortwords',\n",
       " 'extract_special_characters',\n",
       " 'extract_stopwords',\n",
       " 'extract_street_address',\n",
       " 'extract_terms_in_bracket',\n",
       " 'extract_urls',\n",
       " 'extract_userhandles',\n",
       " 'extract_visacard_addr',\n",
       " 'fix_contractions',\n",
       " 'generate_sentence',\n",
       " 'hamming_distance',\n",
       " 'inverse_df',\n",
       " 'lexical_richness',\n",
       " 'markov_chain',\n",
       " 'math',\n",
       " 'nlargest',\n",
       " 'normalize',\n",
       " 'num2words',\n",
       " 'random',\n",
       " 're',\n",
       " 'read_txt',\n",
       " 'remove_accents',\n",
       " 'remove_bad_quotes',\n",
       " 'remove_btc_address',\n",
       " 'remove_currencies',\n",
       " 'remove_currency_symbols',\n",
       " 'remove_custom_pattern',\n",
       " 'remove_custom_words',\n",
       " 'remove_dates',\n",
       " 'remove_emails',\n",
       " 'remove_emojis',\n",
       " 'remove_hashtags',\n",
       " 'remove_html_tags',\n",
       " 'remove_mastercard_addr',\n",
       " 'remove_md5sha',\n",
       " 'remove_multiple_spaces',\n",
       " 'remove_non_ascii',\n",
       " 'remove_numbers',\n",
       " 'remove_phone_numbers',\n",
       " 'remove_postoffice_box',\n",
       " 'remove_puncts',\n",
       " 'remove_punctuations',\n",
       " 'remove_shortwords',\n",
       " 'remove_special_characters',\n",
       " 'remove_stopwords',\n",
       " 'remove_street_address',\n",
       " 'remove_terms_in_bracket',\n",
       " 'remove_urls',\n",
       " 'remove_userhandles',\n",
       " 'remove_visacard_addr',\n",
       " 'replace_bad_quotes',\n",
       " 'replace_currencies',\n",
       " 'replace_currency_symbols',\n",
       " 'replace_dates',\n",
       " 'replace_emails',\n",
       " 'replace_emojis',\n",
       " 'replace_numbers',\n",
       " 'replace_phone_numbers',\n",
       " 'replace_special_characters',\n",
       " 'replace_term',\n",
       " 'replace_urls',\n",
       " 'string',\n",
       " 'term_freq',\n",
       " 'to_txt',\n",
       " 'unicodedata',\n",
       " 'word_freq',\n",
       " 'word_length_freq']"
      ]
     },
     "execution_count": 58,
     "metadata": {},
     "output_type": "execute_result"
    }
   ],
   "source": [
    "dir(nfx)"
   ]
  },
  {
   "cell_type": "code",
   "execution_count": 64,
   "id": "418ab49a",
   "metadata": {},
   "outputs": [
    {
     "data": {
      "text/plain": [
       "157717       [3]\n",
       "181585     [101]\n",
       "208598     [101]\n",
       "198283       [8]\n",
       "244785    [4, 3]\n",
       "           ...  \n",
       "230320        []\n",
       "132156        []\n",
       "16180        [3]\n",
       "230590        []\n",
       "10364         []\n",
       "Name: discharge_instruction, Length: 1000, dtype: object"
      ]
     },
     "execution_count": 64,
     "metadata": {},
     "output_type": "execute_result"
    }
   ],
   "source": [
    "df['discharge_instruction'].apply(lambda x:nt.TextExtractor(x).extract_stopwords())\n",
    "df['discharge_instruction'].apply(lambda x:nt.TextExtractor(x).extract_numbers())"
   ]
  },
  {
   "cell_type": "code",
   "execution_count": null,
   "id": "12b35e3b",
   "metadata": {},
   "outputs": [],
   "source": [
    "# remove_multiple_spaces\n",
    "# remove_numbers\n",
    "# remove_punctuations\n",
    "# remove_special_characters\n",
    "# remove_stopwords\n",
    "# remove_street_address"
   ]
  },
  {
   "cell_type": "code",
   "execution_count": 188,
   "id": "8cace60b",
   "metadata": {},
   "outputs": [],
   "source": [
    "#clenaing the feature\n",
    "df['text']= df['discharge_instruction'].apply(nfx.remove_multiple_spaces, \n",
    "                                 nfx.remove_numbers)\n",
    "df['text'] = df['text'].apply(nfx.remove_punctuations,\n",
    "                                 nfx.remove_special_characters)\n",
    "df['text'] = df['text'].apply(nfx.remove_stopwords,\n",
    "                                 nfx.remove_street_address)"
   ]
  },
  {
   "cell_type": "code",
   "execution_count": 189,
   "id": "b5b6cc46",
   "metadata": {},
   "outputs": [],
   "source": [
    "corpus = df['text']"
   ]
  },
  {
   "cell_type": "code",
   "execution_count": 178,
   "id": "8a191fea",
   "metadata": {},
   "outputs": [
    {
     "data": {
      "text/plain": [
       "pandas.core.series.Series"
      ]
     },
     "execution_count": 178,
     "metadata": {},
     "output_type": "execute_result"
    }
   ],
   "source": [
    "type(corpus)"
   ]
  },
  {
   "cell_type": "code",
   "execution_count": 190,
   "id": "17d0805d",
   "metadata": {},
   "outputs": [],
   "source": [
    "tfidf = TfidfVectorizer() #tokenizer "
   ]
  },
  {
   "cell_type": "code",
   "execution_count": 191,
   "id": "88b192be",
   "metadata": {},
   "outputs": [],
   "source": [
    "xfeatures = tfidf.fit_transform(corpus).toarray() #feature selection"
   ]
  },
  {
   "cell_type": "code",
   "execution_count": 192,
   "id": "2c57969a",
   "metadata": {},
   "outputs": [],
   "source": [
    "df.columns\n",
    "y = df[['icd_E11',\n",
    "       'icd_E78', 'icd_E87', 'icd_F32', 'icd_I16', 'icd_I50', 'icd_N17',\n",
    "       'icd_Y92', 'icd_Z85',]]"
   ]
  },
  {
   "cell_type": "code",
   "execution_count": 193,
   "id": "fe4b025b",
   "metadata": {},
   "outputs": [],
   "source": [
    "X_train, X_test, y_train, y_test= train_test_split(xfeatures, y, \n",
    "                                                   random_state=42, test_size=0.33, shuffle=True)"
   ]
  },
  {
   "cell_type": "code",
   "execution_count": 194,
   "id": "b2341531",
   "metadata": {},
   "outputs": [],
   "source": [
    "#BinaryRelevance classifier\n",
    "\n",
    "binary_rel_clf = BinaryRelevance(MultinomialNB())\n",
    "binary_logreg = BinaryRelevance(LogisticRegression())\n",
    "\n",
    "classifier_chain_nb = ClassifierChain(MultinomialNB())\n",
    "classifier_chain_logreg = ClassifierChain(LogisticRegression())\n",
    "\n",
    "label_powerset_nb = LabelPowerset(MultinomialNB())\n",
    "label_powerset_logreg = LabelPowerset(LogisticRegression()) "
   ]
  },
  {
   "cell_type": "code",
   "execution_count": 132,
   "id": "bd559905",
   "metadata": {},
   "outputs": [],
   "source": [
    "# y_true = y_test.to_numpy()"
   ]
  },
  {
   "cell_type": "code",
   "execution_count": 195,
   "id": "f5c2872d",
   "metadata": {},
   "outputs": [
    {
     "name": "stdout",
     "output_type": "stream",
     "text": [
      "0.02878787878787879\n",
      "0.24737373737373738\n"
     ]
    }
   ],
   "source": [
    "binary_rel_clf.fit(X_train, y_train)\n",
    "br_pred = binary_rel_clf.predict(X_test)\n",
    "print(accuracy_score(y_test, br_pred))\n",
    "# print(Accuracy(y_true, br_pred))\n",
    "print(Hamming_Loss(y_test.to_numpy(), br_pred))"
   ]
  },
  {
   "cell_type": "code",
   "execution_count": 197,
   "id": "3e39df5a",
   "metadata": {},
   "outputs": [
    {
     "name": "stderr",
     "output_type": "stream",
     "text": [
      "C:\\Users\\upadh\\anaconda3\\lib\\site-packages\\sklearn\\linear_model\\_logistic.py:458: ConvergenceWarning: lbfgs failed to converge (status=1):\n",
      "STOP: TOTAL NO. of ITERATIONS REACHED LIMIT.\n",
      "\n",
      "Increase the number of iterations (max_iter) or scale the data as shown in:\n",
      "    https://scikit-learn.org/stable/modules/preprocessing.html\n",
      "Please also refer to the documentation for alternative solver options:\n",
      "    https://scikit-learn.org/stable/modules/linear_model.html#logistic-regression\n",
      "  n_iter_i = _check_optimize_result(\n",
      "C:\\Users\\upadh\\anaconda3\\lib\\site-packages\\sklearn\\linear_model\\_logistic.py:458: ConvergenceWarning: lbfgs failed to converge (status=1):\n",
      "STOP: TOTAL NO. of ITERATIONS REACHED LIMIT.\n",
      "\n",
      "Increase the number of iterations (max_iter) or scale the data as shown in:\n",
      "    https://scikit-learn.org/stable/modules/preprocessing.html\n",
      "Please also refer to the documentation for alternative solver options:\n",
      "    https://scikit-learn.org/stable/modules/linear_model.html#logistic-regression\n",
      "  n_iter_i = _check_optimize_result(\n"
     ]
    },
    {
     "name": "stdout",
     "output_type": "stream",
     "text": [
      "0.07469696969696969\n",
      "0.2317003367003367\n"
     ]
    }
   ],
   "source": [
    "binary_logreg.fit(X_train, y_train)\n",
    "blog_pred = binary_logreg.predict(X_test)\n",
    "print(accuracy_score(y_test, blog_pred))\n",
    "# print(Accuracy(y_true, br_pred))\n",
    "print(Hamming_Loss(y_test.to_numpy(), blog_pred))"
   ]
  },
  {
   "cell_type": "code",
   "execution_count": 198,
   "id": "30612083",
   "metadata": {},
   "outputs": [
    {
     "name": "stdout",
     "output_type": "stream",
     "text": [
      "0.030303030303030304\n",
      "0.24668350168350167\n"
     ]
    }
   ],
   "source": [
    "classifier_chain_nb.fit(X_train, y_train)\n",
    "ccnb_pred = classifier_chain_nb.predict(X_test)\n",
    "print(accuracy_score(y_test, ccnb_pred))\n",
    "# print(Accuracy(y_true, br_pred))\n",
    "print(Hamming_Loss(y_test.to_numpy(), ccnb_pred))"
   ]
  },
  {
   "cell_type": "code",
   "execution_count": 199,
   "id": "5bc58ce4",
   "metadata": {},
   "outputs": [
    {
     "name": "stderr",
     "output_type": "stream",
     "text": [
      "C:\\Users\\upadh\\anaconda3\\lib\\site-packages\\sklearn\\linear_model\\_logistic.py:458: ConvergenceWarning: lbfgs failed to converge (status=1):\n",
      "STOP: TOTAL NO. of ITERATIONS REACHED LIMIT.\n",
      "\n",
      "Increase the number of iterations (max_iter) or scale the data as shown in:\n",
      "    https://scikit-learn.org/stable/modules/preprocessing.html\n",
      "Please also refer to the documentation for alternative solver options:\n",
      "    https://scikit-learn.org/stable/modules/linear_model.html#logistic-regression\n",
      "  n_iter_i = _check_optimize_result(\n",
      "C:\\Users\\upadh\\anaconda3\\lib\\site-packages\\sklearn\\linear_model\\_logistic.py:458: ConvergenceWarning: lbfgs failed to converge (status=1):\n",
      "STOP: TOTAL NO. of ITERATIONS REACHED LIMIT.\n",
      "\n",
      "Increase the number of iterations (max_iter) or scale the data as shown in:\n",
      "    https://scikit-learn.org/stable/modules/preprocessing.html\n",
      "Please also refer to the documentation for alternative solver options:\n",
      "    https://scikit-learn.org/stable/modules/linear_model.html#logistic-regression\n",
      "  n_iter_i = _check_optimize_result(\n",
      "C:\\Users\\upadh\\anaconda3\\lib\\site-packages\\sklearn\\linear_model\\_logistic.py:458: ConvergenceWarning: lbfgs failed to converge (status=1):\n",
      "STOP: TOTAL NO. of ITERATIONS REACHED LIMIT.\n",
      "\n",
      "Increase the number of iterations (max_iter) or scale the data as shown in:\n",
      "    https://scikit-learn.org/stable/modules/preprocessing.html\n",
      "Please also refer to the documentation for alternative solver options:\n",
      "    https://scikit-learn.org/stable/modules/linear_model.html#logistic-regression\n",
      "  n_iter_i = _check_optimize_result(\n",
      "C:\\Users\\upadh\\anaconda3\\lib\\site-packages\\sklearn\\linear_model\\_logistic.py:458: ConvergenceWarning: lbfgs failed to converge (status=1):\n",
      "STOP: TOTAL NO. of ITERATIONS REACHED LIMIT.\n",
      "\n",
      "Increase the number of iterations (max_iter) or scale the data as shown in:\n",
      "    https://scikit-learn.org/stable/modules/preprocessing.html\n",
      "Please also refer to the documentation for alternative solver options:\n",
      "    https://scikit-learn.org/stable/modules/linear_model.html#logistic-regression\n",
      "  n_iter_i = _check_optimize_result(\n",
      "C:\\Users\\upadh\\anaconda3\\lib\\site-packages\\sklearn\\linear_model\\_logistic.py:458: ConvergenceWarning: lbfgs failed to converge (status=1):\n",
      "STOP: TOTAL NO. of ITERATIONS REACHED LIMIT.\n",
      "\n",
      "Increase the number of iterations (max_iter) or scale the data as shown in:\n",
      "    https://scikit-learn.org/stable/modules/preprocessing.html\n",
      "Please also refer to the documentation for alternative solver options:\n",
      "    https://scikit-learn.org/stable/modules/linear_model.html#logistic-regression\n",
      "  n_iter_i = _check_optimize_result(\n",
      "C:\\Users\\upadh\\anaconda3\\lib\\site-packages\\sklearn\\linear_model\\_logistic.py:458: ConvergenceWarning: lbfgs failed to converge (status=1):\n",
      "STOP: TOTAL NO. of ITERATIONS REACHED LIMIT.\n",
      "\n",
      "Increase the number of iterations (max_iter) or scale the data as shown in:\n",
      "    https://scikit-learn.org/stable/modules/preprocessing.html\n",
      "Please also refer to the documentation for alternative solver options:\n",
      "    https://scikit-learn.org/stable/modules/linear_model.html#logistic-regression\n",
      "  n_iter_i = _check_optimize_result(\n",
      "C:\\Users\\upadh\\anaconda3\\lib\\site-packages\\sklearn\\linear_model\\_logistic.py:458: ConvergenceWarning: lbfgs failed to converge (status=1):\n",
      "STOP: TOTAL NO. of ITERATIONS REACHED LIMIT.\n",
      "\n",
      "Increase the number of iterations (max_iter) or scale the data as shown in:\n",
      "    https://scikit-learn.org/stable/modules/preprocessing.html\n",
      "Please also refer to the documentation for alternative solver options:\n",
      "    https://scikit-learn.org/stable/modules/linear_model.html#logistic-regression\n",
      "  n_iter_i = _check_optimize_result(\n",
      "C:\\Users\\upadh\\anaconda3\\lib\\site-packages\\sklearn\\linear_model\\_logistic.py:458: ConvergenceWarning: lbfgs failed to converge (status=1):\n",
      "STOP: TOTAL NO. of ITERATIONS REACHED LIMIT.\n",
      "\n",
      "Increase the number of iterations (max_iter) or scale the data as shown in:\n",
      "    https://scikit-learn.org/stable/modules/preprocessing.html\n",
      "Please also refer to the documentation for alternative solver options:\n",
      "    https://scikit-learn.org/stable/modules/linear_model.html#logistic-regression\n",
      "  n_iter_i = _check_optimize_result(\n"
     ]
    },
    {
     "name": "stdout",
     "output_type": "stream",
     "text": [
      "0.0796969696969697\n",
      "0.2321885521885522\n"
     ]
    }
   ],
   "source": [
    "classifier_chain_logreg.fit(X_train, y_train)\n",
    "cclog_pred = classifier_chain_logreg.predict(X_test)\n",
    "print(accuracy_score(y_test, cclog_pred))\n",
    "# print(Accuracy(y_true, br_pred))\n",
    "print(Hamming_Loss(y_test.to_numpy(), cclog_pred))"
   ]
  },
  {
   "cell_type": "code",
   "execution_count": 200,
   "id": "a3003d60",
   "metadata": {},
   "outputs": [
    {
     "name": "stdout",
     "output_type": "stream",
     "text": [
      "0.09136363636363637\n",
      "0.25996632996632996\n"
     ]
    }
   ],
   "source": [
    "label_powerset_nb.fit(X_train, y_train)\n",
    "lpsnb_pred = label_powerset_nb.predict(X_test)\n",
    "print(accuracy_score(y_test, lpsnb_pred))\n",
    "# print(Accuracy(y_true, br_pred))\n",
    "print(Hamming_Loss(y_test.to_numpy(), lpsnb_pred))"
   ]
  },
  {
   "cell_type": "code",
   "execution_count": 201,
   "id": "33a96bc2",
   "metadata": {},
   "outputs": [
    {
     "name": "stderr",
     "output_type": "stream",
     "text": [
      "C:\\Users\\upadh\\anaconda3\\lib\\site-packages\\sklearn\\linear_model\\_logistic.py:458: ConvergenceWarning: lbfgs failed to converge (status=1):\n",
      "STOP: TOTAL NO. of ITERATIONS REACHED LIMIT.\n",
      "\n",
      "Increase the number of iterations (max_iter) or scale the data as shown in:\n",
      "    https://scikit-learn.org/stable/modules/preprocessing.html\n",
      "Please also refer to the documentation for alternative solver options:\n",
      "    https://scikit-learn.org/stable/modules/linear_model.html#logistic-regression\n",
      "  n_iter_i = _check_optimize_result(\n"
     ]
    },
    {
     "name": "stdout",
     "output_type": "stream",
     "text": [
      "0.10742424242424242\n",
      "0.2528956228956229\n"
     ]
    }
   ],
   "source": [
    "label_powerset_logreg.fit(X_train, y_train)\n",
    "lpslog_pred = label_powerset_logreg.predict(X_test)\n",
    "print(accuracy_score(y_test, lpslog_pred))\n",
    "# print(Accuracy(y_true, br_pred))\n",
    "print(Hamming_Loss(y_test.to_numpy(), lpslog_pred))"
   ]
  },
  {
   "cell_type": "code",
   "execution_count": 150,
   "id": "670e078d",
   "metadata": {},
   "outputs": [
    {
     "data": {
      "text/plain": [
       "array([[1, 0, 0, ..., 0, 0, 1],\n",
       "       [1, 0, 0, ..., 1, 0, 0],\n",
       "       [1, 1, 0, ..., 0, 1, 0],\n",
       "       ...,\n",
       "       [0, 1, 0, ..., 0, 1, 0],\n",
       "       [1, 1, 0, ..., 0, 0, 0],\n",
       "       [0, 1, 1, ..., 0, 0, 1]], dtype=int64)"
      ]
     },
     "execution_count": 150,
     "metadata": {},
     "output_type": "execute_result"
    }
   ],
   "source": [
    "y_test.to_numpy()"
   ]
  },
  {
   "cell_type": "code",
   "execution_count": 147,
   "id": "3c134a2f",
   "metadata": {},
   "outputs": [
    {
     "data": {
      "text/plain": [
       "array([[0, 0, 0, ..., 0, 0, 0],\n",
       "       [0, 1, 0, ..., 0, 0, 0],\n",
       "       [0, 0, 0, ..., 0, 0, 0],\n",
       "       ...,\n",
       "       [0, 1, 0, ..., 0, 0, 0],\n",
       "       [0, 1, 0, ..., 0, 0, 0],\n",
       "       [0, 0, 0, ..., 0, 0, 0]], dtype=int64)"
      ]
     },
     "execution_count": 147,
     "metadata": {},
     "output_type": "execute_result"
    }
   ],
   "source": [
    "blog_pred.toarray()"
   ]
  },
  {
   "cell_type": "code",
   "execution_count": 146,
   "id": "c4f51dd4",
   "metadata": {},
   "outputs": [
    {
     "data": {
      "text/plain": [
       "array([[0, 0, 0, ..., 0, 0, 0],\n",
       "       [0, 1, 0, ..., 0, 0, 0],\n",
       "       [0, 0, 0, ..., 0, 0, 0],\n",
       "       ...,\n",
       "       [0, 0, 0, ..., 0, 1, 0],\n",
       "       [0, 1, 0, ..., 0, 0, 0],\n",
       "       [0, 0, 0, ..., 0, 0, 0]], dtype=int64)"
      ]
     },
     "execution_count": 146,
     "metadata": {},
     "output_type": "execute_result"
    }
   ],
   "source": [
    "lpslog_pred.toarray()"
   ]
  },
  {
   "cell_type": "code",
   "execution_count": null,
   "id": "e96228b5",
   "metadata": {},
   "outputs": [],
   "source": []
  },
  {
   "cell_type": "code",
   "execution_count": null,
   "id": "5e9e5520",
   "metadata": {},
   "outputs": [],
   "source": []
  },
  {
   "cell_type": "code",
   "execution_count": null,
   "id": "f9f1104f",
   "metadata": {},
   "outputs": [],
   "source": []
  }
 ],
 "metadata": {
  "kernelspec": {
   "display_name": "Python 3 (ipykernel)",
   "language": "python",
   "name": "python3"
  },
  "language_info": {
   "codemirror_mode": {
    "name": "ipython",
    "version": 3
   },
   "file_extension": ".py",
   "mimetype": "text/x-python",
   "name": "python",
   "nbconvert_exporter": "python",
   "pygments_lexer": "ipython3",
   "version": "3.9.16"
  }
 },
 "nbformat": 4,
 "nbformat_minor": 5
}
